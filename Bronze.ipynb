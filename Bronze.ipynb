{
 "cells": [
  {
   "cell_type": "markdown",
   "metadata": {
    "application/vnd.databricks.v1+cell": {
     "cellMetadata": {},
     "inputWidgets": {},
     "nuid": "650b2d73-3003-42b1-af44-721a47879f92",
     "showTitle": false,
     "tableResultSettingsMap": {},
     "title": ""
    }
   },
   "source": [
    "# Staging Layer transient"
   ]
  },
  {
   "cell_type": "code",
   "execution_count": 0,
   "metadata": {
    "application/vnd.databricks.v1+cell": {
     "cellMetadata": {
      "byteLimit": 2048000,
      "rowLimit": 10000
     },
     "inputWidgets": {},
     "nuid": "e4611839-2d6e-43cf-9c5a-ac896df93c61",
     "showTitle": false,
     "tableResultSettingsMap": {},
     "title": ""
    }
   },
   "outputs": [],
   "source": [
    "if spark.catalog.tableExists(\"datamodeling.bronze.bronze_table\"):\n",
    "  last_load_date = spark.sql(\"SELECT max(order_date) FROM datamodeling.bronze.bronze_table\").collect()[0][0]\n",
    "else:\n",
    "    last_load_date = '1998-03-19'"
   ]
  },
  {
   "cell_type": "code",
   "execution_count": 0,
   "metadata": {
    "application/vnd.databricks.v1+cell": {
     "cellMetadata": {
      "byteLimit": 2048000,
      "rowLimit": 10000
     },
     "inputWidgets": {},
     "nuid": "52d327e6-5a2c-423c-b803-36f7597b743a",
     "showTitle": false,
     "tableResultSettingsMap": {},
     "title": ""
    }
   },
   "outputs": [
    {
     "output_type": "execute_result",
     "data": {
      "text/plain": [
       "datetime.date(2025, 7, 3)"
      ]
     },
     "execution_count": 10,
     "metadata": {},
     "output_type": "execute_result"
    }
   ],
   "source": [
    "last_load_date"
   ]
  },
  {
   "cell_type": "code",
   "execution_count": 0,
   "metadata": {
    "application/vnd.databricks.v1+cell": {
     "cellMetadata": {
      "byteLimit": 2048000,
      "rowLimit": 10000
     },
     "inputWidgets": {},
     "nuid": "a1f101a2-359d-453a-9d56-2bc26ffc2a71",
     "showTitle": false,
     "tableResultSettingsMap": {},
     "title": ""
    }
   },
   "outputs": [],
   "source": [
    "spark.sql(f\"\"\"SELECT * FROM datamodeling.default.source_data\n",
    "WHERE order_date > CAST('{last_load_date}' AS DATE)\"\"\").createOrReplaceTempView(\"bronze_source_data\")"
   ]
  },
  {
   "cell_type": "code",
   "execution_count": 0,
   "metadata": {
    "application/vnd.databricks.v1+cell": {
     "cellMetadata": {
      "byteLimit": 2048000,
      "implicitDf": true,
      "rowLimit": 10000
     },
     "inputWidgets": {},
     "nuid": "c8c31268-bb61-4888-8066-c5070df49461",
     "showTitle": false,
     "tableResultSettingsMap": {},
     "title": ""
    }
   },
   "outputs": [
    {
     "output_type": "display_data",
     "data": {
      "text/html": [
       "<style scoped>\n",
       "  .table-result-container {\n",
       "    max-height: 300px;\n",
       "    overflow: auto;\n",
       "  }\n",
       "  table, th, td {\n",
       "    border: 1px solid black;\n",
       "    border-collapse: collapse;\n",
       "  }\n",
       "  th, td {\n",
       "    padding: 5px;\n",
       "  }\n",
       "  th {\n",
       "    text-align: left;\n",
       "  }\n",
       "</style><div class='table-result-container'><table class='table-result'><thead style='background-color: white'><tr><th>order_id</th><th>order_date</th><th>customer_id</th><th>customer_name</th><th>custumee_email</th><th>product_id</th><th>product_name</th><th>product_category</th><th>quantity</th><th>unit_price</th><th>payment_type</th><th>country</th><th>last_updated</th></tr></thead><tbody><tr><td>1004</td><td>2025-07-04</td><td>4</td><td>Thando Ndlovu</td><td>thando@example.com</td><td>504</td><td>Dell XPS 13</td><td>Electronics</td><td>1</td><td>1299.99</td><td>Credit Card</td><td>RSA</td><td>2025-07-04</td></tr><tr><td>1005</td><td>2025-07-05</td><td>5</td><td>Sipho Mokoena</td><td>sipho@example.com</td><td>505</td><td>Nike Air Max</td><td>Apparel</td><td>2</td><td>299.99</td><td>PayPal</td><td>RSA</td><td>2025-07-05</td></tr><tr><td>1006</td><td>2025-07-06</td><td>6</td><td>Karabo Sithole</td><td>karabo@example.com</td><td>506</td><td>Samsung TV 55\"</td><td>Electronics</td><td>1</td><td>899.99</td><td>Credit Card</td><td>RSA</td><td>2025-07-06</td></tr><tr><td>1007</td><td>2025-07-07</td><td>7</td><td>Boitumelo Dlamini</td><td>boitumelo@example.com</td><td>507</td><td>Adidas Hoodie</td><td>Apparel</td><td>3</td><td>149.99</td><td>Google Pay</td><td>RSA</td><td>2025-07-07</td></tr><tr><td>1008</td><td>2025-07-08</td><td>8</td><td>Lehlohonolo Mabuza</td><td>lehlohonolo@example.com</td><td>508</td><td>Canon EOS 90D</td><td>Electronics</td><td>1</td><td>1099.99</td><td>Credit Card</td><td>RSA</td><td>2025-07-08</td></tr><tr><td>1009</td><td>2025-07-09</td><td>9</td><td>Naledi Khumalo</td><td>naledi@example.com</td><td>509</td><td>Zara Jacket</td><td>Apparel</td><td>1</td><td>199.99</td><td>PayPal</td><td>RSA</td><td>2025-07-09</td></tr><tr><td>1010</td><td>2025-07-10</td><td>10</td><td>Tshepo Mthembu</td><td>tshepo@example.com</td><td>510</td><td>MacBook Pro 14\"</td><td>Electronics</td><td>1</td><td>2499.99</td><td>Apple Pay</td><td>RSA</td><td>2025-07-10</td></tr><tr><td>1011</td><td>2025-07-11</td><td>11</td><td>Refilwe Nkosi</td><td>refilwe@example.com</td><td>511</td><td>iPad Air</td><td>Electronics</td><td>2</td><td>799.99</td><td>Google Pay</td><td>RSA</td><td>2025-07-11</td></tr><tr><td>1012</td><td>2025-07-12</td><td>12</td><td>Mpho Sekhukhune</td><td>mpho@example.com</td><td>512</td><td>Reebok Classic</td><td>Apparel</td><td>1</td><td>119.99</td><td>Credit Card</td><td>RSA</td><td>2025-07-12</td></tr><tr><td>1013</td><td>2025-07-13</td><td>13</td><td>Kagiso Motsepe</td><td>kagiso@example.com</td><td>513</td><td>GoPro Hero 12</td><td>Electronics</td><td>1</td><td>499.99</td><td>PayPal</td><td>RSA</td><td>2025-07-13</td></tr><tr><td>1014</td><td>2025-07-14</td><td>14</td><td>Zanele Mhlongo</td><td>zanele@example.com</td><td>514</td><td>Sony WH-1000XM5</td><td>Electronics</td><td>1</td><td>399.99</td><td>Credit Card</td><td>RSA</td><td>2025-07-14</td></tr><tr><td>1015</td><td>2025-07-15</td><td>15</td><td>Lerato Mashaba</td><td>lerato@example.com</td><td>515</td><td>Asics Gel-Kayano</td><td>Apparel</td><td>2</td><td>249.99</td><td>Google Pay</td><td>RSA</td><td>2025-07-15</td></tr><tr><td>1016</td><td>2025-07-16</td><td>16</td><td>Andile Nxumalo</td><td>andile@example.com</td><td>516</td><td>Fitbit Versa 4</td><td>Electronics</td><td>1</td><td>229.99</td><td>Apple Pay</td><td>RSA</td><td>2025-07-16</td></tr><tr><td>1017</td><td>2025-07-17</td><td>17</td><td>Nokuthula Shongwe</td><td>nokuthula@example.com</td><td>517</td><td>HP Spectre x360</td><td>Electronics</td><td>1</td><td>1599.99</td><td>Credit Card</td><td>RSA</td><td>2025-07-17</td></tr><tr><td>1018</td><td>2025-07-18</td><td>18</td><td>Thabang Zulu</td><td>thabang@example.com</td><td>518</td><td>Xbox Series X</td><td>Electronics</td><td>1</td><td>499.99</td><td>PayPal</td><td>RSA</td><td>2025-07-18</td></tr><tr><td>1019</td><td>2025-07-19</td><td>19</td><td>Kelebogile Dube</td><td>kelebogile@example.com</td><td>519</td><td>H&M Sweatshirt</td><td>Apparel</td><td>3</td><td>89.99</td><td>Google Pay</td><td>RSA</td><td>2025-07-19</td></tr><tr><td>1020</td><td>2025-07-20</td><td>20</td><td>Sibongile Mazibuko</td><td>sibongile@example.com</td><td>520</td><td>Huawei MateBook D15</td><td>Electronics</td><td>1</td><td>1099.99</td><td>Credit Card</td><td>RSA</td><td>2025-07-20</td></tr></tbody></table></div>"
      ]
     },
     "metadata": {
      "application/vnd.databricks.v1+output": {
       "addedWidgets": {},
       "aggData": [],
       "aggError": "",
       "aggOverflow": false,
       "aggSchema": [],
       "aggSeriesLimitReached": false,
       "aggType": "",
       "arguments": {},
       "columnCustomDisplayInfos": {},
       "data": [
        [
         1004,
         "2025-07-04",
         4,
         "Thando Ndlovu",
         "thando@example.com",
         504,
         "Dell XPS 13",
         "Electronics",
         1,
         "1299.99",
         "Credit Card",
         "RSA",
         "2025-07-04"
        ],
        [
         1005,
         "2025-07-05",
         5,
         "Sipho Mokoena",
         "sipho@example.com",
         505,
         "Nike Air Max",
         "Apparel",
         2,
         "299.99",
         "PayPal",
         "RSA",
         "2025-07-05"
        ],
        [
         1006,
         "2025-07-06",
         6,
         "Karabo Sithole",
         "karabo@example.com",
         506,
         "Samsung TV 55\"",
         "Electronics",
         1,
         "899.99",
         "Credit Card",
         "RSA",
         "2025-07-06"
        ],
        [
         1007,
         "2025-07-07",
         7,
         "Boitumelo Dlamini",
         "boitumelo@example.com",
         507,
         "Adidas Hoodie",
         "Apparel",
         3,
         "149.99",
         "Google Pay",
         "RSA",
         "2025-07-07"
        ],
        [
         1008,
         "2025-07-08",
         8,
         "Lehlohonolo Mabuza",
         "lehlohonolo@example.com",
         508,
         "Canon EOS 90D",
         "Electronics",
         1,
         "1099.99",
         "Credit Card",
         "RSA",
         "2025-07-08"
        ],
        [
         1009,
         "2025-07-09",
         9,
         "Naledi Khumalo",
         "naledi@example.com",
         509,
         "Zara Jacket",
         "Apparel",
         1,
         "199.99",
         "PayPal",
         "RSA",
         "2025-07-09"
        ],
        [
         1010,
         "2025-07-10",
         10,
         "Tshepo Mthembu",
         "tshepo@example.com",
         510,
         "MacBook Pro 14\"",
         "Electronics",
         1,
         "2499.99",
         "Apple Pay",
         "RSA",
         "2025-07-10"
        ],
        [
         1011,
         "2025-07-11",
         11,
         "Refilwe Nkosi",
         "refilwe@example.com",
         511,
         "iPad Air",
         "Electronics",
         2,
         "799.99",
         "Google Pay",
         "RSA",
         "2025-07-11"
        ],
        [
         1012,
         "2025-07-12",
         12,
         "Mpho Sekhukhune",
         "mpho@example.com",
         512,
         "Reebok Classic",
         "Apparel",
         1,
         "119.99",
         "Credit Card",
         "RSA",
         "2025-07-12"
        ],
        [
         1013,
         "2025-07-13",
         13,
         "Kagiso Motsepe",
         "kagiso@example.com",
         513,
         "GoPro Hero 12",
         "Electronics",
         1,
         "499.99",
         "PayPal",
         "RSA",
         "2025-07-13"
        ],
        [
         1014,
         "2025-07-14",
         14,
         "Zanele Mhlongo",
         "zanele@example.com",
         514,
         "Sony WH-1000XM5",
         "Electronics",
         1,
         "399.99",
         "Credit Card",
         "RSA",
         "2025-07-14"
        ],
        [
         1015,
         "2025-07-15",
         15,
         "Lerato Mashaba",
         "lerato@example.com",
         515,
         "Asics Gel-Kayano",
         "Apparel",
         2,
         "249.99",
         "Google Pay",
         "RSA",
         "2025-07-15"
        ],
        [
         1016,
         "2025-07-16",
         16,
         "Andile Nxumalo",
         "andile@example.com",
         516,
         "Fitbit Versa 4",
         "Electronics",
         1,
         "229.99",
         "Apple Pay",
         "RSA",
         "2025-07-16"
        ],
        [
         1017,
         "2025-07-17",
         17,
         "Nokuthula Shongwe",
         "nokuthula@example.com",
         517,
         "HP Spectre x360",
         "Electronics",
         1,
         "1599.99",
         "Credit Card",
         "RSA",
         "2025-07-17"
        ],
        [
         1018,
         "2025-07-18",
         18,
         "Thabang Zulu",
         "thabang@example.com",
         518,
         "Xbox Series X",
         "Electronics",
         1,
         "499.99",
         "PayPal",
         "RSA",
         "2025-07-18"
        ],
        [
         1019,
         "2025-07-19",
         19,
         "Kelebogile Dube",
         "kelebogile@example.com",
         519,
         "H&M Sweatshirt",
         "Apparel",
         3,
         "89.99",
         "Google Pay",
         "RSA",
         "2025-07-19"
        ],
        [
         1020,
         "2025-07-20",
         20,
         "Sibongile Mazibuko",
         "sibongile@example.com",
         520,
         "Huawei MateBook D15",
         "Electronics",
         1,
         "1099.99",
         "Credit Card",
         "RSA",
         "2025-07-20"
        ]
       ],
       "datasetInfos": [
        {
         "name": "_sqldf",
         "schema": {
          "fields": [
           {
            "metadata": {},
            "name": "order_id",
            "nullable": false,
            "type": "integer"
           },
           {
            "metadata": {},
            "name": "order_date",
            "nullable": true,
            "type": "date"
           },
           {
            "metadata": {},
            "name": "customer_id",
            "nullable": true,
            "type": "integer"
           },
           {
            "metadata": {
             "__CHAR_VARCHAR_TYPE_STRING": "varchar(100)"
            },
            "name": "customer_name",
            "nullable": true,
            "type": "string"
           },
           {
            "metadata": {
             "__CHAR_VARCHAR_TYPE_STRING": "varchar(100)"
            },
            "name": "custumee_email",
            "nullable": true,
            "type": "string"
           },
           {
            "metadata": {},
            "name": "product_id",
            "nullable": true,
            "type": "integer"
           },
           {
            "metadata": {
             "__CHAR_VARCHAR_TYPE_STRING": "varchar(100)"
            },
            "name": "product_name",
            "nullable": true,
            "type": "string"
           },
           {
            "metadata": {
             "__CHAR_VARCHAR_TYPE_STRING": "varchar(50)"
            },
            "name": "product_category",
            "nullable": true,
            "type": "string"
           },
           {
            "metadata": {},
            "name": "quantity",
            "nullable": true,
            "type": "integer"
           },
           {
            "metadata": {},
            "name": "unit_price",
            "nullable": true,
            "type": "decimal(10,2)"
           },
           {
            "metadata": {
             "__CHAR_VARCHAR_TYPE_STRING": "varchar(50)"
            },
            "name": "payment_type",
            "nullable": true,
            "type": "string"
           },
           {
            "metadata": {
             "__CHAR_VARCHAR_TYPE_STRING": "varchar(50)"
            },
            "name": "country",
            "nullable": true,
            "type": "string"
           },
           {
            "metadata": {},
            "name": "last_updated",
            "nullable": true,
            "type": "date"
           }
          ],
          "type": "struct"
         },
         "tableIdentifier": null,
         "typeStr": "pyspark.sql.connect.dataframe.DataFrame"
        }
       ],
       "dbfsResultPath": null,
       "isJsonSchema": true,
       "metadata": {
        "createTempViewForImplicitDf": true,
        "dataframeName": "_sqldf",
        "executionCount": 13
       },
       "overflow": false,
       "plotOptions": {
        "customPlotOptions": {},
        "displayType": "table",
        "pivotAggregation": null,
        "pivotColumns": null,
        "xColumns": null,
        "yColumns": null
       },
       "removedWidgets": [],
       "schema": [
        {
         "metadata": "{}",
         "name": "order_id",
         "type": "\"integer\""
        },
        {
         "metadata": "{}",
         "name": "order_date",
         "type": "\"date\""
        },
        {
         "metadata": "{}",
         "name": "customer_id",
         "type": "\"integer\""
        },
        {
         "metadata": "{\"__CHAR_VARCHAR_TYPE_STRING\": \"varchar(100)\"}",
         "name": "customer_name",
         "type": "\"string\""
        },
        {
         "metadata": "{\"__CHAR_VARCHAR_TYPE_STRING\": \"varchar(100)\"}",
         "name": "custumee_email",
         "type": "\"string\""
        },
        {
         "metadata": "{}",
         "name": "product_id",
         "type": "\"integer\""
        },
        {
         "metadata": "{\"__CHAR_VARCHAR_TYPE_STRING\": \"varchar(100)\"}",
         "name": "product_name",
         "type": "\"string\""
        },
        {
         "metadata": "{\"__CHAR_VARCHAR_TYPE_STRING\": \"varchar(50)\"}",
         "name": "product_category",
         "type": "\"string\""
        },
        {
         "metadata": "{}",
         "name": "quantity",
         "type": "\"integer\""
        },
        {
         "metadata": "{}",
         "name": "unit_price",
         "type": "\"decimal(10,2)\""
        },
        {
         "metadata": "{\"__CHAR_VARCHAR_TYPE_STRING\": \"varchar(50)\"}",
         "name": "payment_type",
         "type": "\"string\""
        },
        {
         "metadata": "{\"__CHAR_VARCHAR_TYPE_STRING\": \"varchar(50)\"}",
         "name": "country",
         "type": "\"string\""
        },
        {
         "metadata": "{}",
         "name": "last_updated",
         "type": "\"date\""
        }
       ],
       "type": "table"
      }
     },
     "output_type": "display_data"
    }
   ],
   "source": [
    "%sql\n",
    "SELECT * FROM bronze_source_data"
   ]
  },
  {
   "cell_type": "code",
   "execution_count": 0,
   "metadata": {
    "application/vnd.databricks.v1+cell": {
     "cellMetadata": {
      "byteLimit": 2048000,
      "implicitDf": true,
      "rowLimit": 10000
     },
     "inputWidgets": {},
     "nuid": "4d1bfc91-67e9-4bab-a476-395ac6fd752f",
     "showTitle": false,
     "tableResultSettingsMap": {},
     "title": ""
    }
   },
   "outputs": [
    {
     "output_type": "display_data",
     "data": {
      "text/html": [
       "<style scoped>\n",
       "  .table-result-container {\n",
       "    max-height: 300px;\n",
       "    overflow: auto;\n",
       "  }\n",
       "  table, th, td {\n",
       "    border: 1px solid black;\n",
       "    border-collapse: collapse;\n",
       "  }\n",
       "  th, td {\n",
       "    padding: 5px;\n",
       "  }\n",
       "  th {\n",
       "    text-align: left;\n",
       "  }\n",
       "</style><div class='table-result-container'><table class='table-result'><thead style='background-color: white'><tr><th>num_affected_rows</th><th>num_inserted_rows</th></tr></thead><tbody></tbody></table></div>"
      ]
     },
     "metadata": {
      "application/vnd.databricks.v1+output": {
       "addedWidgets": {},
       "aggData": [],
       "aggError": "",
       "aggOverflow": false,
       "aggSchema": [],
       "aggSeriesLimitReached": false,
       "aggType": "",
       "arguments": {},
       "columnCustomDisplayInfos": {},
       "data": [],
       "datasetInfos": [
        {
         "name": "_sqldf",
         "schema": {
          "fields": [
           {
            "metadata": {},
            "name": "num_affected_rows",
            "nullable": true,
            "type": "long"
           },
           {
            "metadata": {},
            "name": "num_inserted_rows",
            "nullable": true,
            "type": "long"
           }
          ],
          "type": "struct"
         },
         "tableIdentifier": null,
         "typeStr": "pyspark.sql.connect.dataframe.DataFrame"
        }
       ],
       "dbfsResultPath": null,
       "isJsonSchema": true,
       "metadata": {
        "createTempViewForImplicitDf": true,
        "dataframeName": "_sqldf",
        "executionCount": 19
       },
       "overflow": false,
       "plotOptions": {
        "customPlotOptions": {},
        "displayType": "table",
        "pivotAggregation": null,
        "pivotColumns": null,
        "xColumns": null,
        "yColumns": null
       },
       "removedWidgets": [],
       "schema": [
        {
         "metadata": "{}",
         "name": "num_affected_rows",
         "type": "\"long\""
        },
        {
         "metadata": "{}",
         "name": "num_inserted_rows",
         "type": "\"long\""
        }
       ],
       "type": "table"
      }
     },
     "output_type": "display_data"
    }
   ],
   "source": [
    "%sql\n",
    "CREATE OR REPLACE TABLE datamodeling.bronze.bronze_table\n",
    "AS\n",
    "SELECT * FROM bronze_source_data"
   ]
  },
  {
   "cell_type": "code",
   "execution_count": 0,
   "metadata": {
    "application/vnd.databricks.v1+cell": {
     "cellMetadata": {},
     "inputWidgets": {},
     "nuid": "259b028c-b50c-4e35-a9f1-62e75ff4ecd0",
     "showTitle": false,
     "tableResultSettingsMap": {},
     "title": ""
    }
   },
   "outputs": [],
   "source": []
  }
 ],
 "metadata": {
  "application/vnd.databricks.v1+notebook": {
   "computePreferences": null,
   "dashboards": [],
   "environmentMetadata": {
    "base_environment": "",
    "environment_version": "2"
   },
   "inputWidgetPreferences": null,
   "language": "python",
   "notebookMetadata": {
    "mostRecentlyExecutedCommandWithImplicitDF": {
     "commandId": 6974590667348835,
     "dataframes": [
      "_sqldf"
     ]
    },
    "pythonIndentUnit": 4
   },
   "notebookName": "Bronze",
   "widgets": {}
  },
  "language_info": {
   "name": "python"
  }
 },
 "nbformat": 4,
 "nbformat_minor": 0
}