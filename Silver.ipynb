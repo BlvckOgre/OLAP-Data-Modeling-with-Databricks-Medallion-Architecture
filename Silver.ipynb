{
 "cells": [
  {
   "cell_type": "code",
   "execution_count": 0,
   "metadata": {
    "application/vnd.databricks.v1+cell": {
     "cellMetadata": {
      "byteLimit": 2048000,
      "implicitDf": true,
      "rowLimit": 10000
     },
     "inputWidgets": {},
     "nuid": "ed0477d4-4a0a-48ed-98f3-6edbad6a687f",
     "showTitle": false,
     "tableResultSettingsMap": {},
     "title": ""
    }
   },
   "outputs": [
    {
     "output_type": "display_data",
     "data": {
      "text/html": [
       "<style scoped>\n",
       "  .table-result-container {\n",
       "    max-height: 300px;\n",
       "    overflow: auto;\n",
       "  }\n",
       "  table, th, td {\n",
       "    border: 1px solid black;\n",
       "    border-collapse: collapse;\n",
       "  }\n",
       "  th, td {\n",
       "    padding: 5px;\n",
       "  }\n",
       "  th {\n",
       "    text-align: left;\n",
       "  }\n",
       "</style><div class='table-result-container'><table class='table-result'><thead style='background-color: white'><tr><th>order_id</th><th>order_date</th><th>customer_id</th><th>customer_name</th><th>custumee_email</th><th>product_id</th><th>product_name</th><th>product_category</th><th>quantity</th><th>unit_price</th><th>payment_type</th><th>country</th><th>last_updated</th></tr></thead><tbody><tr><td>1001</td><td>2025-07-01</td><td>1</td><td>Alice Johnson</td><td>alice@example.com</td><td>501</td><td>Samsung A45</td><td>Electronics</td><td>1</td><td>1599.99</td><td>Credit Card</td><td>RSA</td><td>2025-07-01</td></tr><tr><td>1002</td><td>2025-07-02</td><td>2</td><td>Dimakatso Malpe</td><td>dimakatso@example.com</td><td>502</td><td>iPhone 14</td><td>Electronics</td><td>2</td><td>2689.99</td><td>PayPal</td><td>RSA</td><td>2025-07-02</td></tr><tr><td>1003</td><td>2025-07-03</td><td>3</td><td>Lego Mojapelo</td><td>lego@example.com</td><td>503</td><td>PlayStation 5</td><td>Electronics</td><td>1</td><td>499.99</td><td>Apple Pay</td><td>RSA</td><td>2025-07-03</td></tr></tbody></table></div>"
      ]
     },
     "metadata": {
      "application/vnd.databricks.v1+output": {
       "addedWidgets": {},
       "aggData": [],
       "aggError": "",
       "aggOverflow": false,
       "aggSchema": [],
       "aggSeriesLimitReached": false,
       "aggType": "",
       "arguments": {},
       "columnCustomDisplayInfos": {},
       "data": [
        [
         1001,
         "2025-07-01",
         1,
         "Alice Johnson",
         "alice@example.com",
         501,
         "Samsung A45",
         "Electronics",
         1,
         "1599.99",
         "Credit Card",
         "RSA",
         "2025-07-01"
        ],
        [
         1002,
         "2025-07-02",
         2,
         "Dimakatso Malpe",
         "dimakatso@example.com",
         502,
         "iPhone 14",
         "Electronics",
         2,
         "2689.99",
         "PayPal",
         "RSA",
         "2025-07-02"
        ],
        [
         1003,
         "2025-07-03",
         3,
         "Lego Mojapelo",
         "lego@example.com",
         503,
         "PlayStation 5",
         "Electronics",
         1,
         "499.99",
         "Apple Pay",
         "RSA",
         "2025-07-03"
        ]
       ],
       "datasetInfos": [
        {
         "name": "_sqldf",
         "schema": {
          "fields": [
           {
            "metadata": {},
            "name": "order_id",
            "nullable": true,
            "type": "integer"
           },
           {
            "metadata": {},
            "name": "order_date",
            "nullable": true,
            "type": "date"
           },
           {
            "metadata": {},
            "name": "customer_id",
            "nullable": true,
            "type": "integer"
           },
           {
            "metadata": {
             "__CHAR_VARCHAR_TYPE_STRING": "varchar(100)"
            },
            "name": "customer_name",
            "nullable": true,
            "type": "string"
           },
           {
            "metadata": {
             "__CHAR_VARCHAR_TYPE_STRING": "varchar(100)"
            },
            "name": "custumee_email",
            "nullable": true,
            "type": "string"
           },
           {
            "metadata": {},
            "name": "product_id",
            "nullable": true,
            "type": "integer"
           },
           {
            "metadata": {
             "__CHAR_VARCHAR_TYPE_STRING": "varchar(100)"
            },
            "name": "product_name",
            "nullable": true,
            "type": "string"
           },
           {
            "metadata": {
             "__CHAR_VARCHAR_TYPE_STRING": "varchar(50)"
            },
            "name": "product_category",
            "nullable": true,
            "type": "string"
           },
           {
            "metadata": {},
            "name": "quantity",
            "nullable": true,
            "type": "integer"
           },
           {
            "metadata": {},
            "name": "unit_price",
            "nullable": true,
            "type": "decimal(10,2)"
           },
           {
            "metadata": {
             "__CHAR_VARCHAR_TYPE_STRING": "varchar(50)"
            },
            "name": "payment_type",
            "nullable": true,
            "type": "string"
           },
           {
            "metadata": {
             "__CHAR_VARCHAR_TYPE_STRING": "varchar(50)"
            },
            "name": "country",
            "nullable": true,
            "type": "string"
           },
           {
            "metadata": {},
            "name": "last_updated",
            "nullable": true,
            "type": "date"
           }
          ],
          "type": "struct"
         },
         "tableIdentifier": null,
         "typeStr": "pyspark.sql.connect.dataframe.DataFrame"
        }
       ],
       "dbfsResultPath": null,
       "isJsonSchema": true,
       "metadata": {
        "createTempViewForImplicitDf": true,
        "dataframeName": "_sqldf",
        "executionCount": 2
       },
       "overflow": false,
       "plotOptions": {
        "customPlotOptions": {},
        "displayType": "table",
        "pivotAggregation": null,
        "pivotColumns": null,
        "xColumns": null,
        "yColumns": null
       },
       "removedWidgets": [],
       "schema": [
        {
         "metadata": "{}",
         "name": "order_id",
         "type": "\"integer\""
        },
        {
         "metadata": "{}",
         "name": "order_date",
         "type": "\"date\""
        },
        {
         "metadata": "{}",
         "name": "customer_id",
         "type": "\"integer\""
        },
        {
         "metadata": "{\"__CHAR_VARCHAR_TYPE_STRING\": \"varchar(100)\"}",
         "name": "customer_name",
         "type": "\"string\""
        },
        {
         "metadata": "{\"__CHAR_VARCHAR_TYPE_STRING\": \"varchar(100)\"}",
         "name": "custumee_email",
         "type": "\"string\""
        },
        {
         "metadata": "{}",
         "name": "product_id",
         "type": "\"integer\""
        },
        {
         "metadata": "{\"__CHAR_VARCHAR_TYPE_STRING\": \"varchar(100)\"}",
         "name": "product_name",
         "type": "\"string\""
        },
        {
         "metadata": "{\"__CHAR_VARCHAR_TYPE_STRING\": \"varchar(50)\"}",
         "name": "product_category",
         "type": "\"string\""
        },
        {
         "metadata": "{}",
         "name": "quantity",
         "type": "\"integer\""
        },
        {
         "metadata": "{}",
         "name": "unit_price",
         "type": "\"decimal(10,2)\""
        },
        {
         "metadata": "{\"__CHAR_VARCHAR_TYPE_STRING\": \"varchar(50)\"}",
         "name": "payment_type",
         "type": "\"string\""
        },
        {
         "metadata": "{\"__CHAR_VARCHAR_TYPE_STRING\": \"varchar(50)\"}",
         "name": "country",
         "type": "\"string\""
        },
        {
         "metadata": "{}",
         "name": "last_updated",
         "type": "\"date\""
        }
       ],
       "type": "table"
      }
     },
     "output_type": "display_data"
    }
   ],
   "source": [
    "%sql\n",
    "SELECT * FROM datamodeling.bronze.bronze_table\n"
   ]
  },
  {
   "cell_type": "code",
   "execution_count": 0,
   "metadata": {
    "application/vnd.databricks.v1+cell": {
     "cellMetadata": {
      "byteLimit": 2048000,
      "implicitDf": true,
      "rowLimit": 10000
     },
     "inputWidgets": {},
     "nuid": "e6ac4b53-56b2-4669-9e7d-14b702737577",
     "showTitle": false,
     "tableResultSettingsMap": {},
     "title": ""
    }
   },
   "outputs": [],
   "source": [
    "spark.sql(\"\"\"\n",
    "SELECT *,\n",
    "split(customer_name, ' ')[0] AS first_name,\n",
    "split(customer_name, ' ')[1] AS last_name,\n",
    "date(current_timestamp()) AS processDate\n",
    "FROM datamodeling.bronze.bronze_table\"\"\").createOrReplaceTempView(\"silver_source\")"
   ]
  },
  {
   "cell_type": "code",
   "execution_count": 0,
   "metadata": {
    "application/vnd.databricks.v1+cell": {
     "cellMetadata": {
      "byteLimit": 2048000,
      "implicitDf": true,
      "rowLimit": 10000
     },
     "inputWidgets": {},
     "nuid": "4b06c441-e399-4fef-84fc-539ce2df9b8f",
     "showTitle": false,
     "tableResultSettingsMap": {},
     "title": ""
    }
   },
   "outputs": [
    {
     "output_type": "display_data",
     "data": {
      "text/html": [
       "<style scoped>\n",
       "  .table-result-container {\n",
       "    max-height: 300px;\n",
       "    overflow: auto;\n",
       "  }\n",
       "  table, th, td {\n",
       "    border: 1px solid black;\n",
       "    border-collapse: collapse;\n",
       "  }\n",
       "  th, td {\n",
       "    padding: 5px;\n",
       "  }\n",
       "  th {\n",
       "    text-align: left;\n",
       "  }\n",
       "</style><div class='table-result-container'><table class='table-result'><thead style='background-color: white'><tr><th>order_id</th><th>order_date</th><th>customer_id</th><th>customer_name</th><th>custumee_email</th><th>product_id</th><th>product_name</th><th>product_category</th><th>quantity</th><th>unit_price</th><th>payment_type</th><th>country</th><th>last_updated</th><th>first_name</th><th>last_name</th><th>processDate</th></tr></thead><tbody><tr><td>1004</td><td>2025-07-04</td><td>4</td><td>Thando Ndlovu</td><td>thando@example.com</td><td>504</td><td>Dell XPS 13</td><td>Electronics</td><td>1</td><td>1299.99</td><td>Credit Card</td><td>RSA</td><td>2025-07-04</td><td>Thando</td><td>Ndlovu</td><td>2025-07-14</td></tr><tr><td>1005</td><td>2025-07-05</td><td>5</td><td>Sipho Mokoena</td><td>sipho@example.com</td><td>505</td><td>Nike Air Max</td><td>Apparel</td><td>2</td><td>299.99</td><td>PayPal</td><td>RSA</td><td>2025-07-05</td><td>Sipho</td><td>Mokoena</td><td>2025-07-14</td></tr><tr><td>1006</td><td>2025-07-06</td><td>6</td><td>Karabo Sithole</td><td>karabo@example.com</td><td>506</td><td>Samsung TV 55\"</td><td>Electronics</td><td>1</td><td>899.99</td><td>Credit Card</td><td>RSA</td><td>2025-07-06</td><td>Karabo</td><td>Sithole</td><td>2025-07-14</td></tr><tr><td>1007</td><td>2025-07-07</td><td>7</td><td>Boitumelo Dlamini</td><td>boitumelo@example.com</td><td>507</td><td>Adidas Hoodie</td><td>Apparel</td><td>3</td><td>149.99</td><td>Google Pay</td><td>RSA</td><td>2025-07-07</td><td>Boitumelo</td><td>Dlamini</td><td>2025-07-14</td></tr><tr><td>1008</td><td>2025-07-08</td><td>8</td><td>Lehlohonolo Mabuza</td><td>lehlohonolo@example.com</td><td>508</td><td>Canon EOS 90D</td><td>Electronics</td><td>1</td><td>1099.99</td><td>Credit Card</td><td>RSA</td><td>2025-07-08</td><td>Lehlohonolo</td><td>Mabuza</td><td>2025-07-14</td></tr><tr><td>1009</td><td>2025-07-09</td><td>9</td><td>Naledi Khumalo</td><td>naledi@example.com</td><td>509</td><td>Zara Jacket</td><td>Apparel</td><td>1</td><td>199.99</td><td>PayPal</td><td>RSA</td><td>2025-07-09</td><td>Naledi</td><td>Khumalo</td><td>2025-07-14</td></tr><tr><td>1010</td><td>2025-07-10</td><td>10</td><td>Tshepo Mthembu</td><td>tshepo@example.com</td><td>510</td><td>MacBook Pro 14\"</td><td>Electronics</td><td>1</td><td>2499.99</td><td>Apple Pay</td><td>RSA</td><td>2025-07-10</td><td>Tshepo</td><td>Mthembu</td><td>2025-07-14</td></tr><tr><td>1011</td><td>2025-07-11</td><td>11</td><td>Refilwe Nkosi</td><td>refilwe@example.com</td><td>511</td><td>iPad Air</td><td>Electronics</td><td>2</td><td>799.99</td><td>Google Pay</td><td>RSA</td><td>2025-07-11</td><td>Refilwe</td><td>Nkosi</td><td>2025-07-14</td></tr><tr><td>1012</td><td>2025-07-12</td><td>12</td><td>Mpho Sekhukhune</td><td>mpho@example.com</td><td>512</td><td>Reebok Classic</td><td>Apparel</td><td>1</td><td>119.99</td><td>Credit Card</td><td>RSA</td><td>2025-07-12</td><td>Mpho</td><td>Sekhukhune</td><td>2025-07-14</td></tr><tr><td>1013</td><td>2025-07-13</td><td>13</td><td>Kagiso Motsepe</td><td>kagiso@example.com</td><td>513</td><td>GoPro Hero 12</td><td>Electronics</td><td>1</td><td>499.99</td><td>PayPal</td><td>RSA</td><td>2025-07-13</td><td>Kagiso</td><td>Motsepe</td><td>2025-07-14</td></tr><tr><td>1014</td><td>2025-07-14</td><td>14</td><td>Zanele Mhlongo</td><td>zanele@example.com</td><td>514</td><td>Sony WH-1000XM5</td><td>Electronics</td><td>1</td><td>399.99</td><td>Credit Card</td><td>RSA</td><td>2025-07-14</td><td>Zanele</td><td>Mhlongo</td><td>2025-07-14</td></tr><tr><td>1015</td><td>2025-07-15</td><td>15</td><td>Lerato Mashaba</td><td>lerato@example.com</td><td>515</td><td>Asics Gel-Kayano</td><td>Apparel</td><td>2</td><td>249.99</td><td>Google Pay</td><td>RSA</td><td>2025-07-15</td><td>Lerato</td><td>Mashaba</td><td>2025-07-14</td></tr><tr><td>1016</td><td>2025-07-16</td><td>16</td><td>Andile Nxumalo</td><td>andile@example.com</td><td>516</td><td>Fitbit Versa 4</td><td>Electronics</td><td>1</td><td>229.99</td><td>Apple Pay</td><td>RSA</td><td>2025-07-16</td><td>Andile</td><td>Nxumalo</td><td>2025-07-14</td></tr><tr><td>1017</td><td>2025-07-17</td><td>17</td><td>Nokuthula Shongwe</td><td>nokuthula@example.com</td><td>517</td><td>HP Spectre x360</td><td>Electronics</td><td>1</td><td>1599.99</td><td>Credit Card</td><td>RSA</td><td>2025-07-17</td><td>Nokuthula</td><td>Shongwe</td><td>2025-07-14</td></tr><tr><td>1018</td><td>2025-07-18</td><td>18</td><td>Thabang Zulu</td><td>thabang@example.com</td><td>518</td><td>Xbox Series X</td><td>Electronics</td><td>1</td><td>499.99</td><td>PayPal</td><td>RSA</td><td>2025-07-18</td><td>Thabang</td><td>Zulu</td><td>2025-07-14</td></tr><tr><td>1019</td><td>2025-07-19</td><td>19</td><td>Kelebogile Dube</td><td>kelebogile@example.com</td><td>519</td><td>H&M Sweatshirt</td><td>Apparel</td><td>3</td><td>89.99</td><td>Google Pay</td><td>RSA</td><td>2025-07-19</td><td>Kelebogile</td><td>Dube</td><td>2025-07-14</td></tr><tr><td>1020</td><td>2025-07-20</td><td>20</td><td>Sibongile Mazibuko</td><td>sibongile@example.com</td><td>520</td><td>Huawei MateBook D15</td><td>Electronics</td><td>1</td><td>1099.99</td><td>Credit Card</td><td>RSA</td><td>2025-07-20</td><td>Sibongile</td><td>Mazibuko</td><td>2025-07-14</td></tr></tbody></table></div>"
      ]
     },
     "metadata": {
      "application/vnd.databricks.v1+output": {
       "addedWidgets": {},
       "aggData": [],
       "aggError": "",
       "aggOverflow": false,
       "aggSchema": [],
       "aggSeriesLimitReached": false,
       "aggType": "",
       "arguments": {},
       "columnCustomDisplayInfos": {},
       "data": [
        [
         1004,
         "2025-07-04",
         4,
         "Thando Ndlovu",
         "thando@example.com",
         504,
         "Dell XPS 13",
         "Electronics",
         1,
         "1299.99",
         "Credit Card",
         "RSA",
         "2025-07-04",
         "Thando",
         "Ndlovu",
         "2025-07-14"
        ],
        [
         1005,
         "2025-07-05",
         5,
         "Sipho Mokoena",
         "sipho@example.com",
         505,
         "Nike Air Max",
         "Apparel",
         2,
         "299.99",
         "PayPal",
         "RSA",
         "2025-07-05",
         "Sipho",
         "Mokoena",
         "2025-07-14"
        ],
        [
         1006,
         "2025-07-06",
         6,
         "Karabo Sithole",
         "karabo@example.com",
         506,
         "Samsung TV 55\"",
         "Electronics",
         1,
         "899.99",
         "Credit Card",
         "RSA",
         "2025-07-06",
         "Karabo",
         "Sithole",
         "2025-07-14"
        ],
        [
         1007,
         "2025-07-07",
         7,
         "Boitumelo Dlamini",
         "boitumelo@example.com",
         507,
         "Adidas Hoodie",
         "Apparel",
         3,
         "149.99",
         "Google Pay",
         "RSA",
         "2025-07-07",
         "Boitumelo",
         "Dlamini",
         "2025-07-14"
        ],
        [
         1008,
         "2025-07-08",
         8,
         "Lehlohonolo Mabuza",
         "lehlohonolo@example.com",
         508,
         "Canon EOS 90D",
         "Electronics",
         1,
         "1099.99",
         "Credit Card",
         "RSA",
         "2025-07-08",
         "Lehlohonolo",
         "Mabuza",
         "2025-07-14"
        ],
        [
         1009,
         "2025-07-09",
         9,
         "Naledi Khumalo",
         "naledi@example.com",
         509,
         "Zara Jacket",
         "Apparel",
         1,
         "199.99",
         "PayPal",
         "RSA",
         "2025-07-09",
         "Naledi",
         "Khumalo",
         "2025-07-14"
        ],
        [
         1010,
         "2025-07-10",
         10,
         "Tshepo Mthembu",
         "tshepo@example.com",
         510,
         "MacBook Pro 14\"",
         "Electronics",
         1,
         "2499.99",
         "Apple Pay",
         "RSA",
         "2025-07-10",
         "Tshepo",
         "Mthembu",
         "2025-07-14"
        ],
        [
         1011,
         "2025-07-11",
         11,
         "Refilwe Nkosi",
         "refilwe@example.com",
         511,
         "iPad Air",
         "Electronics",
         2,
         "799.99",
         "Google Pay",
         "RSA",
         "2025-07-11",
         "Refilwe",
         "Nkosi",
         "2025-07-14"
        ],
        [
         1012,
         "2025-07-12",
         12,
         "Mpho Sekhukhune",
         "mpho@example.com",
         512,
         "Reebok Classic",
         "Apparel",
         1,
         "119.99",
         "Credit Card",
         "RSA",
         "2025-07-12",
         "Mpho",
         "Sekhukhune",
         "2025-07-14"
        ],
        [
         1013,
         "2025-07-13",
         13,
         "Kagiso Motsepe",
         "kagiso@example.com",
         513,
         "GoPro Hero 12",
         "Electronics",
         1,
         "499.99",
         "PayPal",
         "RSA",
         "2025-07-13",
         "Kagiso",
         "Motsepe",
         "2025-07-14"
        ],
        [
         1014,
         "2025-07-14",
         14,
         "Zanele Mhlongo",
         "zanele@example.com",
         514,
         "Sony WH-1000XM5",
         "Electronics",
         1,
         "399.99",
         "Credit Card",
         "RSA",
         "2025-07-14",
         "Zanele",
         "Mhlongo",
         "2025-07-14"
        ],
        [
         1015,
         "2025-07-15",
         15,
         "Lerato Mashaba",
         "lerato@example.com",
         515,
         "Asics Gel-Kayano",
         "Apparel",
         2,
         "249.99",
         "Google Pay",
         "RSA",
         "2025-07-15",
         "Lerato",
         "Mashaba",
         "2025-07-14"
        ],
        [
         1016,
         "2025-07-16",
         16,
         "Andile Nxumalo",
         "andile@example.com",
         516,
         "Fitbit Versa 4",
         "Electronics",
         1,
         "229.99",
         "Apple Pay",
         "RSA",
         "2025-07-16",
         "Andile",
         "Nxumalo",
         "2025-07-14"
        ],
        [
         1017,
         "2025-07-17",
         17,
         "Nokuthula Shongwe",
         "nokuthula@example.com",
         517,
         "HP Spectre x360",
         "Electronics",
         1,
         "1599.99",
         "Credit Card",
         "RSA",
         "2025-07-17",
         "Nokuthula",
         "Shongwe",
         "2025-07-14"
        ],
        [
         1018,
         "2025-07-18",
         18,
         "Thabang Zulu",
         "thabang@example.com",
         518,
         "Xbox Series X",
         "Electronics",
         1,
         "499.99",
         "PayPal",
         "RSA",
         "2025-07-18",
         "Thabang",
         "Zulu",
         "2025-07-14"
        ],
        [
         1019,
         "2025-07-19",
         19,
         "Kelebogile Dube",
         "kelebogile@example.com",
         519,
         "H&M Sweatshirt",
         "Apparel",
         3,
         "89.99",
         "Google Pay",
         "RSA",
         "2025-07-19",
         "Kelebogile",
         "Dube",
         "2025-07-14"
        ],
        [
         1020,
         "2025-07-20",
         20,
         "Sibongile Mazibuko",
         "sibongile@example.com",
         520,
         "Huawei MateBook D15",
         "Electronics",
         1,
         "1099.99",
         "Credit Card",
         "RSA",
         "2025-07-20",
         "Sibongile",
         "Mazibuko",
         "2025-07-14"
        ]
       ],
       "datasetInfos": [
        {
         "name": "_sqldf",
         "schema": {
          "fields": [
           {
            "metadata": {},
            "name": "order_id",
            "nullable": true,
            "type": "integer"
           },
           {
            "metadata": {},
            "name": "order_date",
            "nullable": true,
            "type": "date"
           },
           {
            "metadata": {},
            "name": "customer_id",
            "nullable": true,
            "type": "integer"
           },
           {
            "metadata": {
             "__CHAR_VARCHAR_TYPE_STRING": "varchar(100)"
            },
            "name": "customer_name",
            "nullable": true,
            "type": "string"
           },
           {
            "metadata": {
             "__CHAR_VARCHAR_TYPE_STRING": "varchar(100)"
            },
            "name": "custumee_email",
            "nullable": true,
            "type": "string"
           },
           {
            "metadata": {},
            "name": "product_id",
            "nullable": true,
            "type": "integer"
           },
           {
            "metadata": {
             "__CHAR_VARCHAR_TYPE_STRING": "varchar(100)"
            },
            "name": "product_name",
            "nullable": true,
            "type": "string"
           },
           {
            "metadata": {
             "__CHAR_VARCHAR_TYPE_STRING": "varchar(50)"
            },
            "name": "product_category",
            "nullable": true,
            "type": "string"
           },
           {
            "metadata": {},
            "name": "quantity",
            "nullable": true,
            "type": "integer"
           },
           {
            "metadata": {},
            "name": "unit_price",
            "nullable": true,
            "type": "decimal(10,2)"
           },
           {
            "metadata": {
             "__CHAR_VARCHAR_TYPE_STRING": "varchar(50)"
            },
            "name": "payment_type",
            "nullable": true,
            "type": "string"
           },
           {
            "metadata": {
             "__CHAR_VARCHAR_TYPE_STRING": "varchar(50)"
            },
            "name": "country",
            "nullable": true,
            "type": "string"
           },
           {
            "metadata": {},
            "name": "last_updated",
            "nullable": true,
            "type": "date"
           },
           {
            "metadata": {},
            "name": "first_name",
            "nullable": true,
            "type": "string"
           },
           {
            "metadata": {},
            "name": "last_name",
            "nullable": true,
            "type": "string"
           },
           {
            "metadata": {},
            "name": "processDate",
            "nullable": false,
            "type": "date"
           }
          ],
          "type": "struct"
         },
         "tableIdentifier": null,
         "typeStr": "pyspark.sql.connect.dataframe.DataFrame"
        }
       ],
       "dbfsResultPath": null,
       "isJsonSchema": true,
       "metadata": {
        "createTempViewForImplicitDf": true,
        "dataframeName": "_sqldf",
        "executionCount": 102
       },
       "overflow": false,
       "plotOptions": {
        "customPlotOptions": {},
        "displayType": "table",
        "pivotAggregation": null,
        "pivotColumns": null,
        "xColumns": null,
        "yColumns": null
       },
       "removedWidgets": [],
       "schema": [
        {
         "metadata": "{}",
         "name": "order_id",
         "type": "\"integer\""
        },
        {
         "metadata": "{}",
         "name": "order_date",
         "type": "\"date\""
        },
        {
         "metadata": "{}",
         "name": "customer_id",
         "type": "\"integer\""
        },
        {
         "metadata": "{\"__CHAR_VARCHAR_TYPE_STRING\": \"varchar(100)\"}",
         "name": "customer_name",
         "type": "\"string\""
        },
        {
         "metadata": "{\"__CHAR_VARCHAR_TYPE_STRING\": \"varchar(100)\"}",
         "name": "custumee_email",
         "type": "\"string\""
        },
        {
         "metadata": "{}",
         "name": "product_id",
         "type": "\"integer\""
        },
        {
         "metadata": "{\"__CHAR_VARCHAR_TYPE_STRING\": \"varchar(100)\"}",
         "name": "product_name",
         "type": "\"string\""
        },
        {
         "metadata": "{\"__CHAR_VARCHAR_TYPE_STRING\": \"varchar(50)\"}",
         "name": "product_category",
         "type": "\"string\""
        },
        {
         "metadata": "{}",
         "name": "quantity",
         "type": "\"integer\""
        },
        {
         "metadata": "{}",
         "name": "unit_price",
         "type": "\"decimal(10,2)\""
        },
        {
         "metadata": "{\"__CHAR_VARCHAR_TYPE_STRING\": \"varchar(50)\"}",
         "name": "payment_type",
         "type": "\"string\""
        },
        {
         "metadata": "{\"__CHAR_VARCHAR_TYPE_STRING\": \"varchar(50)\"}",
         "name": "country",
         "type": "\"string\""
        },
        {
         "metadata": "{}",
         "name": "last_updated",
         "type": "\"date\""
        },
        {
         "metadata": "{}",
         "name": "first_name",
         "type": "\"string\""
        },
        {
         "metadata": "{}",
         "name": "last_name",
         "type": "\"string\""
        },
        {
         "metadata": "{}",
         "name": "processDate",
         "type": "\"date\""
        }
       ],
       "type": "table"
      }
     },
     "output_type": "display_data"
    }
   ],
   "source": [
    "%sql\n",
    "SELECT * FROM silver_source"
   ]
  },
  {
   "cell_type": "markdown",
   "metadata": {
    "application/vnd.databricks.v1+cell": {
     "cellMetadata": {},
     "inputWidgets": {},
     "nuid": "c90b8ecc-d2ca-4183-aa35-10ee84811304",
     "showTitle": false,
     "tableResultSettingsMap": {},
     "title": ""
    }
   },
   "source": [
    "### Merge using pyspark"
   ]
  },
  {
   "cell_type": "code",
   "execution_count": 0,
   "metadata": {
    "application/vnd.databricks.v1+cell": {
     "cellMetadata": {
      "byteLimit": 2048000,
      "rowLimit": 10000
     },
     "inputWidgets": {},
     "nuid": "1f0c07bc-1a61-4537-9b20-28451c075cff",
     "showTitle": false,
     "tableResultSettingsMap": {},
     "title": ""
    }
   },
   "outputs": [],
   "source": [
    "if spark.catalog.tableExists('datamodeling.silver.silver_table'):\n",
    "    src = spark.sql(\"\"\"select * from silver_source\"\"\")\n",
    "else:\n",
    "    spark.sql(\"\"\"\n",
    "    CREATE TABLE IF NOT EXISTS datamodeling.silver.silver_table\n",
    "    AS\n",
    "    SELECT * FROM silver_source\n",
    "    \"\"\")"
   ]
  },
  {
   "cell_type": "markdown",
   "metadata": {
    "application/vnd.databricks.v1+cell": {
     "cellMetadata": {},
     "inputWidgets": {},
     "nuid": "380a82f3-78e5-48be-9cd3-7fb2253f0957",
     "showTitle": false,
     "tableResultSettingsMap": {},
     "title": ""
    }
   },
   "source": [
    "### Merge using sql"
   ]
  },
  {
   "cell_type": "code",
   "execution_count": 0,
   "metadata": {
    "application/vnd.databricks.v1+cell": {
     "cellMetadata": {
      "byteLimit": 2048000,
      "implicitDf": true,
      "rowLimit": 10000
     },
     "inputWidgets": {},
     "nuid": "e01bb8ef-3e55-4782-871f-48d63ac2f9e3",
     "showTitle": false,
     "tableResultSettingsMap": {},
     "title": ""
    }
   },
   "outputs": [
    {
     "output_type": "display_data",
     "data": {
      "text/html": [
       "<style scoped>\n",
       "  .table-result-container {\n",
       "    max-height: 300px;\n",
       "    overflow: auto;\n",
       "  }\n",
       "  table, th, td {\n",
       "    border: 1px solid black;\n",
       "    border-collapse: collapse;\n",
       "  }\n",
       "  th, td {\n",
       "    padding: 5px;\n",
       "  }\n",
       "  th {\n",
       "    text-align: left;\n",
       "  }\n",
       "</style><div class='table-result-container'><table class='table-result'><thead style='background-color: white'><tr><th>num_affected_rows</th><th>num_inserted_rows</th></tr></thead><tbody></tbody></table></div>"
      ]
     },
     "metadata": {
      "application/vnd.databricks.v1+output": {
       "addedWidgets": {},
       "aggData": [],
       "aggError": "",
       "aggOverflow": false,
       "aggSchema": [],
       "aggSeriesLimitReached": false,
       "aggType": "",
       "arguments": {},
       "columnCustomDisplayInfos": {},
       "data": [],
       "datasetInfos": [
        {
         "name": "_sqldf",
         "schema": {
          "fields": [
           {
            "metadata": {},
            "name": "num_affected_rows",
            "nullable": true,
            "type": "long"
           },
           {
            "metadata": {},
            "name": "num_inserted_rows",
            "nullable": true,
            "type": "long"
           }
          ],
          "type": "struct"
         },
         "tableIdentifier": null,
         "typeStr": "pyspark.sql.connect.dataframe.DataFrame"
        }
       ],
       "dbfsResultPath": null,
       "isJsonSchema": true,
       "metadata": {
        "createTempViewForImplicitDf": true,
        "dataframeName": "_sqldf",
        "executionCount": 105
       },
       "overflow": false,
       "plotOptions": {
        "customPlotOptions": {},
        "displayType": "table",
        "pivotAggregation": null,
        "pivotColumns": null,
        "xColumns": null,
        "yColumns": null
       },
       "removedWidgets": [],
       "schema": [
        {
         "metadata": "{}",
         "name": "num_affected_rows",
         "type": "\"long\""
        },
        {
         "metadata": "{}",
         "name": "num_inserted_rows",
         "type": "\"long\""
        }
       ],
       "type": "table"
      }
     },
     "output_type": "display_data"
    }
   ],
   "source": [
    "%sql\n",
    "CREATE TABLE IF NOT EXISTS datamodeling.silver.silver_table\n",
    "    AS\n",
    "    SELECT * FROM silver_source"
   ]
  },
  {
   "cell_type": "code",
   "execution_count": 0,
   "metadata": {
    "application/vnd.databricks.v1+cell": {
     "cellMetadata": {
      "byteLimit": 2048000,
      "implicitDf": true,
      "rowLimit": 10000
     },
     "inputWidgets": {},
     "nuid": "c4e873bf-2c5a-44b0-993a-43b30e4793ca",
     "showTitle": false,
     "tableResultSettingsMap": {},
     "title": ""
    }
   },
   "outputs": [
    {
     "output_type": "display_data",
     "data": {
      "text/html": [
       "<style scoped>\n",
       "  .table-result-container {\n",
       "    max-height: 300px;\n",
       "    overflow: auto;\n",
       "  }\n",
       "  table, th, td {\n",
       "    border: 1px solid black;\n",
       "    border-collapse: collapse;\n",
       "  }\n",
       "  th, td {\n",
       "    padding: 5px;\n",
       "  }\n",
       "  th {\n",
       "    text-align: left;\n",
       "  }\n",
       "</style><div class='table-result-container'><table class='table-result'><thead style='background-color: white'><tr><th>num_affected_rows</th><th>num_updated_rows</th><th>num_deleted_rows</th><th>num_inserted_rows</th></tr></thead><tbody><tr><td>17</td><td>0</td><td>0</td><td>17</td></tr></tbody></table></div>"
      ]
     },
     "metadata": {
      "application/vnd.databricks.v1+output": {
       "addedWidgets": {},
       "aggData": [],
       "aggError": "",
       "aggOverflow": false,
       "aggSchema": [],
       "aggSeriesLimitReached": false,
       "aggType": "",
       "arguments": {},
       "columnCustomDisplayInfos": {},
       "data": [
        [
         17,
         0,
         0,
         17
        ]
       ],
       "datasetInfos": [
        {
         "name": "_sqldf",
         "schema": {
          "fields": [
           {
            "metadata": {},
            "name": "num_affected_rows",
            "nullable": true,
            "type": "long"
           },
           {
            "metadata": {},
            "name": "num_updated_rows",
            "nullable": true,
            "type": "long"
           },
           {
            "metadata": {},
            "name": "num_deleted_rows",
            "nullable": true,
            "type": "long"
           },
           {
            "metadata": {},
            "name": "num_inserted_rows",
            "nullable": true,
            "type": "long"
           }
          ],
          "type": "struct"
         },
         "tableIdentifier": null,
         "typeStr": "pyspark.sql.connect.dataframe.DataFrame"
        }
       ],
       "dbfsResultPath": null,
       "isJsonSchema": true,
       "metadata": {
        "createTempViewForImplicitDf": true,
        "dataframeName": "_sqldf",
        "executionCount": 106
       },
       "overflow": false,
       "plotOptions": {
        "customPlotOptions": {},
        "displayType": "table",
        "pivotAggregation": null,
        "pivotColumns": null,
        "xColumns": null,
        "yColumns": null
       },
       "removedWidgets": [],
       "schema": [
        {
         "metadata": "{}",
         "name": "num_affected_rows",
         "type": "\"long\""
        },
        {
         "metadata": "{}",
         "name": "num_updated_rows",
         "type": "\"long\""
        },
        {
         "metadata": "{}",
         "name": "num_deleted_rows",
         "type": "\"long\""
        },
        {
         "metadata": "{}",
         "name": "num_inserted_rows",
         "type": "\"long\""
        }
       ],
       "type": "table"
      }
     },
     "output_type": "display_data"
    }
   ],
   "source": [
    "%sql\n",
    "MERGE INTO datamodeling.silver.silver_table\n",
    "USING silver_source\n",
    "ON datamodeling.silver.silver_table.order_id = silver_source.order_id\n",
    "WHEN MATCHED THEN UPDATE SET *\n",
    "WHEN NOT MATCHED THEN INSERT *"
   ]
  },
  {
   "cell_type": "code",
   "execution_count": 0,
   "metadata": {
    "application/vnd.databricks.v1+cell": {
     "cellMetadata": {
      "byteLimit": 2048000,
      "implicitDf": true,
      "rowLimit": 10000
     },
     "inputWidgets": {},
     "nuid": "24ea5e7a-a083-4b91-9ba0-9a72bd260594",
     "showTitle": false,
     "tableResultSettingsMap": {},
     "title": ""
    }
   },
   "outputs": [
    {
     "output_type": "display_data",
     "data": {
      "text/html": [
       "<style scoped>\n",
       "  .table-result-container {\n",
       "    max-height: 300px;\n",
       "    overflow: auto;\n",
       "  }\n",
       "  table, th, td {\n",
       "    border: 1px solid black;\n",
       "    border-collapse: collapse;\n",
       "  }\n",
       "  th, td {\n",
       "    padding: 5px;\n",
       "  }\n",
       "  th {\n",
       "    text-align: left;\n",
       "  }\n",
       "</style><div class='table-result-container'><table class='table-result'><thead style='background-color: white'><tr><th>order_id</th><th>order_date</th><th>customer_id</th><th>customer_name</th><th>custumee_email</th><th>product_id</th><th>product_name</th><th>product_category</th><th>quantity</th><th>unit_price</th><th>payment_type</th><th>country</th><th>last_updated</th><th>first_name</th><th>last_name</th><th>processDate</th></tr></thead><tbody><tr><td>1004</td><td>2025-07-04</td><td>4</td><td>Thando Ndlovu</td><td>thando@example.com</td><td>504</td><td>Dell XPS 13</td><td>Electronics</td><td>1</td><td>1299.99</td><td>Credit Card</td><td>RSA</td><td>2025-07-04</td><td>Thando</td><td>Ndlovu</td><td>2025-07-14</td></tr><tr><td>1005</td><td>2025-07-05</td><td>5</td><td>Sipho Mokoena</td><td>sipho@example.com</td><td>505</td><td>Nike Air Max</td><td>Apparel</td><td>2</td><td>299.99</td><td>PayPal</td><td>RSA</td><td>2025-07-05</td><td>Sipho</td><td>Mokoena</td><td>2025-07-14</td></tr><tr><td>1006</td><td>2025-07-06</td><td>6</td><td>Karabo Sithole</td><td>karabo@example.com</td><td>506</td><td>Samsung TV 55\"</td><td>Electronics</td><td>1</td><td>899.99</td><td>Credit Card</td><td>RSA</td><td>2025-07-06</td><td>Karabo</td><td>Sithole</td><td>2025-07-14</td></tr><tr><td>1007</td><td>2025-07-07</td><td>7</td><td>Boitumelo Dlamini</td><td>boitumelo@example.com</td><td>507</td><td>Adidas Hoodie</td><td>Apparel</td><td>3</td><td>149.99</td><td>Google Pay</td><td>RSA</td><td>2025-07-07</td><td>Boitumelo</td><td>Dlamini</td><td>2025-07-14</td></tr><tr><td>1008</td><td>2025-07-08</td><td>8</td><td>Lehlohonolo Mabuza</td><td>lehlohonolo@example.com</td><td>508</td><td>Canon EOS 90D</td><td>Electronics</td><td>1</td><td>1099.99</td><td>Credit Card</td><td>RSA</td><td>2025-07-08</td><td>Lehlohonolo</td><td>Mabuza</td><td>2025-07-14</td></tr><tr><td>1009</td><td>2025-07-09</td><td>9</td><td>Naledi Khumalo</td><td>naledi@example.com</td><td>509</td><td>Zara Jacket</td><td>Apparel</td><td>1</td><td>199.99</td><td>PayPal</td><td>RSA</td><td>2025-07-09</td><td>Naledi</td><td>Khumalo</td><td>2025-07-14</td></tr><tr><td>1010</td><td>2025-07-10</td><td>10</td><td>Tshepo Mthembu</td><td>tshepo@example.com</td><td>510</td><td>MacBook Pro 14\"</td><td>Electronics</td><td>1</td><td>2499.99</td><td>Apple Pay</td><td>RSA</td><td>2025-07-10</td><td>Tshepo</td><td>Mthembu</td><td>2025-07-14</td></tr><tr><td>1011</td><td>2025-07-11</td><td>11</td><td>Refilwe Nkosi</td><td>refilwe@example.com</td><td>511</td><td>iPad Air</td><td>Electronics</td><td>2</td><td>799.99</td><td>Google Pay</td><td>RSA</td><td>2025-07-11</td><td>Refilwe</td><td>Nkosi</td><td>2025-07-14</td></tr><tr><td>1012</td><td>2025-07-12</td><td>12</td><td>Mpho Sekhukhune</td><td>mpho@example.com</td><td>512</td><td>Reebok Classic</td><td>Apparel</td><td>1</td><td>119.99</td><td>Credit Card</td><td>RSA</td><td>2025-07-12</td><td>Mpho</td><td>Sekhukhune</td><td>2025-07-14</td></tr><tr><td>1013</td><td>2025-07-13</td><td>13</td><td>Kagiso Motsepe</td><td>kagiso@example.com</td><td>513</td><td>GoPro Hero 12</td><td>Electronics</td><td>1</td><td>499.99</td><td>PayPal</td><td>RSA</td><td>2025-07-13</td><td>Kagiso</td><td>Motsepe</td><td>2025-07-14</td></tr><tr><td>1014</td><td>2025-07-14</td><td>14</td><td>Zanele Mhlongo</td><td>zanele@example.com</td><td>514</td><td>Sony WH-1000XM5</td><td>Electronics</td><td>1</td><td>399.99</td><td>Credit Card</td><td>RSA</td><td>2025-07-14</td><td>Zanele</td><td>Mhlongo</td><td>2025-07-14</td></tr><tr><td>1015</td><td>2025-07-15</td><td>15</td><td>Lerato Mashaba</td><td>lerato@example.com</td><td>515</td><td>Asics Gel-Kayano</td><td>Apparel</td><td>2</td><td>249.99</td><td>Google Pay</td><td>RSA</td><td>2025-07-15</td><td>Lerato</td><td>Mashaba</td><td>2025-07-14</td></tr><tr><td>1016</td><td>2025-07-16</td><td>16</td><td>Andile Nxumalo</td><td>andile@example.com</td><td>516</td><td>Fitbit Versa 4</td><td>Electronics</td><td>1</td><td>229.99</td><td>Apple Pay</td><td>RSA</td><td>2025-07-16</td><td>Andile</td><td>Nxumalo</td><td>2025-07-14</td></tr><tr><td>1017</td><td>2025-07-17</td><td>17</td><td>Nokuthula Shongwe</td><td>nokuthula@example.com</td><td>517</td><td>HP Spectre x360</td><td>Electronics</td><td>1</td><td>1599.99</td><td>Credit Card</td><td>RSA</td><td>2025-07-17</td><td>Nokuthula</td><td>Shongwe</td><td>2025-07-14</td></tr><tr><td>1018</td><td>2025-07-18</td><td>18</td><td>Thabang Zulu</td><td>thabang@example.com</td><td>518</td><td>Xbox Series X</td><td>Electronics</td><td>1</td><td>499.99</td><td>PayPal</td><td>RSA</td><td>2025-07-18</td><td>Thabang</td><td>Zulu</td><td>2025-07-14</td></tr><tr><td>1019</td><td>2025-07-19</td><td>19</td><td>Kelebogile Dube</td><td>kelebogile@example.com</td><td>519</td><td>H&M Sweatshirt</td><td>Apparel</td><td>3</td><td>89.99</td><td>Google Pay</td><td>RSA</td><td>2025-07-19</td><td>Kelebogile</td><td>Dube</td><td>2025-07-14</td></tr><tr><td>1020</td><td>2025-07-20</td><td>20</td><td>Sibongile Mazibuko</td><td>sibongile@example.com</td><td>520</td><td>Huawei MateBook D15</td><td>Electronics</td><td>1</td><td>1099.99</td><td>Credit Card</td><td>RSA</td><td>2025-07-20</td><td>Sibongile</td><td>Mazibuko</td><td>2025-07-14</td></tr><tr><td>1001</td><td>2025-07-01</td><td>1</td><td>Alice Johnson</td><td>alice@example.com</td><td>501</td><td>Samsung A45</td><td>Electronics</td><td>1</td><td>1599.99</td><td>Credit Card</td><td>RSA</td><td>2025-07-01</td><td>Alice</td><td>Johnson</td><td>2025-07-14</td></tr><tr><td>1002</td><td>2025-07-02</td><td>2</td><td>Dimakatso Malpe</td><td>dimakatso@example.com</td><td>502</td><td>iPhone 14</td><td>Electronics</td><td>2</td><td>2689.99</td><td>PayPal</td><td>RSA</td><td>2025-07-02</td><td>Dimakatso</td><td>Malpe</td><td>2025-07-14</td></tr><tr><td>1003</td><td>2025-07-03</td><td>3</td><td>Lego Mojapelo</td><td>lego@example.com</td><td>503</td><td>PlayStation 5</td><td>Electronics</td><td>1</td><td>499.99</td><td>Apple Pay</td><td>RSA</td><td>2025-07-03</td><td>Lego</td><td>Mojapelo</td><td>2025-07-14</td></tr></tbody></table></div>"
      ]
     },
     "metadata": {
      "application/vnd.databricks.v1+output": {
       "addedWidgets": {},
       "aggData": [],
       "aggError": "",
       "aggOverflow": false,
       "aggSchema": [],
       "aggSeriesLimitReached": false,
       "aggType": "",
       "arguments": {},
       "columnCustomDisplayInfos": {},
       "data": [
        [
         1004,
         "2025-07-04",
         4,
         "Thando Ndlovu",
         "thando@example.com",
         504,
         "Dell XPS 13",
         "Electronics",
         1,
         "1299.99",
         "Credit Card",
         "RSA",
         "2025-07-04",
         "Thando",
         "Ndlovu",
         "2025-07-14"
        ],
        [
         1005,
         "2025-07-05",
         5,
         "Sipho Mokoena",
         "sipho@example.com",
         505,
         "Nike Air Max",
         "Apparel",
         2,
         "299.99",
         "PayPal",
         "RSA",
         "2025-07-05",
         "Sipho",
         "Mokoena",
         "2025-07-14"
        ],
        [
         1006,
         "2025-07-06",
         6,
         "Karabo Sithole",
         "karabo@example.com",
         506,
         "Samsung TV 55\"",
         "Electronics",
         1,
         "899.99",
         "Credit Card",
         "RSA",
         "2025-07-06",
         "Karabo",
         "Sithole",
         "2025-07-14"
        ],
        [
         1007,
         "2025-07-07",
         7,
         "Boitumelo Dlamini",
         "boitumelo@example.com",
         507,
         "Adidas Hoodie",
         "Apparel",
         3,
         "149.99",
         "Google Pay",
         "RSA",
         "2025-07-07",
         "Boitumelo",
         "Dlamini",
         "2025-07-14"
        ],
        [
         1008,
         "2025-07-08",
         8,
         "Lehlohonolo Mabuza",
         "lehlohonolo@example.com",
         508,
         "Canon EOS 90D",
         "Electronics",
         1,
         "1099.99",
         "Credit Card",
         "RSA",
         "2025-07-08",
         "Lehlohonolo",
         "Mabuza",
         "2025-07-14"
        ],
        [
         1009,
         "2025-07-09",
         9,
         "Naledi Khumalo",
         "naledi@example.com",
         509,
         "Zara Jacket",
         "Apparel",
         1,
         "199.99",
         "PayPal",
         "RSA",
         "2025-07-09",
         "Naledi",
         "Khumalo",
         "2025-07-14"
        ],
        [
         1010,
         "2025-07-10",
         10,
         "Tshepo Mthembu",
         "tshepo@example.com",
         510,
         "MacBook Pro 14\"",
         "Electronics",
         1,
         "2499.99",
         "Apple Pay",
         "RSA",
         "2025-07-10",
         "Tshepo",
         "Mthembu",
         "2025-07-14"
        ],
        [
         1011,
         "2025-07-11",
         11,
         "Refilwe Nkosi",
         "refilwe@example.com",
         511,
         "iPad Air",
         "Electronics",
         2,
         "799.99",
         "Google Pay",
         "RSA",
         "2025-07-11",
         "Refilwe",
         "Nkosi",
         "2025-07-14"
        ],
        [
         1012,
         "2025-07-12",
         12,
         "Mpho Sekhukhune",
         "mpho@example.com",
         512,
         "Reebok Classic",
         "Apparel",
         1,
         "119.99",
         "Credit Card",
         "RSA",
         "2025-07-12",
         "Mpho",
         "Sekhukhune",
         "2025-07-14"
        ],
        [
         1013,
         "2025-07-13",
         13,
         "Kagiso Motsepe",
         "kagiso@example.com",
         513,
         "GoPro Hero 12",
         "Electronics",
         1,
         "499.99",
         "PayPal",
         "RSA",
         "2025-07-13",
         "Kagiso",
         "Motsepe",
         "2025-07-14"
        ],
        [
         1014,
         "2025-07-14",
         14,
         "Zanele Mhlongo",
         "zanele@example.com",
         514,
         "Sony WH-1000XM5",
         "Electronics",
         1,
         "399.99",
         "Credit Card",
         "RSA",
         "2025-07-14",
         "Zanele",
         "Mhlongo",
         "2025-07-14"
        ],
        [
         1015,
         "2025-07-15",
         15,
         "Lerato Mashaba",
         "lerato@example.com",
         515,
         "Asics Gel-Kayano",
         "Apparel",
         2,
         "249.99",
         "Google Pay",
         "RSA",
         "2025-07-15",
         "Lerato",
         "Mashaba",
         "2025-07-14"
        ],
        [
         1016,
         "2025-07-16",
         16,
         "Andile Nxumalo",
         "andile@example.com",
         516,
         "Fitbit Versa 4",
         "Electronics",
         1,
         "229.99",
         "Apple Pay",
         "RSA",
         "2025-07-16",
         "Andile",
         "Nxumalo",
         "2025-07-14"
        ],
        [
         1017,
         "2025-07-17",
         17,
         "Nokuthula Shongwe",
         "nokuthula@example.com",
         517,
         "HP Spectre x360",
         "Electronics",
         1,
         "1599.99",
         "Credit Card",
         "RSA",
         "2025-07-17",
         "Nokuthula",
         "Shongwe",
         "2025-07-14"
        ],
        [
         1018,
         "2025-07-18",
         18,
         "Thabang Zulu",
         "thabang@example.com",
         518,
         "Xbox Series X",
         "Electronics",
         1,
         "499.99",
         "PayPal",
         "RSA",
         "2025-07-18",
         "Thabang",
         "Zulu",
         "2025-07-14"
        ],
        [
         1019,
         "2025-07-19",
         19,
         "Kelebogile Dube",
         "kelebogile@example.com",
         519,
         "H&M Sweatshirt",
         "Apparel",
         3,
         "89.99",
         "Google Pay",
         "RSA",
         "2025-07-19",
         "Kelebogile",
         "Dube",
         "2025-07-14"
        ],
        [
         1020,
         "2025-07-20",
         20,
         "Sibongile Mazibuko",
         "sibongile@example.com",
         520,
         "Huawei MateBook D15",
         "Electronics",
         1,
         "1099.99",
         "Credit Card",
         "RSA",
         "2025-07-20",
         "Sibongile",
         "Mazibuko",
         "2025-07-14"
        ],
        [
         1001,
         "2025-07-01",
         1,
         "Alice Johnson",
         "alice@example.com",
         501,
         "Samsung A45",
         "Electronics",
         1,
         "1599.99",
         "Credit Card",
         "RSA",
         "2025-07-01",
         "Alice",
         "Johnson",
         "2025-07-14"
        ],
        [
         1002,
         "2025-07-02",
         2,
         "Dimakatso Malpe",
         "dimakatso@example.com",
         502,
         "iPhone 14",
         "Electronics",
         2,
         "2689.99",
         "PayPal",
         "RSA",
         "2025-07-02",
         "Dimakatso",
         "Malpe",
         "2025-07-14"
        ],
        [
         1003,
         "2025-07-03",
         3,
         "Lego Mojapelo",
         "lego@example.com",
         503,
         "PlayStation 5",
         "Electronics",
         1,
         "499.99",
         "Apple Pay",
         "RSA",
         "2025-07-03",
         "Lego",
         "Mojapelo",
         "2025-07-14"
        ]
       ],
       "datasetInfos": [
        {
         "name": "_sqldf",
         "schema": {
          "fields": [
           {
            "metadata": {},
            "name": "order_id",
            "nullable": true,
            "type": "integer"
           },
           {
            "metadata": {},
            "name": "order_date",
            "nullable": true,
            "type": "date"
           },
           {
            "metadata": {},
            "name": "customer_id",
            "nullable": true,
            "type": "integer"
           },
           {
            "metadata": {
             "__CHAR_VARCHAR_TYPE_STRING": "varchar(100)"
            },
            "name": "customer_name",
            "nullable": true,
            "type": "string"
           },
           {
            "metadata": {
             "__CHAR_VARCHAR_TYPE_STRING": "varchar(100)"
            },
            "name": "custumee_email",
            "nullable": true,
            "type": "string"
           },
           {
            "metadata": {},
            "name": "product_id",
            "nullable": true,
            "type": "integer"
           },
           {
            "metadata": {
             "__CHAR_VARCHAR_TYPE_STRING": "varchar(100)"
            },
            "name": "product_name",
            "nullable": true,
            "type": "string"
           },
           {
            "metadata": {
             "__CHAR_VARCHAR_TYPE_STRING": "varchar(50)"
            },
            "name": "product_category",
            "nullable": true,
            "type": "string"
           },
           {
            "metadata": {},
            "name": "quantity",
            "nullable": true,
            "type": "integer"
           },
           {
            "metadata": {},
            "name": "unit_price",
            "nullable": true,
            "type": "decimal(10,2)"
           },
           {
            "metadata": {
             "__CHAR_VARCHAR_TYPE_STRING": "varchar(50)"
            },
            "name": "payment_type",
            "nullable": true,
            "type": "string"
           },
           {
            "metadata": {
             "__CHAR_VARCHAR_TYPE_STRING": "varchar(50)"
            },
            "name": "country",
            "nullable": true,
            "type": "string"
           },
           {
            "metadata": {},
            "name": "last_updated",
            "nullable": true,
            "type": "date"
           },
           {
            "metadata": {},
            "name": "first_name",
            "nullable": true,
            "type": "string"
           },
           {
            "metadata": {},
            "name": "last_name",
            "nullable": true,
            "type": "string"
           },
           {
            "metadata": {},
            "name": "processDate",
            "nullable": true,
            "type": "date"
           }
          ],
          "type": "struct"
         },
         "tableIdentifier": null,
         "typeStr": "pyspark.sql.connect.dataframe.DataFrame"
        }
       ],
       "dbfsResultPath": null,
       "isJsonSchema": true,
       "metadata": {
        "createTempViewForImplicitDf": true,
        "dataframeName": "_sqldf",
        "executionCount": 110
       },
       "overflow": false,
       "plotOptions": {
        "customPlotOptions": {},
        "displayType": "table",
        "pivotAggregation": null,
        "pivotColumns": null,
        "xColumns": null,
        "yColumns": null
       },
       "removedWidgets": [],
       "schema": [
        {
         "metadata": "{}",
         "name": "order_id",
         "type": "\"integer\""
        },
        {
         "metadata": "{}",
         "name": "order_date",
         "type": "\"date\""
        },
        {
         "metadata": "{}",
         "name": "customer_id",
         "type": "\"integer\""
        },
        {
         "metadata": "{\"__CHAR_VARCHAR_TYPE_STRING\": \"varchar(100)\"}",
         "name": "customer_name",
         "type": "\"string\""
        },
        {
         "metadata": "{\"__CHAR_VARCHAR_TYPE_STRING\": \"varchar(100)\"}",
         "name": "custumee_email",
         "type": "\"string\""
        },
        {
         "metadata": "{}",
         "name": "product_id",
         "type": "\"integer\""
        },
        {
         "metadata": "{\"__CHAR_VARCHAR_TYPE_STRING\": \"varchar(100)\"}",
         "name": "product_name",
         "type": "\"string\""
        },
        {
         "metadata": "{\"__CHAR_VARCHAR_TYPE_STRING\": \"varchar(50)\"}",
         "name": "product_category",
         "type": "\"string\""
        },
        {
         "metadata": "{}",
         "name": "quantity",
         "type": "\"integer\""
        },
        {
         "metadata": "{}",
         "name": "unit_price",
         "type": "\"decimal(10,2)\""
        },
        {
         "metadata": "{\"__CHAR_VARCHAR_TYPE_STRING\": \"varchar(50)\"}",
         "name": "payment_type",
         "type": "\"string\""
        },
        {
         "metadata": "{\"__CHAR_VARCHAR_TYPE_STRING\": \"varchar(50)\"}",
         "name": "country",
         "type": "\"string\""
        },
        {
         "metadata": "{}",
         "name": "last_updated",
         "type": "\"date\""
        },
        {
         "metadata": "{}",
         "name": "first_name",
         "type": "\"string\""
        },
        {
         "metadata": "{}",
         "name": "last_name",
         "type": "\"string\""
        },
        {
         "metadata": "{}",
         "name": "processDate",
         "type": "\"date\""
        }
       ],
       "type": "table"
      }
     },
     "output_type": "display_data"
    }
   ],
   "source": [
    "%sql\n",
    "SELECT * FROM datamodeling.silver.silver_table"
   ]
  }
 ],
 "metadata": {
  "application/vnd.databricks.v1+notebook": {
   "computePreferences": null,
   "dashboards": [],
   "environmentMetadata": {
    "base_environment": "",
    "environment_version": "2"
   },
   "inputWidgetPreferences": null,
   "language": "python",
   "notebookMetadata": {
    "mostRecentlyExecutedCommandWithImplicitDF": {
     "commandId": 6974590667348850,
     "dataframes": [
      "_sqldf"
     ]
    },
    "pythonIndentUnit": 4
   },
   "notebookName": "Silver",
   "widgets": {}
  },
  "language_info": {
   "name": "python"
  }
 },
 "nbformat": 4,
 "nbformat_minor": 0
}