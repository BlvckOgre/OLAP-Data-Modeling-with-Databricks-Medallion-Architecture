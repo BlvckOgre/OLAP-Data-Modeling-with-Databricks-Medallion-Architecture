{
 "cells": [
  {
   "cell_type": "markdown",
   "metadata": {
    "application/vnd.databricks.v1+cell": {
     "cellMetadata": {},
     "inputWidgets": {},
     "nuid": "da2352de-3d3c-4db3-b287-4f9c9406cd1b",
     "showTitle": false,
     "tableResultSettingsMap": {},
     "title": ""
    }
   },
   "source": [
    "## SCD TYPE 1"
   ]
  },
  {
   "cell_type": "code",
   "execution_count": 0,
   "metadata": {
    "application/vnd.databricks.v1+cell": {
     "cellMetadata": {
      "byteLimit": 2048000,
      "implicitDf": true,
      "rowLimit": 10000
     },
     "inputWidgets": {},
     "nuid": "862e2ecd-06c3-404a-be47-fd0a9fa7da24",
     "showTitle": false,
     "tableResultSettingsMap": {},
     "title": ""
    }
   },
   "outputs": [],
   "source": [
    "%sql\n",
    "CREATE TABLE datamodeling.default.scdtype1_source\n",
    "(\n",
    "  product_id INT,\n",
    "  product_name STRING,\n",
    "  product_category STRING,\n",
    "  processDate DATE\n",
    ")"
   ]
  },
  {
   "cell_type": "code",
   "execution_count": 0,
   "metadata": {
    "application/vnd.databricks.v1+cell": {
     "cellMetadata": {
      "byteLimit": 2048000,
      "implicitDf": true,
      "rowLimit": 10000
     },
     "inputWidgets": {},
     "nuid": "3d63bde6-9f65-4a30-a3ea-242d24ccda7c",
     "showTitle": false,
     "tableResultSettingsMap": {},
     "title": ""
    }
   },
   "outputs": [
    {
     "output_type": "display_data",
     "data": {
      "text/html": [
       "<style scoped>\n",
       "  .table-result-container {\n",
       "    max-height: 300px;\n",
       "    overflow: auto;\n",
       "  }\n",
       "  table, th, td {\n",
       "    border: 1px solid black;\n",
       "    border-collapse: collapse;\n",
       "  }\n",
       "  th, td {\n",
       "    padding: 5px;\n",
       "  }\n",
       "  th {\n",
       "    text-align: left;\n",
       "  }\n",
       "</style><div class='table-result-container'><table class='table-result'><thead style='background-color: white'><tr><th>num_affected_rows</th><th>num_inserted_rows</th></tr></thead><tbody><tr><td>10</td><td>10</td></tr></tbody></table></div>"
      ]
     },
     "metadata": {
      "application/vnd.databricks.v1+output": {
       "addedWidgets": {},
       "aggData": [],
       "aggError": "",
       "aggOverflow": false,
       "aggSchema": [],
       "aggSeriesLimitReached": false,
       "aggType": "",
       "arguments": {},
       "columnCustomDisplayInfos": {},
       "data": [
        [
         10,
         10
        ]
       ],
       "datasetInfos": [
        {
         "name": "_sqldf",
         "schema": {
          "fields": [
           {
            "metadata": {},
            "name": "num_affected_rows",
            "nullable": true,
            "type": "long"
           },
           {
            "metadata": {},
            "name": "num_inserted_rows",
            "nullable": true,
            "type": "long"
           }
          ],
          "type": "struct"
         },
         "tableIdentifier": null,
         "typeStr": "pyspark.sql.connect.dataframe.DataFrame"
        }
       ],
       "dbfsResultPath": null,
       "isJsonSchema": true,
       "metadata": {
        "createTempViewForImplicitDf": true,
        "dataframeName": "_sqldf",
        "executionCount": 4
       },
       "overflow": false,
       "plotOptions": {
        "customPlotOptions": {},
        "displayType": "table",
        "pivotAggregation": null,
        "pivotColumns": null,
        "xColumns": null,
        "yColumns": null
       },
       "removedWidgets": [],
       "schema": [
        {
         "metadata": "{}",
         "name": "num_affected_rows",
         "type": "\"long\""
        },
        {
         "metadata": "{}",
         "name": "num_inserted_rows",
         "type": "\"long\""
        }
       ],
       "type": "table"
      }
     },
     "output_type": "display_data"
    }
   ],
   "source": [
    "%sql\n",
    "INSERT INTO datamodeling.default.scdtype1_source\n",
    "VALUES\n",
    "(101, 'iPhone 14', 'Electronics', DATE('2025-07-01')),\n",
    "(102, 'Samsung Galaxy S22', 'Electronics', DATE('2025-07-01')),\n",
    "(103, 'Nike Air Max', 'Apparel', DATE('2025-07-02')),\n",
    "(104, 'Adidas Ultraboost', 'Apparel', DATE('2025-07-02')),\n",
    "(105, 'Sony WH-1000XM5', 'Electronics', DATE('2025-07-03')),\n",
    "(106, 'Zara Denim Jacket', 'Apparel', DATE('2025-07-03')),\n",
    "(107, 'Dell XPS 15', 'Electronics', DATE('2025-07-04')),\n",
    "(108, 'Canon EOS R7', 'Electronics', DATE('2025-07-04')),\n",
    "(109, 'H&M Hoodie', 'Apparel', DATE('2025-07-05')),\n",
    "(110, 'Xbox Series S', 'Electronics', DATE('2025-07-05'))\n"
   ]
  },
  {
   "cell_type": "code",
   "execution_count": 0,
   "metadata": {
    "application/vnd.databricks.v1+cell": {
     "cellMetadata": {
      "byteLimit": 2048000,
      "implicitDf": true,
      "rowLimit": 10000
     },
     "inputWidgets": {},
     "nuid": "f1131d98-398a-440f-b4b1-10b255649ba1",
     "showTitle": false,
     "tableResultSettingsMap": {},
     "title": ""
    }
   },
   "outputs": [],
   "source": [
    "%sql\n",
    "CREATE TABLE datamodeling.gold.scdtype1_table\n",
    "(\n",
    "  product_id INT,\n",
    "  product_name STRING,\n",
    "  product_category STRING,\n",
    "  processDate DATE\n",
    ")\n"
   ]
  },
  {
   "cell_type": "code",
   "execution_count": 0,
   "metadata": {
    "application/vnd.databricks.v1+cell": {
     "cellMetadata": {
      "byteLimit": 2048000,
      "rowLimit": 10000
     },
     "inputWidgets": {},
     "nuid": "11e17c48-a68c-45b8-a01b-89a8bd6ca39c",
     "showTitle": false,
     "tableResultSettingsMap": {},
     "title": ""
    }
   },
   "outputs": [],
   "source": [
    "spark.sql(\"SELECT * FROM datamodeling.default.scdtype1_source\").createOrReplaceTempView(\"src\")\n"
   ]
  },
  {
   "cell_type": "code",
   "execution_count": 0,
   "metadata": {
    "application/vnd.databricks.v1+cell": {
     "cellMetadata": {
      "byteLimit": 2048000,
      "implicitDf": true,
      "rowLimit": 10000
     },
     "inputWidgets": {},
     "nuid": "12245263-21f8-4be0-85b0-97768e22063b",
     "showTitle": false,
     "tableResultSettingsMap": {},
     "title": ""
    }
   },
   "outputs": [
    {
     "output_type": "display_data",
     "data": {
      "text/html": [
       "<style scoped>\n",
       "  .table-result-container {\n",
       "    max-height: 300px;\n",
       "    overflow: auto;\n",
       "  }\n",
       "  table, th, td {\n",
       "    border: 1px solid black;\n",
       "    border-collapse: collapse;\n",
       "  }\n",
       "  th, td {\n",
       "    padding: 5px;\n",
       "  }\n",
       "  th {\n",
       "    text-align: left;\n",
       "  }\n",
       "</style><div class='table-result-container'><table class='table-result'><thead style='background-color: white'><tr><th>num_affected_rows</th><th>num_updated_rows</th><th>num_deleted_rows</th><th>num_inserted_rows</th></tr></thead><tbody><tr><td>1</td><td>0</td><td>0</td><td>1</td></tr></tbody></table></div>"
      ]
     },
     "metadata": {
      "application/vnd.databricks.v1+output": {
       "addedWidgets": {},
       "aggData": [],
       "aggError": "",
       "aggOverflow": false,
       "aggSchema": [],
       "aggSeriesLimitReached": false,
       "aggType": "",
       "arguments": {},
       "columnCustomDisplayInfos": {},
       "data": [
        [
         1,
         0,
         0,
         1
        ]
       ],
       "datasetInfos": [
        {
         "name": "_sqldf",
         "schema": {
          "fields": [
           {
            "metadata": {},
            "name": "num_affected_rows",
            "nullable": true,
            "type": "long"
           },
           {
            "metadata": {},
            "name": "num_updated_rows",
            "nullable": true,
            "type": "long"
           },
           {
            "metadata": {},
            "name": "num_deleted_rows",
            "nullable": true,
            "type": "long"
           },
           {
            "metadata": {},
            "name": "num_inserted_rows",
            "nullable": true,
            "type": "long"
           }
          ],
          "type": "struct"
         },
         "tableIdentifier": null,
         "typeStr": "pyspark.sql.connect.dataframe.DataFrame"
        }
       ],
       "dbfsResultPath": null,
       "isJsonSchema": true,
       "metadata": {
        "createTempViewForImplicitDf": true,
        "dataframeName": "_sqldf",
        "executionCount": 28
       },
       "overflow": false,
       "plotOptions": {
        "customPlotOptions": {},
        "displayType": "table",
        "pivotAggregation": null,
        "pivotColumns": null,
        "xColumns": null,
        "yColumns": null
       },
       "removedWidgets": [],
       "schema": [
        {
         "metadata": "{}",
         "name": "num_affected_rows",
         "type": "\"long\""
        },
        {
         "metadata": "{}",
         "name": "num_updated_rows",
         "type": "\"long\""
        },
        {
         "metadata": "{}",
         "name": "num_deleted_rows",
         "type": "\"long\""
        },
        {
         "metadata": "{}",
         "name": "num_inserted_rows",
         "type": "\"long\""
        }
       ],
       "type": "table"
      }
     },
     "output_type": "display_data"
    }
   ],
   "source": [
    "%sql\n",
    "MERGE INTO datamodeling.gold.scdtype1_table AS trg\n",
    "USING src\n",
    "ON src.product_id = trg.product_id\n",
    "WHEN MATCHED AND src.processDate > trg.processDate THEN UPDATE SET *\n",
    "WHEN NOT MATCHED THEN INSERT *"
   ]
  },
  {
   "cell_type": "code",
   "execution_count": 0,
   "metadata": {
    "application/vnd.databricks.v1+cell": {
     "cellMetadata": {
      "byteLimit": 2048000,
      "implicitDf": true,
      "rowLimit": 10000
     },
     "inputWidgets": {},
     "nuid": "73f26095-3e11-49de-a871-8a9721d65e10",
     "showTitle": false,
     "tableResultSettingsMap": {},
     "title": ""
    }
   },
   "outputs": [
    {
     "output_type": "display_data",
     "data": {
      "text/html": [
       "<style scoped>\n",
       "  .table-result-container {\n",
       "    max-height: 300px;\n",
       "    overflow: auto;\n",
       "  }\n",
       "  table, th, td {\n",
       "    border: 1px solid black;\n",
       "    border-collapse: collapse;\n",
       "  }\n",
       "  th, td {\n",
       "    padding: 5px;\n",
       "  }\n",
       "  th {\n",
       "    text-align: left;\n",
       "  }\n",
       "</style><div class='table-result-container'><table class='table-result'><thead style='background-color: white'><tr><th>product_id</th><th>product_name</th><th>product_category</th><th>processDate</th></tr></thead><tbody><tr><td>101</td><td>iPhone 14</td><td>Electronics</td><td>2025-07-01</td></tr><tr><td>102</td><td>Samsung Galaxy S22</td><td>Electronics</td><td>2025-07-01</td></tr><tr><td>103</td><td>Nike Air Max</td><td>Apparel</td><td>2025-07-02</td></tr><tr><td>104</td><td>Adidas Ultraboost</td><td>Apparel</td><td>2025-07-02</td></tr><tr><td>105</td><td>Sony WH-1000XM5</td><td>Electronics</td><td>2025-07-03</td></tr><tr><td>106</td><td>Zara Denim Jacket</td><td>Apparel</td><td>2025-07-03</td></tr><tr><td>107</td><td>Dell XPS 15</td><td>Electronics</td><td>2025-07-04</td></tr><tr><td>108</td><td>Canon EOS R7</td><td>Electronics</td><td>2025-07-04</td></tr><tr><td>109</td><td>H&M Hoodie</td><td>Apparel</td><td>2025-07-05</td></tr><tr><td>110</td><td>Xbox Series S</td><td>Electronics</td><td>2025-07-05</td></tr><tr><td>116</td><td>Zara Denim Jacket</td><td>Apparel</td><td>2025-07-03</td></tr></tbody></table></div>"
      ]
     },
     "metadata": {
      "application/vnd.databricks.v1+output": {
       "addedWidgets": {},
       "aggData": [],
       "aggError": "",
       "aggOverflow": false,
       "aggSchema": [],
       "aggSeriesLimitReached": false,
       "aggType": "",
       "arguments": {},
       "columnCustomDisplayInfos": {},
       "data": [
        [
         101,
         "iPhone 14",
         "Electronics",
         "2025-07-01"
        ],
        [
         102,
         "Samsung Galaxy S22",
         "Electronics",
         "2025-07-01"
        ],
        [
         103,
         "Nike Air Max",
         "Apparel",
         "2025-07-02"
        ],
        [
         104,
         "Adidas Ultraboost",
         "Apparel",
         "2025-07-02"
        ],
        [
         105,
         "Sony WH-1000XM5",
         "Electronics",
         "2025-07-03"
        ],
        [
         106,
         "Zara Denim Jacket",
         "Apparel",
         "2025-07-03"
        ],
        [
         107,
         "Dell XPS 15",
         "Electronics",
         "2025-07-04"
        ],
        [
         108,
         "Canon EOS R7",
         "Electronics",
         "2025-07-04"
        ],
        [
         109,
         "H&M Hoodie",
         "Apparel",
         "2025-07-05"
        ],
        [
         110,
         "Xbox Series S",
         "Electronics",
         "2025-07-05"
        ],
        [
         116,
         "Zara Denim Jacket",
         "Apparel",
         "2025-07-03"
        ]
       ],
       "datasetInfos": [
        {
         "name": "_sqldf",
         "schema": {
          "fields": [
           {
            "metadata": {},
            "name": "product_id",
            "nullable": true,
            "type": "integer"
           },
           {
            "metadata": {},
            "name": "product_name",
            "nullable": true,
            "type": "string"
           },
           {
            "metadata": {},
            "name": "product_category",
            "nullable": true,
            "type": "string"
           },
           {
            "metadata": {},
            "name": "processDate",
            "nullable": true,
            "type": "date"
           }
          ],
          "type": "struct"
         },
         "tableIdentifier": null,
         "typeStr": "pyspark.sql.connect.dataframe.DataFrame"
        }
       ],
       "dbfsResultPath": null,
       "isJsonSchema": true,
       "metadata": {
        "createTempViewForImplicitDf": true,
        "dataframeName": "_sqldf",
        "executionCount": 29
       },
       "overflow": false,
       "plotOptions": {
        "customPlotOptions": {},
        "displayType": "table",
        "pivotAggregation": null,
        "pivotColumns": null,
        "xColumns": null,
        "yColumns": null
       },
       "removedWidgets": [],
       "schema": [
        {
         "metadata": "{}",
         "name": "product_id",
         "type": "\"integer\""
        },
        {
         "metadata": "{}",
         "name": "product_name",
         "type": "\"string\""
        },
        {
         "metadata": "{}",
         "name": "product_category",
         "type": "\"string\""
        },
        {
         "metadata": "{}",
         "name": "processDate",
         "type": "\"date\""
        }
       ],
       "type": "table"
      }
     },
     "output_type": "display_data"
    }
   ],
   "source": [
    "%sql\n",
    "SELECT * FROM datamodeling.gold.scdtype1_table\n",
    "order by product_id"
   ]
  },
  {
   "cell_type": "code",
   "execution_count": 0,
   "metadata": {
    "application/vnd.databricks.v1+cell": {
     "cellMetadata": {
      "byteLimit": 2048000,
      "implicitDf": true,
      "rowLimit": 10000
     },
     "inputWidgets": {},
     "nuid": "0041314b-38d7-4f5b-bfb8-211affb6c12b",
     "showTitle": false,
     "tableResultSettingsMap": {},
     "title": ""
    }
   },
   "outputs": [
    {
     "output_type": "display_data",
     "data": {
      "text/html": [
       "<style scoped>\n",
       "  .table-result-container {\n",
       "    max-height: 300px;\n",
       "    overflow: auto;\n",
       "  }\n",
       "  table, th, td {\n",
       "    border: 1px solid black;\n",
       "    border-collapse: collapse;\n",
       "  }\n",
       "  th, td {\n",
       "    padding: 5px;\n",
       "  }\n",
       "  th {\n",
       "    text-align: left;\n",
       "  }\n",
       "</style><div class='table-result-container'><table class='table-result'><thead style='background-color: white'><tr><th>num_affected_rows</th></tr></thead><tbody><tr><td>1</td></tr></tbody></table></div>"
      ]
     },
     "metadata": {
      "application/vnd.databricks.v1+output": {
       "addedWidgets": {},
       "aggData": [],
       "aggError": "",
       "aggOverflow": false,
       "aggSchema": [],
       "aggSeriesLimitReached": false,
       "aggType": "",
       "arguments": {},
       "columnCustomDisplayInfos": {},
       "data": [
        [
         1
        ]
       ],
       "datasetInfos": [
        {
         "name": "_sqldf",
         "schema": {
          "fields": [
           {
            "metadata": {},
            "name": "num_affected_rows",
            "nullable": true,
            "type": "long"
           }
          ],
          "type": "struct"
         },
         "tableIdentifier": null,
         "typeStr": "pyspark.sql.connect.dataframe.DataFrame"
        }
       ],
       "dbfsResultPath": null,
       "isJsonSchema": true,
       "metadata": {
        "createTempViewForImplicitDf": true,
        "dataframeName": "_sqldf",
        "executionCount": 25
       },
       "overflow": false,
       "plotOptions": {
        "customPlotOptions": {},
        "displayType": "table",
        "pivotAggregation": null,
        "pivotColumns": null,
        "xColumns": null,
        "yColumns": null
       },
       "removedWidgets": [],
       "schema": [
        {
         "metadata": "{}",
         "name": "num_affected_rows",
         "type": "\"long\""
        }
       ],
       "type": "table"
      }
     },
     "output_type": "display_data"
    }
   ],
   "source": [
    "%sql\n",
    "UPDATE datamodeling.default.scdtype1_source SET product_name = 'iPhone 15 pro'\n",
    "WHERE product_id = 101;\n",
    "UPDATE datamodeling.default.scdtype1_source SET product_name = 'Jordan 1'\n",
    "WHERE product_id = 103;\n",
    "UPDATE datamodeling.default.scdtype1_source SET product_id = 116\n",
    "WHERE product_name = 'Zara Denim Jacket';"
   ]
  },
  {
   "cell_type": "markdown",
   "metadata": {
    "application/vnd.databricks.v1+cell": {
     "cellMetadata": {},
     "inputWidgets": {},
     "nuid": "ab70b676-23eb-4c41-bd63-330f783407e4",
     "showTitle": false,
     "tableResultSettingsMap": {},
     "title": ""
    }
   },
   "source": [
    "## SCD TYPE2"
   ]
  },
  {
   "cell_type": "code",
   "execution_count": 0,
   "metadata": {
    "application/vnd.databricks.v1+cell": {
     "cellMetadata": {
      "byteLimit": 2048000,
      "implicitDf": true,
      "rowLimit": 10000
     },
     "inputWidgets": {},
     "nuid": "b6a7e9d9-4068-4cfb-b82d-fed8d1a43266",
     "showTitle": false,
     "tableResultSettingsMap": {},
     "title": ""
    }
   },
   "outputs": [],
   "source": [
    "%sql\n",
    "CREATE TABLE datamodeling.default.scdtype2_source\n",
    "(\n",
    "  product_id INT,\n",
    "  product_name STRING,\n",
    "  product_category STRING,\n",
    "  processDate DATE\n",
    ")"
   ]
  },
  {
   "cell_type": "code",
   "execution_count": 0,
   "metadata": {
    "application/vnd.databricks.v1+cell": {
     "cellMetadata": {
      "byteLimit": 2048000,
      "implicitDf": true,
      "rowLimit": 10000
     },
     "inputWidgets": {},
     "nuid": "5f8a8142-af41-40d0-99ca-dd3140cc098c",
     "showTitle": false,
     "tableResultSettingsMap": {},
     "title": ""
    }
   },
   "outputs": [
    {
     "output_type": "display_data",
     "data": {
      "text/html": [
       "<style scoped>\n",
       "  .table-result-container {\n",
       "    max-height: 300px;\n",
       "    overflow: auto;\n",
       "  }\n",
       "  table, th, td {\n",
       "    border: 1px solid black;\n",
       "    border-collapse: collapse;\n",
       "  }\n",
       "  th, td {\n",
       "    padding: 5px;\n",
       "  }\n",
       "  th {\n",
       "    text-align: left;\n",
       "  }\n",
       "</style><div class='table-result-container'><table class='table-result'><thead style='background-color: white'><tr><th>num_affected_rows</th><th>num_inserted_rows</th></tr></thead><tbody><tr><td>10</td><td>10</td></tr></tbody></table></div>"
      ]
     },
     "metadata": {
      "application/vnd.databricks.v1+output": {
       "addedWidgets": {},
       "aggData": [],
       "aggError": "",
       "aggOverflow": false,
       "aggSchema": [],
       "aggSeriesLimitReached": false,
       "aggType": "",
       "arguments": {},
       "columnCustomDisplayInfos": {},
       "data": [
        [
         10,
         10
        ]
       ],
       "datasetInfos": [
        {
         "name": "_sqldf",
         "schema": {
          "fields": [
           {
            "metadata": {},
            "name": "num_affected_rows",
            "nullable": true,
            "type": "long"
           },
           {
            "metadata": {},
            "name": "num_inserted_rows",
            "nullable": true,
            "type": "long"
           }
          ],
          "type": "struct"
         },
         "tableIdentifier": null,
         "typeStr": "pyspark.sql.connect.dataframe.DataFrame"
        }
       ],
       "dbfsResultPath": null,
       "isJsonSchema": true,
       "metadata": {
        "createTempViewForImplicitDf": true,
        "dataframeName": "_sqldf",
        "executionCount": 105
       },
       "overflow": false,
       "plotOptions": {
        "customPlotOptions": {},
        "displayType": "table",
        "pivotAggregation": null,
        "pivotColumns": null,
        "xColumns": null,
        "yColumns": null
       },
       "removedWidgets": [],
       "schema": [
        {
         "metadata": "{}",
         "name": "num_affected_rows",
         "type": "\"long\""
        },
        {
         "metadata": "{}",
         "name": "num_inserted_rows",
         "type": "\"long\""
        }
       ],
       "type": "table"
      }
     },
     "output_type": "display_data"
    }
   ],
   "source": [
    "%sql\n",
    "INSERT INTO datamodeling.default.scdtype2_source\n",
    "VALUES\n",
    "(101, 'iPhone 14', 'Electronics', DATE('2025-07-01')),\n",
    "(102, 'Samsung Galaxy S22', 'Electronics', DATE('2025-07-01')),\n",
    "(103, 'Nike Air Max', 'Apparel', DATE('2025-07-02')),\n",
    "(104, 'Adidas Ultraboost', 'Apparel', DATE('2025-07-02')),\n",
    "(105, 'Sony WH-1000XM5', 'Electronics', DATE('2025-07-03')),\n",
    "(106, 'Zara Denim Jacket', 'Apparel', DATE('2025-07-03')),\n",
    "(107, 'Dell XPS 15', 'Electronics', DATE('2025-07-04')),\n",
    "(108, 'Canon EOS R7', 'Electronics', DATE('2025-07-04')),\n",
    "(109, 'H&M Hoodie', 'Apparel', DATE('2025-07-05')),\n",
    "(110, 'Xbox Series S', 'Electronics', DATE('2025-07-05'))"
   ]
  },
  {
   "cell_type": "code",
   "execution_count": 0,
   "metadata": {
    "application/vnd.databricks.v1+cell": {
     "cellMetadata": {
      "byteLimit": 2048000,
      "implicitDf": true,
      "rowLimit": 10000
     },
     "inputWidgets": {},
     "nuid": "c248bc00-990e-4367-9723-5464ed66240f",
     "showTitle": false,
     "tableResultSettingsMap": {},
     "title": ""
    }
   },
   "outputs": [],
   "source": [
    "%sql\n",
    "CREATE TABLE datamodeling.gold.scdtype2_table\n",
    "(\n",
    "  product_id INT,\n",
    "  product_name STRING,\n",
    "  product_category STRING,\n",
    "  processDate DATE,\n",
    "  start_date DATE,\n",
    "  end_date DATE,\n",
    "  is_current STRING\n",
    ")"
   ]
  },
  {
   "cell_type": "code",
   "execution_count": 0,
   "metadata": {
    "application/vnd.databricks.v1+cell": {
     "cellMetadata": {
      "byteLimit": 2048000,
      "implicitDf": true,
      "rowLimit": 10000
     },
     "inputWidgets": {},
     "nuid": "cae3da39-bdde-4389-9130-34169f185b6b",
     "showTitle": false,
     "tableResultSettingsMap": {},
     "title": ""
    }
   },
   "outputs": [
    {
     "output_type": "display_data",
     "data": {
      "text/html": [
       "<style scoped>\n",
       "  .table-result-container {\n",
       "    max-height: 300px;\n",
       "    overflow: auto;\n",
       "  }\n",
       "  table, th, td {\n",
       "    border: 1px solid black;\n",
       "    border-collapse: collapse;\n",
       "  }\n",
       "  th, td {\n",
       "    padding: 5px;\n",
       "  }\n",
       "  th {\n",
       "    text-align: left;\n",
       "  }\n",
       "</style><div class='table-result-container'><table class='table-result'><thead style='background-color: white'><tr><th>product_id</th><th>product_name</th><th>product_category</th><th>processDate</th><th>start_date</th><th>end_date</th><th>is_current</th></tr></thead><tbody><tr><td>101</td><td>iPhone 14</td><td>Electronics</td><td>2025-07-01</td><td>2025-07-14T19:06:53.448Z</td><td>3000-12-14T00:00:00.000Z</td><td>Y</td></tr><tr><td>102</td><td>Samsung Galaxy S22</td><td>Electronics</td><td>2025-07-01</td><td>2025-07-14T19:06:53.448Z</td><td>3000-12-14T00:00:00.000Z</td><td>Y</td></tr><tr><td>103</td><td>Nike Air Max</td><td>Apparel</td><td>2025-07-02</td><td>2025-07-14T19:06:53.448Z</td><td>3000-12-14T00:00:00.000Z</td><td>Y</td></tr><tr><td>104</td><td>Adidas Ultraboost</td><td>Apparel</td><td>2025-07-02</td><td>2025-07-14T19:06:53.448Z</td><td>3000-12-14T00:00:00.000Z</td><td>Y</td></tr><tr><td>105</td><td>Sony WH-1000XM5</td><td>Electronics</td><td>2025-07-03</td><td>2025-07-14T19:06:53.448Z</td><td>3000-12-14T00:00:00.000Z</td><td>Y</td></tr><tr><td>106</td><td>Zara Denim Jacket</td><td>Apparel</td><td>2025-07-03</td><td>2025-07-14T19:06:53.448Z</td><td>3000-12-14T00:00:00.000Z</td><td>Y</td></tr><tr><td>107</td><td>Dell XPS 15</td><td>Electronics</td><td>2025-07-04</td><td>2025-07-14T19:06:53.448Z</td><td>3000-12-14T00:00:00.000Z</td><td>Y</td></tr><tr><td>108</td><td>Canon EOS R7</td><td>Electronics</td><td>2025-07-04</td><td>2025-07-14T19:06:53.448Z</td><td>3000-12-14T00:00:00.000Z</td><td>Y</td></tr><tr><td>109</td><td>H&M Hoodie</td><td>Apparel</td><td>2025-07-05</td><td>2025-07-14T19:06:53.448Z</td><td>3000-12-14T00:00:00.000Z</td><td>Y</td></tr><tr><td>110</td><td>Xbox Series S</td><td>Electronics</td><td>2025-07-05</td><td>2025-07-14T19:06:53.448Z</td><td>3000-12-14T00:00:00.000Z</td><td>Y</td></tr></tbody></table></div>"
      ]
     },
     "metadata": {
      "application/vnd.databricks.v1+output": {
       "addedWidgets": {},
       "aggData": [],
       "aggError": "",
       "aggOverflow": false,
       "aggSchema": [],
       "aggSeriesLimitReached": false,
       "aggType": "",
       "arguments": {},
       "columnCustomDisplayInfos": {},
       "data": [
        [
         101,
         "iPhone 14",
         "Electronics",
         "2025-07-01",
         "2025-07-14T19:06:53.448Z",
         "3000-12-14T00:00:00.000Z",
         "Y"
        ],
        [
         102,
         "Samsung Galaxy S22",
         "Electronics",
         "2025-07-01",
         "2025-07-14T19:06:53.448Z",
         "3000-12-14T00:00:00.000Z",
         "Y"
        ],
        [
         103,
         "Nike Air Max",
         "Apparel",
         "2025-07-02",
         "2025-07-14T19:06:53.448Z",
         "3000-12-14T00:00:00.000Z",
         "Y"
        ],
        [
         104,
         "Adidas Ultraboost",
         "Apparel",
         "2025-07-02",
         "2025-07-14T19:06:53.448Z",
         "3000-12-14T00:00:00.000Z",
         "Y"
        ],
        [
         105,
         "Sony WH-1000XM5",
         "Electronics",
         "2025-07-03",
         "2025-07-14T19:06:53.448Z",
         "3000-12-14T00:00:00.000Z",
         "Y"
        ],
        [
         106,
         "Zara Denim Jacket",
         "Apparel",
         "2025-07-03",
         "2025-07-14T19:06:53.448Z",
         "3000-12-14T00:00:00.000Z",
         "Y"
        ],
        [
         107,
         "Dell XPS 15",
         "Electronics",
         "2025-07-04",
         "2025-07-14T19:06:53.448Z",
         "3000-12-14T00:00:00.000Z",
         "Y"
        ],
        [
         108,
         "Canon EOS R7",
         "Electronics",
         "2025-07-04",
         "2025-07-14T19:06:53.448Z",
         "3000-12-14T00:00:00.000Z",
         "Y"
        ],
        [
         109,
         "H&M Hoodie",
         "Apparel",
         "2025-07-05",
         "2025-07-14T19:06:53.448Z",
         "3000-12-14T00:00:00.000Z",
         "Y"
        ],
        [
         110,
         "Xbox Series S",
         "Electronics",
         "2025-07-05",
         "2025-07-14T19:06:53.448Z",
         "3000-12-14T00:00:00.000Z",
         "Y"
        ]
       ],
       "datasetInfos": [
        {
         "name": "_sqldf",
         "schema": {
          "fields": [
           {
            "metadata": {},
            "name": "product_id",
            "nullable": true,
            "type": "integer"
           },
           {
            "metadata": {},
            "name": "product_name",
            "nullable": true,
            "type": "string"
           },
           {
            "metadata": {},
            "name": "product_category",
            "nullable": true,
            "type": "string"
           },
           {
            "metadata": {},
            "name": "processDate",
            "nullable": true,
            "type": "date"
           },
           {
            "metadata": {},
            "name": "start_date",
            "nullable": false,
            "type": "timestamp"
           },
           {
            "metadata": {},
            "name": "end_date",
            "nullable": true,
            "type": "timestamp"
           },
           {
            "metadata": {},
            "name": "is_current",
            "nullable": false,
            "type": "string"
           }
          ],
          "type": "struct"
         },
         "tableIdentifier": null,
         "typeStr": "pyspark.sql.connect.dataframe.DataFrame"
        }
       ],
       "dbfsResultPath": null,
       "isJsonSchema": true,
       "metadata": {
        "createTempViewForImplicitDf": true,
        "dataframeName": "_sqldf",
        "executionCount": 107
       },
       "overflow": false,
       "plotOptions": {
        "customPlotOptions": {},
        "displayType": "table",
        "pivotAggregation": null,
        "pivotColumns": null,
        "xColumns": null,
        "yColumns": null
       },
       "removedWidgets": [],
       "schema": [
        {
         "metadata": "{}",
         "name": "product_id",
         "type": "\"integer\""
        },
        {
         "metadata": "{}",
         "name": "product_name",
         "type": "\"string\""
        },
        {
         "metadata": "{}",
         "name": "product_category",
         "type": "\"string\""
        },
        {
         "metadata": "{}",
         "name": "processDate",
         "type": "\"date\""
        },
        {
         "metadata": "{}",
         "name": "start_date",
         "type": "\"timestamp\""
        },
        {
         "metadata": "{}",
         "name": "end_date",
         "type": "\"timestamp\""
        },
        {
         "metadata": "{}",
         "name": "is_current",
         "type": "\"string\""
        }
       ],
       "type": "table"
      }
     },
     "output_type": "display_data"
    }
   ],
   "source": [
    "%sql\n",
    "SELECT *,\n",
    "          current_timestamp as start_date,\n",
    "          CAST('3000-12-14' AS TIMESTAMP) AS end_date,\n",
    "          'Y' AS is_current\n",
    "FROM datamodeling.default.scdtype2_source"
   ]
  },
  {
   "cell_type": "code",
   "execution_count": 0,
   "metadata": {
    "application/vnd.databricks.v1+cell": {
     "cellMetadata": {
      "byteLimit": 2048000,
      "rowLimit": 10000
     },
     "inputWidgets": {},
     "nuid": "cb963453-3884-46e0-b860-90eec24ad2c7",
     "showTitle": false,
     "tableResultSettingsMap": {},
     "title": ""
    }
   },
   "outputs": [],
   "source": [
    "spark.sql(\"\"\"SELECT *,\n",
    "          current_timestamp as start_date,\n",
    "          CAST('3000-12-14' AS TIMESTAMP) AS end_date,\n",
    "          'Y' AS is_current\n",
    "FROM datamodeling.default.scdtype2_source\"\"\").createOrReplaceTempView(\"src2\")"
   ]
  },
  {
   "cell_type": "code",
   "execution_count": 0,
   "metadata": {
    "application/vnd.databricks.v1+cell": {
     "cellMetadata": {
      "byteLimit": 2048000,
      "implicitDf": true,
      "rowLimit": 10000
     },
     "inputWidgets": {},
     "nuid": "07cf9881-0a65-46a2-9e53-96c6844107e9",
     "showTitle": false,
     "tableResultSettingsMap": {},
     "title": ""
    }
   },
   "outputs": [
    {
     "output_type": "display_data",
     "data": {
      "text/html": [
       "<style scoped>\n",
       "  .table-result-container {\n",
       "    max-height: 300px;\n",
       "    overflow: auto;\n",
       "  }\n",
       "  table, th, td {\n",
       "    border: 1px solid black;\n",
       "    border-collapse: collapse;\n",
       "  }\n",
       "  th, td {\n",
       "    padding: 5px;\n",
       "  }\n",
       "  th {\n",
       "    text-align: left;\n",
       "  }\n",
       "</style><div class='table-result-container'><table class='table-result'><thead style='background-color: white'><tr><th>num_affected_rows</th><th>num_updated_rows</th><th>num_deleted_rows</th><th>num_inserted_rows</th></tr></thead><tbody><tr><td>1</td><td>1</td><td>0</td><td>0</td></tr></tbody></table></div>"
      ]
     },
     "metadata": {
      "application/vnd.databricks.v1+output": {
       "addedWidgets": {},
       "aggData": [],
       "aggError": "",
       "aggOverflow": false,
       "aggSchema": [],
       "aggSeriesLimitReached": false,
       "aggType": "",
       "arguments": {},
       "columnCustomDisplayInfos": {},
       "data": [
        [
         1,
         1,
         0,
         0
        ]
       ],
       "datasetInfos": [
        {
         "name": "_sqldf",
         "schema": {
          "fields": [
           {
            "metadata": {},
            "name": "num_affected_rows",
            "nullable": true,
            "type": "long"
           },
           {
            "metadata": {},
            "name": "num_updated_rows",
            "nullable": true,
            "type": "long"
           },
           {
            "metadata": {},
            "name": "num_deleted_rows",
            "nullable": true,
            "type": "long"
           },
           {
            "metadata": {},
            "name": "num_inserted_rows",
            "nullable": true,
            "type": "long"
           }
          ],
          "type": "struct"
         },
         "tableIdentifier": null,
         "typeStr": "pyspark.sql.connect.dataframe.DataFrame"
        }
       ],
       "dbfsResultPath": null,
       "isJsonSchema": true,
       "metadata": {
        "createTempViewForImplicitDf": true,
        "dataframeName": "_sqldf",
        "executionCount": 117
       },
       "overflow": false,
       "plotOptions": {
        "customPlotOptions": {},
        "displayType": "table",
        "pivotAggregation": null,
        "pivotColumns": null,
        "xColumns": null,
        "yColumns": null
       },
       "removedWidgets": [],
       "schema": [
        {
         "metadata": "{}",
         "name": "num_affected_rows",
         "type": "\"long\""
        },
        {
         "metadata": "{}",
         "name": "num_updated_rows",
         "type": "\"long\""
        },
        {
         "metadata": "{}",
         "name": "num_deleted_rows",
         "type": "\"long\""
        },
        {
         "metadata": "{}",
         "name": "num_inserted_rows",
         "type": "\"long\""
        }
       ],
       "type": "table"
      }
     },
     "output_type": "display_data"
    }
   ],
   "source": [
    "%sql\n",
    "MERGE INTO datamodeling.gold.scdtype2_table AS trg\n",
    "USING src2\n",
    "ON src2.product_id = trg.product_id\n",
    "AND trg.is_current = 'Y'\n",
    "WHEN MATCHED AND (\n",
    "  src2.product_name <> trg.product_name OR\n",
    "  src2.product_category <> trg.product_category OR\n",
    "  src2.processDate <> trg.processDate\n",
    ") THEN UPDATE SET \n",
    "  trg.end_date = current_timestamp(),\n",
    "  trg.is_current = 'N'\n",
    "\n"
   ]
  },
  {
   "cell_type": "code",
   "execution_count": 0,
   "metadata": {
    "application/vnd.databricks.v1+cell": {
     "cellMetadata": {
      "byteLimit": 2048000,
      "implicitDf": true,
      "rowLimit": 10000
     },
     "inputWidgets": {},
     "nuid": "77deedcb-7ae4-42c5-9d8b-653d885ec191",
     "showTitle": false,
     "tableResultSettingsMap": {},
     "title": ""
    }
   },
   "outputs": [
    {
     "output_type": "display_data",
     "data": {
      "text/html": [
       "<style scoped>\n",
       "  .table-result-container {\n",
       "    max-height: 300px;\n",
       "    overflow: auto;\n",
       "  }\n",
       "  table, th, td {\n",
       "    border: 1px solid black;\n",
       "    border-collapse: collapse;\n",
       "  }\n",
       "  th, td {\n",
       "    padding: 5px;\n",
       "  }\n",
       "  th {\n",
       "    text-align: left;\n",
       "  }\n",
       "</style><div class='table-result-container'><table class='table-result'><thead style='background-color: white'><tr><th>num_affected_rows</th><th>num_updated_rows</th><th>num_deleted_rows</th><th>num_inserted_rows</th></tr></thead><tbody><tr><td>1</td><td>0</td><td>0</td><td>1</td></tr></tbody></table></div>"
      ]
     },
     "metadata": {
      "application/vnd.databricks.v1+output": {
       "addedWidgets": {},
       "aggData": [],
       "aggError": "",
       "aggOverflow": false,
       "aggSchema": [],
       "aggSeriesLimitReached": false,
       "aggType": "",
       "arguments": {},
       "columnCustomDisplayInfos": {},
       "data": [
        [
         1,
         0,
         0,
         1
        ]
       ],
       "datasetInfos": [
        {
         "name": "_sqldf",
         "schema": {
          "fields": [
           {
            "metadata": {},
            "name": "num_affected_rows",
            "nullable": true,
            "type": "long"
           },
           {
            "metadata": {},
            "name": "num_updated_rows",
            "nullable": true,
            "type": "long"
           },
           {
            "metadata": {},
            "name": "num_deleted_rows",
            "nullable": true,
            "type": "long"
           },
           {
            "metadata": {},
            "name": "num_inserted_rows",
            "nullable": true,
            "type": "long"
           }
          ],
          "type": "struct"
         },
         "tableIdentifier": null,
         "typeStr": "pyspark.sql.connect.dataframe.DataFrame"
        }
       ],
       "dbfsResultPath": null,
       "isJsonSchema": true,
       "metadata": {
        "createTempViewForImplicitDf": true,
        "dataframeName": "_sqldf",
        "executionCount": 118
       },
       "overflow": false,
       "plotOptions": {
        "customPlotOptions": {},
        "displayType": "table",
        "pivotAggregation": null,
        "pivotColumns": null,
        "xColumns": null,
        "yColumns": null
       },
       "removedWidgets": [],
       "schema": [
        {
         "metadata": "{}",
         "name": "num_affected_rows",
         "type": "\"long\""
        },
        {
         "metadata": "{}",
         "name": "num_updated_rows",
         "type": "\"long\""
        },
        {
         "metadata": "{}",
         "name": "num_deleted_rows",
         "type": "\"long\""
        },
        {
         "metadata": "{}",
         "name": "num_inserted_rows",
         "type": "\"long\""
        }
       ],
       "type": "table"
      }
     },
     "output_type": "display_data"
    }
   ],
   "source": [
    "%sql\n",
    "MERGE INTO datamodeling.gold.scdtype2_table AS trg\n",
    "USING src2\n",
    "ON trg.product_id = src2.product_id AND\n",
    "trg.is_current = 'Y'\n",
    "\n",
    "WHEN NOT MATCHED THEN INSERT\n",
    "(\n",
    "  product_id,\n",
    "  product_name,\n",
    "  product_category,\n",
    "  processDate,\n",
    "  start_date,\n",
    "  end_date,\n",
    "  is_current\n",
    ")\n",
    "VALUES \n",
    "(\n",
    "  src2.product_id,\n",
    "  src2.product_name,\n",
    "  src2.product_category,\n",
    "  src2.processDate,\n",
    "  src2.start_date,\n",
    "  src2.end_date,\n",
    "  src2.is_current\n",
    ")"
   ]
  },
  {
   "cell_type": "code",
   "execution_count": 0,
   "metadata": {
    "application/vnd.databricks.v1+cell": {
     "cellMetadata": {
      "byteLimit": 2048000,
      "implicitDf": true,
      "rowLimit": 10000
     },
     "inputWidgets": {},
     "nuid": "649abae9-b042-4e2e-8ee4-acb222af0e88",
     "showTitle": false,
     "tableResultSettingsMap": {},
     "title": ""
    }
   },
   "outputs": [
    {
     "output_type": "display_data",
     "data": {
      "text/html": [
       "<style scoped>\n",
       "  .table-result-container {\n",
       "    max-height: 300px;\n",
       "    overflow: auto;\n",
       "  }\n",
       "  table, th, td {\n",
       "    border: 1px solid black;\n",
       "    border-collapse: collapse;\n",
       "  }\n",
       "  th, td {\n",
       "    padding: 5px;\n",
       "  }\n",
       "  th {\n",
       "    text-align: left;\n",
       "  }\n",
       "</style><div class='table-result-container'><table class='table-result'><thead style='background-color: white'><tr><th>product_id</th><th>product_name</th><th>product_category</th><th>processDate</th><th>start_date</th><th>end_date</th><th>is_current</th></tr></thead><tbody><tr><td>102</td><td>Samsung Galaxy S22</td><td>Electronics</td><td>2025-07-01</td><td>2025-07-14</td><td>3000-12-14</td><td>Y</td></tr><tr><td>103</td><td>Nike Air Max</td><td>Apparel</td><td>2025-07-02</td><td>2025-07-14</td><td>3000-12-14</td><td>Y</td></tr><tr><td>104</td><td>Adidas Ultraboost</td><td>Apparel</td><td>2025-07-02</td><td>2025-07-14</td><td>3000-12-14</td><td>Y</td></tr><tr><td>105</td><td>Sony WH-1000XM5</td><td>Electronics</td><td>2025-07-03</td><td>2025-07-14</td><td>3000-12-14</td><td>Y</td></tr><tr><td>106</td><td>Zara Denim Jacket</td><td>Apparel</td><td>2025-07-03</td><td>2025-07-14</td><td>3000-12-14</td><td>Y</td></tr><tr><td>107</td><td>Dell XPS 15</td><td>Electronics</td><td>2025-07-04</td><td>2025-07-14</td><td>3000-12-14</td><td>Y</td></tr><tr><td>108</td><td>Canon EOS R7</td><td>Electronics</td><td>2025-07-04</td><td>2025-07-14</td><td>3000-12-14</td><td>Y</td></tr><tr><td>109</td><td>H&M Hoodie</td><td>Apparel</td><td>2025-07-05</td><td>2025-07-14</td><td>3000-12-14</td><td>Y</td></tr><tr><td>110</td><td>Xbox Series S</td><td>Electronics</td><td>2025-07-05</td><td>2025-07-14</td><td>3000-12-14</td><td>Y</td></tr><tr><td>101</td><td>iPhone 15 pro</td><td>Electronics</td><td>2025-07-01</td><td>2025-07-14</td><td>3000-12-14</td><td>Y</td></tr><tr><td>101</td><td>iPhone 14</td><td>Electronics</td><td>2025-07-01</td><td>2025-07-14</td><td>2025-07-14</td><td>N</td></tr></tbody></table></div>"
      ]
     },
     "metadata": {
      "application/vnd.databricks.v1+output": {
       "addedWidgets": {},
       "aggData": [],
       "aggError": "",
       "aggOverflow": false,
       "aggSchema": [],
       "aggSeriesLimitReached": false,
       "aggType": "",
       "arguments": {},
       "columnCustomDisplayInfos": {},
       "data": [
        [
         102,
         "Samsung Galaxy S22",
         "Electronics",
         "2025-07-01",
         "2025-07-14",
         "3000-12-14",
         "Y"
        ],
        [
         103,
         "Nike Air Max",
         "Apparel",
         "2025-07-02",
         "2025-07-14",
         "3000-12-14",
         "Y"
        ],
        [
         104,
         "Adidas Ultraboost",
         "Apparel",
         "2025-07-02",
         "2025-07-14",
         "3000-12-14",
         "Y"
        ],
        [
         105,
         "Sony WH-1000XM5",
         "Electronics",
         "2025-07-03",
         "2025-07-14",
         "3000-12-14",
         "Y"
        ],
        [
         106,
         "Zara Denim Jacket",
         "Apparel",
         "2025-07-03",
         "2025-07-14",
         "3000-12-14",
         "Y"
        ],
        [
         107,
         "Dell XPS 15",
         "Electronics",
         "2025-07-04",
         "2025-07-14",
         "3000-12-14",
         "Y"
        ],
        [
         108,
         "Canon EOS R7",
         "Electronics",
         "2025-07-04",
         "2025-07-14",
         "3000-12-14",
         "Y"
        ],
        [
         109,
         "H&M Hoodie",
         "Apparel",
         "2025-07-05",
         "2025-07-14",
         "3000-12-14",
         "Y"
        ],
        [
         110,
         "Xbox Series S",
         "Electronics",
         "2025-07-05",
         "2025-07-14",
         "3000-12-14",
         "Y"
        ],
        [
         101,
         "iPhone 15 pro",
         "Electronics",
         "2025-07-01",
         "2025-07-14",
         "3000-12-14",
         "Y"
        ],
        [
         101,
         "iPhone 14",
         "Electronics",
         "2025-07-01",
         "2025-07-14",
         "2025-07-14",
         "N"
        ]
       ],
       "datasetInfos": [
        {
         "name": "_sqldf",
         "schema": {
          "fields": [
           {
            "metadata": {},
            "name": "product_id",
            "nullable": true,
            "type": "integer"
           },
           {
            "metadata": {},
            "name": "product_name",
            "nullable": true,
            "type": "string"
           },
           {
            "metadata": {},
            "name": "product_category",
            "nullable": true,
            "type": "string"
           },
           {
            "metadata": {},
            "name": "processDate",
            "nullable": true,
            "type": "date"
           },
           {
            "metadata": {},
            "name": "start_date",
            "nullable": true,
            "type": "date"
           },
           {
            "metadata": {},
            "name": "end_date",
            "nullable": true,
            "type": "date"
           },
           {
            "metadata": {},
            "name": "is_current",
            "nullable": true,
            "type": "string"
           }
          ],
          "type": "struct"
         },
         "tableIdentifier": null,
         "typeStr": "pyspark.sql.connect.dataframe.DataFrame"
        }
       ],
       "dbfsResultPath": null,
       "isJsonSchema": true,
       "metadata": {
        "createTempViewForImplicitDf": true,
        "dataframeName": "_sqldf",
        "executionCount": 119
       },
       "overflow": false,
       "plotOptions": {
        "customPlotOptions": {},
        "displayType": "table",
        "pivotAggregation": null,
        "pivotColumns": null,
        "xColumns": null,
        "yColumns": null
       },
       "removedWidgets": [],
       "schema": [
        {
         "metadata": "{}",
         "name": "product_id",
         "type": "\"integer\""
        },
        {
         "metadata": "{}",
         "name": "product_name",
         "type": "\"string\""
        },
        {
         "metadata": "{}",
         "name": "product_category",
         "type": "\"string\""
        },
        {
         "metadata": "{}",
         "name": "processDate",
         "type": "\"date\""
        },
        {
         "metadata": "{}",
         "name": "start_date",
         "type": "\"date\""
        },
        {
         "metadata": "{}",
         "name": "end_date",
         "type": "\"date\""
        },
        {
         "metadata": "{}",
         "name": "is_current",
         "type": "\"string\""
        }
       ],
       "type": "table"
      }
     },
     "output_type": "display_data"
    }
   ],
   "source": [
    "%sql\n",
    "SELECT * FROM datamodeling.gold.scdtype2_table"
   ]
  },
  {
   "cell_type": "code",
   "execution_count": 0,
   "metadata": {
    "application/vnd.databricks.v1+cell": {
     "cellMetadata": {},
     "inputWidgets": {},
     "nuid": "f784bc0e-b170-4a8d-a0b1-8a80d104970a",
     "showTitle": false,
     "tableResultSettingsMap": {},
     "title": ""
    }
   },
   "outputs": [
    {
     "output_type": "display_data",
     "data": {
      "text/html": [
       "<style scoped>\n",
       "  .table-result-container {\n",
       "    max-height: 300px;\n",
       "    overflow: auto;\n",
       "  }\n",
       "  table, th, td {\n",
       "    border: 1px solid black;\n",
       "    border-collapse: collapse;\n",
       "  }\n",
       "  th, td {\n",
       "    padding: 5px;\n",
       "  }\n",
       "  th {\n",
       "    text-align: left;\n",
       "  }\n",
       "</style><div class='table-result-container'><table class='table-result'><thead style='background-color: white'><tr><th>num_affected_rows</th></tr></thead><tbody><tr><td>1</td></tr></tbody></table></div>"
      ]
     },
     "metadata": {
      "application/vnd.databricks.v1+output": {
       "addedWidgets": {},
       "aggData": [],
       "aggError": "",
       "aggOverflow": false,
       "aggSchema": [],
       "aggSeriesLimitReached": false,
       "aggType": "",
       "arguments": {},
       "columnCustomDisplayInfos": {},
       "data": [
        [
         1
        ]
       ],
       "datasetInfos": [
        {
         "name": "_sqldf",
         "schema": {
          "fields": [
           {
            "metadata": {},
            "name": "num_affected_rows",
            "nullable": true,
            "type": "long"
           }
          ],
          "type": "struct"
         },
         "tableIdentifier": null,
         "typeStr": "pyspark.sql.connect.dataframe.DataFrame"
        }
       ],
       "dbfsResultPath": null,
       "isJsonSchema": true,
       "metadata": {
        "createTempViewForImplicitDf": true,
        "dataframeName": "_sqldf",
        "executionCount": 115
       },
       "overflow": false,
       "plotOptions": {
        "customPlotOptions": {},
        "displayType": "table",
        "pivotAggregation": null,
        "pivotColumns": null,
        "xColumns": null,
        "yColumns": null
       },
       "removedWidgets": [],
       "schema": [
        {
         "metadata": "{}",
         "name": "num_affected_rows",
         "type": "\"long\""
        }
       ],
       "type": "table"
      }
     },
     "output_type": "display_data"
    }
   ],
   "source": [
    "UPDATE"
   ]
  }
 ],
 "metadata": {
  "application/vnd.databricks.v1+notebook": {
   "computePreferences": null,
   "dashboards": [],
   "environmentMetadata": {
    "base_environment": "",
    "environment_version": "2"
   },
   "inputWidgetPreferences": null,
   "language": "python",
   "notebookMetadata": {
    "mostRecentlyExecutedCommandWithImplicitDF": {
     "commandId": 4708967921575802,
     "dataframes": [
      "_sqldf"
     ]
    },
    "pythonIndentUnit": 4
   },
   "notebookName": "SCDs",
   "widgets": {}
  },
  "language_info": {
   "name": "python"
  }
 },
 "nbformat": 4,
 "nbformat_minor": 0
}