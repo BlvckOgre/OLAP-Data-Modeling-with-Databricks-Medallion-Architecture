{
 "cells": [
  {
   "cell_type": "markdown",
   "metadata": {
    "application/vnd.databricks.v1+cell": {
     "cellMetadata": {},
     "inputWidgets": {},
     "nuid": "f26447bf-7509-459e-a114-72bf25474701",
     "showTitle": false,
     "tableResultSettingsMap": {},
     "title": ""
    }
   },
   "source": [
    "# Using sql Create a Table"
   ]
  },
  {
   "cell_type": "code",
   "execution_count": 0,
   "metadata": {
    "application/vnd.databricks.v1+cell": {
     "cellMetadata": {
      "byteLimit": 2048000,
      "implicitDf": true,
      "rowLimit": 10000
     },
     "inputWidgets": {},
     "nuid": "3202835b-587e-4ea5-ac27-0b95465ceb8d",
     "showTitle": false,
     "tableResultSettingsMap": {},
     "title": ""
    }
   },
   "outputs": [],
   "source": [
    "%sql\n",
    "CREATE TABLE datamodeling.default.source_data\n",
    "(\n",
    "  order_id INT PRIMARY KEY,\n",
    "  order_date DATE,\n",
    "  customer_id INT,\n",
    "  customer_name VARCHAR(100),\n",
    "  custumee_email VARCHAR(100),\n",
    "  product_id INT,\n",
    "  product_name VARCHAR(100),\n",
    "  product_category VARCHAR(50),\n",
    "  quantity INT,\n",
    "  unit_price DECIMAL(10,2),\n",
    "  payment_type VARCHAR(50),\n",
    "  country VARCHAR(50),\n",
    "  last_updated DATE\n",
    ")"
   ]
  },
  {
   "cell_type": "code",
   "execution_count": 0,
   "metadata": {
    "application/vnd.databricks.v1+cell": {
     "cellMetadata": {
      "byteLimit": 2048000,
      "implicitDf": true,
      "rowLimit": 10000
     },
     "inputWidgets": {},
     "nuid": "b1c67d1d-ef3e-4a45-87a0-438ef0facc72",
     "showTitle": false,
     "tableResultSettingsMap": {},
     "title": ""
    }
   },
   "outputs": [
    {
     "output_type": "display_data",
     "data": {
      "text/html": [
       "<style scoped>\n",
       "  .table-result-container {\n",
       "    max-height: 300px;\n",
       "    overflow: auto;\n",
       "  }\n",
       "  table, th, td {\n",
       "    border: 1px solid black;\n",
       "    border-collapse: collapse;\n",
       "  }\n",
       "  th, td {\n",
       "    padding: 5px;\n",
       "  }\n",
       "  th {\n",
       "    text-align: left;\n",
       "  }\n",
       "</style><div class='table-result-container'><table class='table-result'><thead style='background-color: white'><tr><th>num_affected_rows</th><th>num_inserted_rows</th></tr></thead><tbody><tr><td>3</td><td>3</td></tr></tbody></table></div>"
      ]
     },
     "metadata": {
      "application/vnd.databricks.v1+output": {
       "addedWidgets": {},
       "aggData": [],
       "aggError": "",
       "aggOverflow": false,
       "aggSchema": [],
       "aggSeriesLimitReached": false,
       "aggType": "",
       "arguments": {},
       "columnCustomDisplayInfos": {},
       "data": [
        [
         3,
         3
        ]
       ],
       "datasetInfos": [
        {
         "name": "_sqldf",
         "schema": {
          "fields": [
           {
            "metadata": {},
            "name": "num_affected_rows",
            "nullable": true,
            "type": "long"
           },
           {
            "metadata": {},
            "name": "num_inserted_rows",
            "nullable": true,
            "type": "long"
           }
          ],
          "type": "struct"
         },
         "tableIdentifier": null,
         "typeStr": "pyspark.sql.connect.dataframe.DataFrame"
        }
       ],
       "dbfsResultPath": null,
       "isJsonSchema": true,
       "metadata": {
        "createTempViewForImplicitDf": true,
        "dataframeName": "_sqldf",
        "executionCount": 13
       },
       "overflow": false,
       "plotOptions": {
        "customPlotOptions": {},
        "displayType": "table",
        "pivotAggregation": null,
        "pivotColumns": null,
        "xColumns": null,
        "yColumns": null
       },
       "removedWidgets": [],
       "schema": [
        {
         "metadata": "{}",
         "name": "num_affected_rows",
         "type": "\"long\""
        },
        {
         "metadata": "{}",
         "name": "num_inserted_rows",
         "type": "\"long\""
        }
       ],
       "type": "table"
      }
     },
     "output_type": "display_data"
    }
   ],
   "source": [
    "%sql\n",
    "-- Initial load \n",
    "INSERT INTO datamodeling.default.source_data VALUES\n",
    "(1001, '2025-07-01', 1, 'Alice Johnson', 'alice@example.com', 501, 'Samsung A45', 'Electronics', 1, 1599.99, 'Credit Card', 'RSA', '2025-07-01'),\n",
    "(1002, '2025-07-02', 2, 'Dimakatso Malpe', 'dimakatso@example.com', 502, 'iPhone 14', 'Electronics', 2, 2689.99, 'PayPal', 'RSA', '2025-07-02'),\n",
    "(1003, '2025-07-03', 3, 'Lego Mojapelo', 'lego@example.com', 503, 'PlayStation 5', 'Electronics', 1, 499.99, 'Apple Pay', 'RSA', '2025-07-03')\n"
   ]
  },
  {
   "cell_type": "code",
   "execution_count": 0,
   "metadata": {
    "application/vnd.databricks.v1+cell": {
     "cellMetadata": {
      "byteLimit": 2048000,
      "implicitDf": true,
      "rowLimit": 10000
     },
     "inputWidgets": {},
     "nuid": "927f923b-97f0-45b8-ab5c-4e7ba5054b9e",
     "showTitle": false,
     "tableResultSettingsMap": {},
     "title": ""
    }
   },
   "outputs": [
    {
     "output_type": "display_data",
     "data": {
      "text/html": [
       "<style scoped>\n",
       "  .table-result-container {\n",
       "    max-height: 300px;\n",
       "    overflow: auto;\n",
       "  }\n",
       "  table, th, td {\n",
       "    border: 1px solid black;\n",
       "    border-collapse: collapse;\n",
       "  }\n",
       "  th, td {\n",
       "    padding: 5px;\n",
       "  }\n",
       "  th {\n",
       "    text-align: left;\n",
       "  }\n",
       "</style><div class='table-result-container'><table class='table-result'><thead style='background-color: white'><tr><th>order_id</th><th>order_date</th><th>customer_id</th><th>customer_name</th><th>custumee_email</th><th>product_id</th><th>product_name</th><th>product_category</th><th>quantity</th><th>unit_price</th><th>payment_type</th><th>country</th><th>last_updated</th></tr></thead><tbody><tr><td>1001</td><td>2025-07-01</td><td>1</td><td>Alice Johnson</td><td>alice@example.com</td><td>501</td><td>Samsung A45</td><td>Electronics</td><td>1</td><td>1599.99</td><td>Credit Card</td><td>RSA</td><td>2025-07-01</td></tr><tr><td>1002</td><td>2025-07-02</td><td>2</td><td>Dimakatso Malpe</td><td>dimakatso@example.com</td><td>502</td><td>iPhone 14</td><td>Electronics</td><td>2</td><td>2689.99</td><td>PayPal</td><td>RSA</td><td>2025-07-02</td></tr><tr><td>1003</td><td>2025-07-03</td><td>3</td><td>Lego Mojapelo</td><td>lego@example.com</td><td>503</td><td>PlayStation 5</td><td>Electronics</td><td>1</td><td>499.99</td><td>Apple Pay</td><td>RSA</td><td>2025-07-03</td></tr></tbody></table></div>"
      ]
     },
     "metadata": {
      "application/vnd.databricks.v1+output": {
       "addedWidgets": {},
       "aggData": [],
       "aggError": "",
       "aggOverflow": false,
       "aggSchema": [],
       "aggSeriesLimitReached": false,
       "aggType": "",
       "arguments": {},
       "columnCustomDisplayInfos": {},
       "data": [
        [
         1001,
         "2025-07-01",
         1,
         "Alice Johnson",
         "alice@example.com",
         501,
         "Samsung A45",
         "Electronics",
         1,
         "1599.99",
         "Credit Card",
         "RSA",
         "2025-07-01"
        ],
        [
         1002,
         "2025-07-02",
         2,
         "Dimakatso Malpe",
         "dimakatso@example.com",
         502,
         "iPhone 14",
         "Electronics",
         2,
         "2689.99",
         "PayPal",
         "RSA",
         "2025-07-02"
        ],
        [
         1003,
         "2025-07-03",
         3,
         "Lego Mojapelo",
         "lego@example.com",
         503,
         "PlayStation 5",
         "Electronics",
         1,
         "499.99",
         "Apple Pay",
         "RSA",
         "2025-07-03"
        ]
       ],
       "datasetInfos": [
        {
         "name": "_sqldf",
         "schema": {
          "fields": [
           {
            "metadata": {},
            "name": "order_id",
            "nullable": false,
            "type": "integer"
           },
           {
            "metadata": {},
            "name": "order_date",
            "nullable": true,
            "type": "date"
           },
           {
            "metadata": {},
            "name": "customer_id",
            "nullable": true,
            "type": "integer"
           },
           {
            "metadata": {
             "__CHAR_VARCHAR_TYPE_STRING": "varchar(100)"
            },
            "name": "customer_name",
            "nullable": true,
            "type": "string"
           },
           {
            "metadata": {
             "__CHAR_VARCHAR_TYPE_STRING": "varchar(100)"
            },
            "name": "custumee_email",
            "nullable": true,
            "type": "string"
           },
           {
            "metadata": {},
            "name": "product_id",
            "nullable": true,
            "type": "integer"
           },
           {
            "metadata": {
             "__CHAR_VARCHAR_TYPE_STRING": "varchar(100)"
            },
            "name": "product_name",
            "nullable": true,
            "type": "string"
           },
           {
            "metadata": {
             "__CHAR_VARCHAR_TYPE_STRING": "varchar(50)"
            },
            "name": "product_category",
            "nullable": true,
            "type": "string"
           },
           {
            "metadata": {},
            "name": "quantity",
            "nullable": true,
            "type": "integer"
           },
           {
            "metadata": {},
            "name": "unit_price",
            "nullable": true,
            "type": "decimal(10,2)"
           },
           {
            "metadata": {
             "__CHAR_VARCHAR_TYPE_STRING": "varchar(50)"
            },
            "name": "payment_type",
            "nullable": true,
            "type": "string"
           },
           {
            "metadata": {
             "__CHAR_VARCHAR_TYPE_STRING": "varchar(50)"
            },
            "name": "country",
            "nullable": true,
            "type": "string"
           },
           {
            "metadata": {},
            "name": "last_updated",
            "nullable": true,
            "type": "date"
           }
          ],
          "type": "struct"
         },
         "tableIdentifier": null,
         "typeStr": "pyspark.sql.connect.dataframe.DataFrame"
        }
       ],
       "dbfsResultPath": null,
       "isJsonSchema": true,
       "metadata": {
        "createTempViewForImplicitDf": true,
        "dataframeName": "_sqldf",
        "executionCount": 17
       },
       "overflow": false,
       "plotOptions": {
        "customPlotOptions": {},
        "displayType": "table",
        "pivotAggregation": null,
        "pivotColumns": null,
        "xColumns": null,
        "yColumns": null
       },
       "removedWidgets": [],
       "schema": [
        {
         "metadata": "{}",
         "name": "order_id",
         "type": "\"integer\""
        },
        {
         "metadata": "{}",
         "name": "order_date",
         "type": "\"date\""
        },
        {
         "metadata": "{}",
         "name": "customer_id",
         "type": "\"integer\""
        },
        {
         "metadata": "{\"__CHAR_VARCHAR_TYPE_STRING\": \"varchar(100)\"}",
         "name": "customer_name",
         "type": "\"string\""
        },
        {
         "metadata": "{\"__CHAR_VARCHAR_TYPE_STRING\": \"varchar(100)\"}",
         "name": "custumee_email",
         "type": "\"string\""
        },
        {
         "metadata": "{}",
         "name": "product_id",
         "type": "\"integer\""
        },
        {
         "metadata": "{\"__CHAR_VARCHAR_TYPE_STRING\": \"varchar(100)\"}",
         "name": "product_name",
         "type": "\"string\""
        },
        {
         "metadata": "{\"__CHAR_VARCHAR_TYPE_STRING\": \"varchar(50)\"}",
         "name": "product_category",
         "type": "\"string\""
        },
        {
         "metadata": "{}",
         "name": "quantity",
         "type": "\"integer\""
        },
        {
         "metadata": "{}",
         "name": "unit_price",
         "type": "\"decimal(10,2)\""
        },
        {
         "metadata": "{\"__CHAR_VARCHAR_TYPE_STRING\": \"varchar(50)\"}",
         "name": "payment_type",
         "type": "\"string\""
        },
        {
         "metadata": "{\"__CHAR_VARCHAR_TYPE_STRING\": \"varchar(50)\"}",
         "name": "country",
         "type": "\"string\""
        },
        {
         "metadata": "{}",
         "name": "last_updated",
         "type": "\"date\""
        }
       ],
       "type": "table"
      }
     },
     "output_type": "display_data"
    }
   ],
   "source": [
    "%sql\n",
    "SELECT * FROM datamodeling.default.source_data"
   ]
  },
  {
   "cell_type": "code",
   "execution_count": 0,
   "metadata": {
    "application/vnd.databricks.v1+cell": {
     "cellMetadata": {
      "byteLimit": 2048000,
      "implicitDf": true,
      "rowLimit": 10000
     },
     "inputWidgets": {},
     "nuid": "fa39b3b8-c880-4c15-9492-0ede2ae74067",
     "showTitle": false,
     "tableResultSettingsMap": {},
     "title": ""
    }
   },
   "outputs": [
    {
     "output_type": "display_data",
     "data": {
      "text/html": [
       "<style scoped>\n",
       "  .table-result-container {\n",
       "    max-height: 300px;\n",
       "    overflow: auto;\n",
       "  }\n",
       "  table, th, td {\n",
       "    border: 1px solid black;\n",
       "    border-collapse: collapse;\n",
       "  }\n",
       "  th, td {\n",
       "    padding: 5px;\n",
       "  }\n",
       "  th {\n",
       "    text-align: left;\n",
       "  }\n",
       "</style><div class='table-result-container'><table class='table-result'><thead style='background-color: white'><tr><th>num_affected_rows</th><th>num_inserted_rows</th></tr></thead><tbody><tr><td>17</td><td>17</td></tr></tbody></table></div>"
      ]
     },
     "metadata": {
      "application/vnd.databricks.v1+output": {
       "addedWidgets": {},
       "aggData": [],
       "aggError": "",
       "aggOverflow": false,
       "aggSchema": [],
       "aggSeriesLimitReached": false,
       "aggType": "",
       "arguments": {},
       "columnCustomDisplayInfos": {},
       "data": [
        [
         17,
         17
        ]
       ],
       "datasetInfos": [
        {
         "name": "_sqldf",
         "schema": {
          "fields": [
           {
            "metadata": {},
            "name": "num_affected_rows",
            "nullable": true,
            "type": "long"
           },
           {
            "metadata": {},
            "name": "num_inserted_rows",
            "nullable": true,
            "type": "long"
           }
          ],
          "type": "struct"
         },
         "tableIdentifier": null,
         "typeStr": "pyspark.sql.connect.dataframe.DataFrame"
        }
       ],
       "dbfsResultPath": null,
       "isJsonSchema": true,
       "metadata": {
        "createTempViewForImplicitDf": true,
        "dataframeName": "_sqldf",
        "executionCount": 6
       },
       "overflow": false,
       "plotOptions": {
        "customPlotOptions": {},
        "displayType": "table",
        "pivotAggregation": null,
        "pivotColumns": null,
        "xColumns": null,
        "yColumns": null
       },
       "removedWidgets": [],
       "schema": [
        {
         "metadata": "{}",
         "name": "num_affected_rows",
         "type": "\"long\""
        },
        {
         "metadata": "{}",
         "name": "num_inserted_rows",
         "type": "\"long\""
        }
       ],
       "type": "table"
      }
     },
     "output_type": "display_data"
    }
   ],
   "source": [
    "%sql\n",
    "-- incremental load\n",
    "INSERT INTO datamodeling.default.source_data VALUES\n",
    "(1004, '2025-07-04', 4, 'Thando Ndlovu', 'thando@example.com', 504, 'Dell XPS 13', 'Electronics', 1, 1299.99, 'Credit Card', 'RSA', '2025-07-04'),\n",
    "(1005, '2025-07-05', 5, 'Sipho Mokoena', 'sipho@example.com', 505, 'Nike Air Max', 'Apparel', 2, 299.99, 'PayPal', 'RSA', '2025-07-05'),\n",
    "(1006, '2025-07-06', 6, 'Karabo Sithole', 'karabo@example.com', 506, 'Samsung TV 55\"', 'Electronics', 1, 899.99, 'Credit Card', 'RSA', '2025-07-06'),\n",
    "(1007, '2025-07-07', 7, 'Boitumelo Dlamini', 'boitumelo@example.com', 507, 'Adidas Hoodie', 'Apparel', 3, 149.99, 'Google Pay', 'RSA', '2025-07-07'),\n",
    "(1008, '2025-07-08', 8, 'Lehlohonolo Mabuza', 'lehlohonolo@example.com', 508, 'Canon EOS 90D', 'Electronics', 1, 1099.99, 'Credit Card', 'RSA', '2025-07-08'),\n",
    "(1009, '2025-07-09', 9, 'Naledi Khumalo', 'naledi@example.com', 509, 'Zara Jacket', 'Apparel', 1, 199.99, 'PayPal', 'RSA', '2025-07-09'),\n",
    "(1010, '2025-07-10', 10, 'Tshepo Mthembu', 'tshepo@example.com', 510, 'MacBook Pro 14\"', 'Electronics', 1, 2499.99, 'Apple Pay', 'RSA', '2025-07-10'),\n",
    "(1011, '2025-07-11', 11, 'Refilwe Nkosi', 'refilwe@example.com', 511, 'iPad Air', 'Electronics', 2, 799.99, 'Google Pay', 'RSA', '2025-07-11'),\n",
    "(1012, '2025-07-12', 12, 'Mpho Sekhukhune', 'mpho@example.com', 512, 'Reebok Classic', 'Apparel', 1, 119.99, 'Credit Card', 'RSA', '2025-07-12'),\n",
    "(1013, '2025-07-13', 13, 'Kagiso Motsepe', 'kagiso@example.com', 513, 'GoPro Hero 12', 'Electronics', 1, 499.99, 'PayPal', 'RSA', '2025-07-13'),\n",
    "(1014, '2025-07-14', 14, 'Zanele Mhlongo', 'zanele@example.com', 514, 'Sony WH-1000XM5', 'Electronics', 1, 399.99, 'Credit Card', 'RSA', '2025-07-14'),\n",
    "(1015, '2025-07-15', 15, 'Lerato Mashaba', 'lerato@example.com', 515, 'Asics Gel-Kayano', 'Apparel', 2, 249.99, 'Google Pay', 'RSA', '2025-07-15'),\n",
    "(1016, '2025-07-16', 16, 'Andile Nxumalo', 'andile@example.com', 516, 'Fitbit Versa 4', 'Electronics', 1, 229.99, 'Apple Pay', 'RSA', '2025-07-16'),\n",
    "(1017, '2025-07-17', 17, 'Nokuthula Shongwe', 'nokuthula@example.com', 517, 'HP Spectre x360', 'Electronics', 1, 1599.99, 'Credit Card', 'RSA', '2025-07-17'),\n",
    "(1018, '2025-07-18', 18, 'Thabang Zulu', 'thabang@example.com', 518, 'Xbox Series X', 'Electronics', 1, 499.99, 'PayPal', 'RSA', '2025-07-18'),\n",
    "(1019, '2025-07-19', 19, 'Kelebogile Dube', 'kelebogile@example.com', 519, 'H&M Sweatshirt', 'Apparel', 3, 89.99, 'Google Pay', 'RSA', '2025-07-19'),\n",
    "(1020, '2025-07-20', 20, 'Sibongile Mazibuko', 'sibongile@example.com', 520, 'Huawei MateBook D15', 'Electronics', 1, 1099.99, 'Credit Card', 'RSA', '2025-07-20')\n"
   ]
  }
 ],
 "metadata": {
  "application/vnd.databricks.v1+notebook": {
   "computePreferences": null,
   "dashboards": [],
   "environmentMetadata": {
    "base_environment": "",
    "environment_version": "2"
   },
   "inputWidgetPreferences": null,
   "language": "python",
   "notebookMetadata": {
    "mostRecentlyExecutedCommandWithImplicitDF": {
     "commandId": 6974590667348845,
     "dataframes": [
      "_sqldf"
     ]
    },
    "pythonIndentUnit": 4
   },
   "notebookName": "SourceNotebook",
   "widgets": {}
  },
  "language_info": {
   "name": "python"
  }
 },
 "nbformat": 4,
 "nbformat_minor": 0
}