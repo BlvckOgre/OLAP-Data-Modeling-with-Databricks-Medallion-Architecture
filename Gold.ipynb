{
 "cells": [
  {
   "cell_type": "markdown",
   "metadata": {
    "application/vnd.databricks.v1+cell": {
     "cellMetadata": {},
     "inputWidgets": {},
     "nuid": "8e0552f1-c94e-414e-91e2-6b68b208e6fd",
     "showTitle": false,
     "tableResultSettingsMap": {},
     "title": ""
    }
   },
   "source": [
    "## DimCustomers"
   ]
  },
  {
   "cell_type": "code",
   "execution_count": 0,
   "metadata": {
    "application/vnd.databricks.v1+cell": {
     "cellMetadata": {
      "byteLimit": 2048000,
      "implicitDf": true,
      "rowLimit": 10000
     },
     "inputWidgets": {},
     "nuid": "e9fdae4d-a766-4381-bb72-d64176ad29f5",
     "showTitle": false,
     "tableResultSettingsMap": {},
     "title": ""
    }
   },
   "outputs": [
    {
     "output_type": "display_data",
     "data": {
      "text/html": [
       "<style scoped>\n",
       "  .table-result-container {\n",
       "    max-height: 300px;\n",
       "    overflow: auto;\n",
       "  }\n",
       "  table, th, td {\n",
       "    border: 1px solid black;\n",
       "    border-collapse: collapse;\n",
       "  }\n",
       "  th, td {\n",
       "    padding: 5px;\n",
       "  }\n",
       "  th {\n",
       "    text-align: left;\n",
       "  }\n",
       "</style><div class='table-result-container'><table class='table-result'><thead style='background-color: white'><tr><th>num_affected_rows</th><th>num_inserted_rows</th></tr></thead><tbody></tbody></table></div>"
      ]
     },
     "metadata": {
      "application/vnd.databricks.v1+output": {
       "addedWidgets": {},
       "aggData": [],
       "aggError": "",
       "aggOverflow": false,
       "aggSchema": [],
       "aggSeriesLimitReached": false,
       "aggType": "",
       "arguments": {},
       "columnCustomDisplayInfos": {},
       "data": [],
       "datasetInfos": [
        {
         "name": "_sqldf",
         "schema": {
          "fields": [
           {
            "metadata": {},
            "name": "num_affected_rows",
            "nullable": true,
            "type": "long"
           },
           {
            "metadata": {},
            "name": "num_inserted_rows",
            "nullable": true,
            "type": "long"
           }
          ],
          "type": "struct"
         },
         "tableIdentifier": null,
         "typeStr": "pyspark.sql.connect.dataframe.DataFrame"
        }
       ],
       "dbfsResultPath": null,
       "isJsonSchema": true,
       "metadata": {
        "createTempViewForImplicitDf": true,
        "dataframeName": "_sqldf",
        "executionCount": 38
       },
       "overflow": false,
       "plotOptions": {
        "customPlotOptions": {},
        "displayType": "table",
        "pivotAggregation": null,
        "pivotColumns": null,
        "xColumns": null,
        "yColumns": null
       },
       "removedWidgets": [],
       "schema": [
        {
         "metadata": "{}",
         "name": "num_affected_rows",
         "type": "\"long\""
        },
        {
         "metadata": "{}",
         "name": "num_inserted_rows",
         "type": "\"long\""
        }
       ],
       "type": "table"
      }
     },
     "output_type": "display_data"
    }
   ],
   "source": [
    "%sql\n",
    "CREATE OR REPLACE TABLE datamodeling.gold.DimCustomers \n",
    "AS\n",
    "WITH remove_duplicates AS(\n",
    "SELECT \n",
    "  DISTINCT(customer_id),\n",
    "  customer_name,\n",
    "  first_name,\n",
    "  last_name,\n",
    "  custumee_email \n",
    "FROM datamodeling.silver.silver_table\n",
    ")\n",
    "SELECT *, \n",
    "  row_number() OVER(ORDER BY customer_id) AS DimCustomerKey\n",
    "FROM remove_duplicates\n"
   ]
  },
  {
   "cell_type": "markdown",
   "metadata": {
    "application/vnd.databricks.v1+cell": {
     "cellMetadata": {},
     "inputWidgets": {},
     "nuid": "810c1738-6c0a-4d83-a4e9-9f5328991704",
     "showTitle": false,
     "tableResultSettingsMap": {},
     "title": ""
    }
   },
   "source": [
    "## DimProducts"
   ]
  },
  {
   "cell_type": "code",
   "execution_count": 0,
   "metadata": {
    "application/vnd.databricks.v1+cell": {
     "cellMetadata": {
      "byteLimit": 2048000,
      "implicitDf": true,
      "rowLimit": 10000
     },
     "inputWidgets": {},
     "nuid": "bd92b000-c001-4848-81fd-78d0a767b9b4",
     "showTitle": false,
     "tableResultSettingsMap": {},
     "title": ""
    }
   },
   "outputs": [
    {
     "output_type": "display_data",
     "data": {
      "text/html": [
       "<style scoped>\n",
       "  .table-result-container {\n",
       "    max-height: 300px;\n",
       "    overflow: auto;\n",
       "  }\n",
       "  table, th, td {\n",
       "    border: 1px solid black;\n",
       "    border-collapse: collapse;\n",
       "  }\n",
       "  th, td {\n",
       "    padding: 5px;\n",
       "  }\n",
       "  th {\n",
       "    text-align: left;\n",
       "  }\n",
       "</style><div class='table-result-container'><table class='table-result'><thead style='background-color: white'><tr><th>num_affected_rows</th><th>num_inserted_rows</th></tr></thead><tbody></tbody></table></div>"
      ]
     },
     "metadata": {
      "application/vnd.databricks.v1+output": {
       "addedWidgets": {},
       "aggData": [],
       "aggError": "",
       "aggOverflow": false,
       "aggSchema": [],
       "aggSeriesLimitReached": false,
       "aggType": "",
       "arguments": {},
       "columnCustomDisplayInfos": {},
       "data": [],
       "datasetInfos": [
        {
         "name": "_sqldf",
         "schema": {
          "fields": [
           {
            "metadata": {},
            "name": "num_affected_rows",
            "nullable": true,
            "type": "long"
           },
           {
            "metadata": {},
            "name": "num_inserted_rows",
            "nullable": true,
            "type": "long"
           }
          ],
          "type": "struct"
         },
         "tableIdentifier": null,
         "typeStr": "pyspark.sql.connect.dataframe.DataFrame"
        }
       ],
       "dbfsResultPath": null,
       "isJsonSchema": true,
       "metadata": {
        "createTempViewForImplicitDf": true,
        "dataframeName": "_sqldf",
        "executionCount": 47
       },
       "overflow": false,
       "plotOptions": {
        "customPlotOptions": {},
        "displayType": "table",
        "pivotAggregation": null,
        "pivotColumns": null,
        "xColumns": null,
        "yColumns": null
       },
       "removedWidgets": [],
       "schema": [
        {
         "metadata": "{}",
         "name": "num_affected_rows",
         "type": "\"long\""
        },
        {
         "metadata": "{}",
         "name": "num_inserted_rows",
         "type": "\"long\""
        }
       ],
       "type": "table"
      }
     },
     "output_type": "display_data"
    }
   ],
   "source": [
    "%sql\n",
    "CREATE OR REPLACE TABLE datamodeling.gold.DimProducts \n",
    "AS\n",
    "WITH remove_duplicates AS(\n",
    "SELECT \n",
    "  DISTINCT(product_id),\n",
    "  product_name,\n",
    "  product_category\n",
    "FROM datamodeling.silver.silver_table\n",
    ")\n",
    "SELECT *, \n",
    "  row_number() OVER(ORDER BY product_id) AS DimProductKey\n",
    "FROM remove_duplicates\n",
    "    "
   ]
  },
  {
   "cell_type": "code",
   "execution_count": 0,
   "metadata": {
    "application/vnd.databricks.v1+cell": {
     "cellMetadata": {
      "byteLimit": 2048000,
      "implicitDf": true,
      "rowLimit": 10000
     },
     "inputWidgets": {},
     "nuid": "d7456973-3abc-4991-abec-400f3f4d0eea",
     "showTitle": false,
     "tableResultSettingsMap": {},
     "title": ""
    }
   },
   "outputs": [
    {
     "output_type": "display_data",
     "data": {
      "text/html": [
       "<style scoped>\n",
       "  .table-result-container {\n",
       "    max-height: 300px;\n",
       "    overflow: auto;\n",
       "  }\n",
       "  table, th, td {\n",
       "    border: 1px solid black;\n",
       "    border-collapse: collapse;\n",
       "  }\n",
       "  th, td {\n",
       "    padding: 5px;\n",
       "  }\n",
       "  th {\n",
       "    text-align: left;\n",
       "  }\n",
       "</style><div class='table-result-container'><table class='table-result'><thead style='background-color: white'><tr><th>product_id</th><th>product_name</th><th>product_category</th><th>DimProductKey</th></tr></thead><tbody><tr><td>501</td><td>Samsung A45</td><td>Electronics</td><td>1</td></tr><tr><td>502</td><td>iPhone 14</td><td>Electronics</td><td>2</td></tr><tr><td>503</td><td>PlayStation 5</td><td>Electronics</td><td>3</td></tr><tr><td>504</td><td>Dell XPS 13</td><td>Electronics</td><td>4</td></tr><tr><td>505</td><td>Nike Air Max</td><td>Apparel</td><td>5</td></tr><tr><td>506</td><td>Samsung TV 55\"</td><td>Electronics</td><td>6</td></tr><tr><td>507</td><td>Adidas Hoodie</td><td>Apparel</td><td>7</td></tr><tr><td>508</td><td>Canon EOS 90D</td><td>Electronics</td><td>8</td></tr><tr><td>509</td><td>Zara Jacket</td><td>Apparel</td><td>9</td></tr><tr><td>510</td><td>MacBook Pro 14\"</td><td>Electronics</td><td>10</td></tr><tr><td>511</td><td>iPad Air</td><td>Electronics</td><td>11</td></tr><tr><td>512</td><td>Reebok Classic</td><td>Apparel</td><td>12</td></tr><tr><td>513</td><td>GoPro Hero 12</td><td>Electronics</td><td>13</td></tr><tr><td>514</td><td>Sony WH-1000XM5</td><td>Electronics</td><td>14</td></tr><tr><td>515</td><td>Asics Gel-Kayano</td><td>Apparel</td><td>15</td></tr><tr><td>516</td><td>Fitbit Versa 4</td><td>Electronics</td><td>16</td></tr><tr><td>517</td><td>HP Spectre x360</td><td>Electronics</td><td>17</td></tr><tr><td>518</td><td>Xbox Series X</td><td>Electronics</td><td>18</td></tr><tr><td>519</td><td>H&M Sweatshirt</td><td>Apparel</td><td>19</td></tr><tr><td>520</td><td>Huawei MateBook D15</td><td>Electronics</td><td>20</td></tr></tbody></table></div>"
      ]
     },
     "metadata": {
      "application/vnd.databricks.v1+output": {
       "addedWidgets": {},
       "aggData": [],
       "aggError": "",
       "aggOverflow": false,
       "aggSchema": [],
       "aggSeriesLimitReached": false,
       "aggType": "",
       "arguments": {},
       "columnCustomDisplayInfos": {},
       "data": [
        [
         501,
         "Samsung A45",
         "Electronics",
         1
        ],
        [
         502,
         "iPhone 14",
         "Electronics",
         2
        ],
        [
         503,
         "PlayStation 5",
         "Electronics",
         3
        ],
        [
         504,
         "Dell XPS 13",
         "Electronics",
         4
        ],
        [
         505,
         "Nike Air Max",
         "Apparel",
         5
        ],
        [
         506,
         "Samsung TV 55\"",
         "Electronics",
         6
        ],
        [
         507,
         "Adidas Hoodie",
         "Apparel",
         7
        ],
        [
         508,
         "Canon EOS 90D",
         "Electronics",
         8
        ],
        [
         509,
         "Zara Jacket",
         "Apparel",
         9
        ],
        [
         510,
         "MacBook Pro 14\"",
         "Electronics",
         10
        ],
        [
         511,
         "iPad Air",
         "Electronics",
         11
        ],
        [
         512,
         "Reebok Classic",
         "Apparel",
         12
        ],
        [
         513,
         "GoPro Hero 12",
         "Electronics",
         13
        ],
        [
         514,
         "Sony WH-1000XM5",
         "Electronics",
         14
        ],
        [
         515,
         "Asics Gel-Kayano",
         "Apparel",
         15
        ],
        [
         516,
         "Fitbit Versa 4",
         "Electronics",
         16
        ],
        [
         517,
         "HP Spectre x360",
         "Electronics",
         17
        ],
        [
         518,
         "Xbox Series X",
         "Electronics",
         18
        ],
        [
         519,
         "H&M Sweatshirt",
         "Apparel",
         19
        ],
        [
         520,
         "Huawei MateBook D15",
         "Electronics",
         20
        ]
       ],
       "datasetInfos": [
        {
         "name": "_sqldf",
         "schema": {
          "fields": [
           {
            "metadata": {},
            "name": "product_id",
            "nullable": true,
            "type": "integer"
           },
           {
            "metadata": {
             "__CHAR_VARCHAR_TYPE_STRING": "varchar(100)"
            },
            "name": "product_name",
            "nullable": true,
            "type": "string"
           },
           {
            "metadata": {
             "__CHAR_VARCHAR_TYPE_STRING": "varchar(50)"
            },
            "name": "product_category",
            "nullable": true,
            "type": "string"
           },
           {
            "metadata": {},
            "name": "DimProductKey",
            "nullable": true,
            "type": "integer"
           }
          ],
          "type": "struct"
         },
         "tableIdentifier": null,
         "typeStr": "pyspark.sql.connect.dataframe.DataFrame"
        }
       ],
       "dbfsResultPath": null,
       "isJsonSchema": true,
       "metadata": {
        "createTempViewForImplicitDf": true,
        "dataframeName": "_sqldf",
        "executionCount": 56
       },
       "overflow": false,
       "plotOptions": {
        "customPlotOptions": {},
        "displayType": "table",
        "pivotAggregation": null,
        "pivotColumns": null,
        "xColumns": null,
        "yColumns": null
       },
       "removedWidgets": [],
       "schema": [
        {
         "metadata": "{}",
         "name": "product_id",
         "type": "\"integer\""
        },
        {
         "metadata": "{\"__CHAR_VARCHAR_TYPE_STRING\": \"varchar(100)\"}",
         "name": "product_name",
         "type": "\"string\""
        },
        {
         "metadata": "{\"__CHAR_VARCHAR_TYPE_STRING\": \"varchar(50)\"}",
         "name": "product_category",
         "type": "\"string\""
        },
        {
         "metadata": "{}",
         "name": "DimProductKey",
         "type": "\"integer\""
        }
       ],
       "type": "table"
      }
     },
     "output_type": "display_data"
    }
   ],
   "source": [
    "%sql\n",
    "SELECT * FROM datamodeling.gold.dimproducts\n"
   ]
  },
  {
   "cell_type": "markdown",
   "metadata": {
    "application/vnd.databricks.v1+cell": {
     "cellMetadata": {},
     "inputWidgets": {},
     "nuid": "937af9d7-a839-408a-83cb-3efa1fa7db47",
     "showTitle": false,
     "tableResultSettingsMap": {},
     "title": ""
    }
   },
   "source": [
    "## DimPayments"
   ]
  },
  {
   "cell_type": "code",
   "execution_count": 0,
   "metadata": {
    "application/vnd.databricks.v1+cell": {
     "cellMetadata": {
      "byteLimit": 2048000,
      "implicitDf": true,
      "rowLimit": 10000
     },
     "inputWidgets": {},
     "nuid": "0fdc5201-8878-4c18-9f41-8f3cecf55f0d",
     "showTitle": false,
     "tableResultSettingsMap": {},
     "title": ""
    }
   },
   "outputs": [
    {
     "output_type": "display_data",
     "data": {
      "text/html": [
       "<style scoped>\n",
       "  .table-result-container {\n",
       "    max-height: 300px;\n",
       "    overflow: auto;\n",
       "  }\n",
       "  table, th, td {\n",
       "    border: 1px solid black;\n",
       "    border-collapse: collapse;\n",
       "  }\n",
       "  th, td {\n",
       "    padding: 5px;\n",
       "  }\n",
       "  th {\n",
       "    text-align: left;\n",
       "  }\n",
       "</style><div class='table-result-container'><table class='table-result'><thead style='background-color: white'><tr><th>num_affected_rows</th><th>num_inserted_rows</th></tr></thead><tbody></tbody></table></div>"
      ]
     },
     "metadata": {
      "application/vnd.databricks.v1+output": {
       "addedWidgets": {},
       "aggData": [],
       "aggError": "",
       "aggOverflow": false,
       "aggSchema": [],
       "aggSeriesLimitReached": false,
       "aggType": "",
       "arguments": {},
       "columnCustomDisplayInfos": {},
       "data": [],
       "datasetInfos": [
        {
         "name": "_sqldf",
         "schema": {
          "fields": [
           {
            "metadata": {},
            "name": "num_affected_rows",
            "nullable": true,
            "type": "long"
           },
           {
            "metadata": {},
            "name": "num_inserted_rows",
            "nullable": true,
            "type": "long"
           }
          ],
          "type": "struct"
         },
         "tableIdentifier": null,
         "typeStr": "pyspark.sql.connect.dataframe.DataFrame"
        }
       ],
       "dbfsResultPath": null,
       "isJsonSchema": true,
       "metadata": {
        "createTempViewForImplicitDf": true,
        "dataframeName": "_sqldf",
        "executionCount": 54
       },
       "overflow": false,
       "plotOptions": {
        "customPlotOptions": {},
        "displayType": "table",
        "pivotAggregation": null,
        "pivotColumns": null,
        "xColumns": null,
        "yColumns": null
       },
       "removedWidgets": [],
       "schema": [
        {
         "metadata": "{}",
         "name": "num_affected_rows",
         "type": "\"long\""
        },
        {
         "metadata": "{}",
         "name": "num_inserted_rows",
         "type": "\"long\""
        }
       ],
       "type": "table"
      }
     },
     "output_type": "display_data"
    }
   ],
   "source": [
    "%sql\n",
    "CREATE OR REPLACE TABLE datamodeling.gold.DimPayments \n",
    "AS\n",
    "WITH remove_duplicates AS(\n",
    "SELECT \n",
    "  DISTINCT(payment_type)\n",
    "FROM datamodeling.silver.silver_table\n",
    ")\n",
    "SELECT *, \n",
    "  row_number() OVER(ORDER BY payment_type) AS DimPaymentKey\n",
    "FROM remove_duplicates\n",
    "    "
   ]
  },
  {
   "cell_type": "code",
   "execution_count": 0,
   "metadata": {
    "application/vnd.databricks.v1+cell": {
     "cellMetadata": {
      "byteLimit": 2048000,
      "implicitDf": true,
      "rowLimit": 10000
     },
     "inputWidgets": {},
     "nuid": "8e22df98-acd3-4226-b987-66d761eede78",
     "showTitle": false,
     "tableResultSettingsMap": {},
     "title": ""
    }
   },
   "outputs": [
    {
     "output_type": "display_data",
     "data": {
      "text/html": [
       "<style scoped>\n",
       "  .table-result-container {\n",
       "    max-height: 300px;\n",
       "    overflow: auto;\n",
       "  }\n",
       "  table, th, td {\n",
       "    border: 1px solid black;\n",
       "    border-collapse: collapse;\n",
       "  }\n",
       "  th, td {\n",
       "    padding: 5px;\n",
       "  }\n",
       "  th {\n",
       "    text-align: left;\n",
       "  }\n",
       "</style><div class='table-result-container'><table class='table-result'><thead style='background-color: white'><tr><th>payment_type</th><th>DimPaymentKey</th></tr></thead><tbody><tr><td>Apple Pay</td><td>1</td></tr><tr><td>Credit Card</td><td>2</td></tr><tr><td>Google Pay</td><td>3</td></tr><tr><td>PayPal</td><td>4</td></tr></tbody></table></div>"
      ]
     },
     "metadata": {
      "application/vnd.databricks.v1+output": {
       "addedWidgets": {},
       "aggData": [],
       "aggError": "",
       "aggOverflow": false,
       "aggSchema": [],
       "aggSeriesLimitReached": false,
       "aggType": "",
       "arguments": {},
       "columnCustomDisplayInfos": {},
       "data": [
        [
         "Apple Pay",
         1
        ],
        [
         "Credit Card",
         2
        ],
        [
         "Google Pay",
         3
        ],
        [
         "PayPal",
         4
        ]
       ],
       "datasetInfos": [
        {
         "name": "_sqldf",
         "schema": {
          "fields": [
           {
            "metadata": {
             "__CHAR_VARCHAR_TYPE_STRING": "varchar(50)"
            },
            "name": "payment_type",
            "nullable": true,
            "type": "string"
           },
           {
            "metadata": {},
            "name": "DimPaymentKey",
            "nullable": true,
            "type": "integer"
           }
          ],
          "type": "struct"
         },
         "tableIdentifier": null,
         "typeStr": "pyspark.sql.connect.dataframe.DataFrame"
        }
       ],
       "dbfsResultPath": null,
       "isJsonSchema": true,
       "metadata": {
        "createTempViewForImplicitDf": true,
        "dataframeName": "_sqldf",
        "executionCount": 55
       },
       "overflow": false,
       "plotOptions": {
        "customPlotOptions": {},
        "displayType": "table",
        "pivotAggregation": null,
        "pivotColumns": null,
        "xColumns": null,
        "yColumns": null
       },
       "removedWidgets": [],
       "schema": [
        {
         "metadata": "{\"__CHAR_VARCHAR_TYPE_STRING\": \"varchar(50)\"}",
         "name": "payment_type",
         "type": "\"string\""
        },
        {
         "metadata": "{}",
         "name": "DimPaymentKey",
         "type": "\"integer\""
        }
       ],
       "type": "table"
      }
     },
     "output_type": "display_data"
    }
   ],
   "source": [
    "%sql\n",
    "SELECT * FROM datamodeling.gold.dimpayments"
   ]
  },
  {
   "cell_type": "markdown",
   "metadata": {
    "application/vnd.databricks.v1+cell": {
     "cellMetadata": {},
     "inputWidgets": {},
     "nuid": "6b5bd52a-0f2b-4391-bcef-6906d278fc48",
     "showTitle": false,
     "tableResultSettingsMap": {},
     "title": ""
    }
   },
   "source": [
    "## DimRegion"
   ]
  },
  {
   "cell_type": "code",
   "execution_count": 0,
   "metadata": {
    "application/vnd.databricks.v1+cell": {
     "cellMetadata": {
      "byteLimit": 2048000,
      "implicitDf": true,
      "rowLimit": 10000
     },
     "inputWidgets": {},
     "nuid": "48bf1bae-db16-45a4-9df7-88085b7cc0c2",
     "showTitle": false,
     "tableResultSettingsMap": {},
     "title": ""
    }
   },
   "outputs": [
    {
     "output_type": "display_data",
     "data": {
      "text/html": [
       "<style scoped>\n",
       "  .table-result-container {\n",
       "    max-height: 300px;\n",
       "    overflow: auto;\n",
       "  }\n",
       "  table, th, td {\n",
       "    border: 1px solid black;\n",
       "    border-collapse: collapse;\n",
       "  }\n",
       "  th, td {\n",
       "    padding: 5px;\n",
       "  }\n",
       "  th {\n",
       "    text-align: left;\n",
       "  }\n",
       "</style><div class='table-result-container'><table class='table-result'><thead style='background-color: white'><tr><th>num_affected_rows</th><th>num_inserted_rows</th></tr></thead><tbody></tbody></table></div>"
      ]
     },
     "metadata": {
      "application/vnd.databricks.v1+output": {
       "addedWidgets": {},
       "aggData": [],
       "aggError": "",
       "aggOverflow": false,
       "aggSchema": [],
       "aggSeriesLimitReached": false,
       "aggType": "",
       "arguments": {},
       "columnCustomDisplayInfos": {},
       "data": [],
       "datasetInfos": [
        {
         "name": "_sqldf",
         "schema": {
          "fields": [
           {
            "metadata": {},
            "name": "num_affected_rows",
            "nullable": true,
            "type": "long"
           },
           {
            "metadata": {},
            "name": "num_inserted_rows",
            "nullable": true,
            "type": "long"
           }
          ],
          "type": "struct"
         },
         "tableIdentifier": null,
         "typeStr": "pyspark.sql.connect.dataframe.DataFrame"
        }
       ],
       "dbfsResultPath": null,
       "isJsonSchema": true,
       "metadata": {
        "createTempViewForImplicitDf": true,
        "dataframeName": "_sqldf",
        "executionCount": 59
       },
       "overflow": false,
       "plotOptions": {
        "customPlotOptions": {},
        "displayType": "table",
        "pivotAggregation": null,
        "pivotColumns": null,
        "xColumns": null,
        "yColumns": null
       },
       "removedWidgets": [],
       "schema": [
        {
         "metadata": "{}",
         "name": "num_affected_rows",
         "type": "\"long\""
        },
        {
         "metadata": "{}",
         "name": "num_inserted_rows",
         "type": "\"long\""
        }
       ],
       "type": "table"
      }
     },
     "output_type": "display_data"
    }
   ],
   "source": [
    "%sql\n",
    "CREATE OR REPLACE TABLE datamodeling.gold.DimRegion\n",
    "AS\n",
    "WITH remove_duplicates AS(\n",
    "SELECT \n",
    "  DISTINCT(country)\n",
    "FROM datamodeling.silver.silver_table\n",
    ")\n",
    "SELECT *, \n",
    "  row_number() OVER(ORDER BY country) AS DimRegionKey\n",
    "FROM remove_duplicates\n",
    "    "
   ]
  },
  {
   "cell_type": "code",
   "execution_count": 0,
   "metadata": {
    "application/vnd.databricks.v1+cell": {
     "cellMetadata": {
      "byteLimit": 2048000,
      "implicitDf": true,
      "rowLimit": 10000
     },
     "inputWidgets": {},
     "nuid": "d94385c3-e475-4773-97e9-92419a550f43",
     "showTitle": false,
     "tableResultSettingsMap": {},
     "title": ""
    }
   },
   "outputs": [
    {
     "output_type": "display_data",
     "data": {
      "text/html": [
       "<style scoped>\n",
       "  .table-result-container {\n",
       "    max-height: 300px;\n",
       "    overflow: auto;\n",
       "  }\n",
       "  table, th, td {\n",
       "    border: 1px solid black;\n",
       "    border-collapse: collapse;\n",
       "  }\n",
       "  th, td {\n",
       "    padding: 5px;\n",
       "  }\n",
       "  th {\n",
       "    text-align: left;\n",
       "  }\n",
       "</style><div class='table-result-container'><table class='table-result'><thead style='background-color: white'><tr><th>country</th><th>DimRegionKey</th></tr></thead><tbody><tr><td>RSA</td><td>1</td></tr></tbody></table></div>"
      ]
     },
     "metadata": {
      "application/vnd.databricks.v1+output": {
       "addedWidgets": {},
       "aggData": [],
       "aggError": "",
       "aggOverflow": false,
       "aggSchema": [],
       "aggSeriesLimitReached": false,
       "aggType": "",
       "arguments": {},
       "columnCustomDisplayInfos": {},
       "data": [
        [
         "RSA",
         1
        ]
       ],
       "datasetInfos": [
        {
         "name": "_sqldf",
         "schema": {
          "fields": [
           {
            "metadata": {
             "__CHAR_VARCHAR_TYPE_STRING": "varchar(50)"
            },
            "name": "country",
            "nullable": true,
            "type": "string"
           },
           {
            "metadata": {},
            "name": "DimRegionKey",
            "nullable": true,
            "type": "integer"
           }
          ],
          "type": "struct"
         },
         "tableIdentifier": null,
         "typeStr": "pyspark.sql.connect.dataframe.DataFrame"
        }
       ],
       "dbfsResultPath": null,
       "isJsonSchema": true,
       "metadata": {
        "createTempViewForImplicitDf": true,
        "dataframeName": "_sqldf",
        "executionCount": 61
       },
       "overflow": false,
       "plotOptions": {
        "customPlotOptions": {},
        "displayType": "table",
        "pivotAggregation": null,
        "pivotColumns": null,
        "xColumns": null,
        "yColumns": null
       },
       "removedWidgets": [],
       "schema": [
        {
         "metadata": "{\"__CHAR_VARCHAR_TYPE_STRING\": \"varchar(50)\"}",
         "name": "country",
         "type": "\"string\""
        },
        {
         "metadata": "{}",
         "name": "DimRegionKey",
         "type": "\"integer\""
        }
       ],
       "type": "table"
      }
     },
     "output_type": "display_data"
    }
   ],
   "source": [
    "%sql\n",
    "SELECT * FROM datamodeling.gold.dimregion"
   ]
  },
  {
   "cell_type": "markdown",
   "metadata": {
    "application/vnd.databricks.v1+cell": {
     "cellMetadata": {},
     "inputWidgets": {},
     "nuid": "8c9c7a83-722b-439a-943d-529f49b11af5",
     "showTitle": false,
     "tableResultSettingsMap": {},
     "title": ""
    }
   },
   "source": [
    "##  DimSales"
   ]
  },
  {
   "cell_type": "code",
   "execution_count": 0,
   "metadata": {
    "application/vnd.databricks.v1+cell": {
     "cellMetadata": {
      "byteLimit": 2048000,
      "rowLimit": 10000
     },
     "inputWidgets": {},
     "nuid": "94489df6-7a10-47fc-aea6-00e74ee30549",
     "showTitle": false,
     "tableResultSettingsMap": {},
     "title": ""
    }
   },
   "outputs": [
    {
     "output_type": "execute_result",
     "data": {
      "text/plain": [
       "['order_id',\n",
       " 'order_date',\n",
       " 'customer_id',\n",
       " 'customer_name',\n",
       " 'custumee_email',\n",
       " 'product_id',\n",
       " 'product_name',\n",
       " 'product_category',\n",
       " 'quantity',\n",
       " 'unit_price',\n",
       " 'payment_type',\n",
       " 'country',\n",
       " 'last_updated',\n",
       " 'first_name',\n",
       " 'last_name',\n",
       " 'processDate']"
      ]
     },
     "execution_count": 68,
     "metadata": {},
     "output_type": "execute_result"
    }
   ],
   "source": [
    "spark.sql(\"SELECT * FROM datamodeling.silver.silver_table\").columns"
   ]
  },
  {
   "cell_type": "code",
   "execution_count": 0,
   "metadata": {
    "application/vnd.databricks.v1+cell": {
     "cellMetadata": {
      "byteLimit": 2048000,
      "implicitDf": true,
      "rowLimit": 10000
     },
     "inputWidgets": {},
     "nuid": "d0fb00c4-28f7-4c3c-8707-95149517ec89",
     "showTitle": false,
     "tableResultSettingsMap": {},
     "title": ""
    }
   },
   "outputs": [
    {
     "output_type": "display_data",
     "data": {
      "text/html": [
       "<style scoped>\n",
       "  .table-result-container {\n",
       "    max-height: 300px;\n",
       "    overflow: auto;\n",
       "  }\n",
       "  table, th, td {\n",
       "    border: 1px solid black;\n",
       "    border-collapse: collapse;\n",
       "  }\n",
       "  th, td {\n",
       "    padding: 5px;\n",
       "  }\n",
       "  th {\n",
       "    text-align: left;\n",
       "  }\n",
       "</style><div class='table-result-container'><table class='table-result'><thead style='background-color: white'><tr><th>num_affected_rows</th><th>num_inserted_rows</th></tr></thead><tbody></tbody></table></div>"
      ]
     },
     "metadata": {
      "application/vnd.databricks.v1+output": {
       "addedWidgets": {},
       "aggData": [],
       "aggError": "",
       "aggOverflow": false,
       "aggSchema": [],
       "aggSeriesLimitReached": false,
       "aggType": "",
       "arguments": {},
       "columnCustomDisplayInfos": {},
       "data": [],
       "datasetInfos": [
        {
         "name": "_sqldf",
         "schema": {
          "fields": [
           {
            "metadata": {},
            "name": "num_affected_rows",
            "nullable": true,
            "type": "long"
           },
           {
            "metadata": {},
            "name": "num_inserted_rows",
            "nullable": true,
            "type": "long"
           }
          ],
          "type": "struct"
         },
         "tableIdentifier": null,
         "typeStr": "pyspark.sql.connect.dataframe.DataFrame"
        }
       ],
       "dbfsResultPath": null,
       "isJsonSchema": true,
       "metadata": {
        "createTempViewForImplicitDf": true,
        "dataframeName": "_sqldf",
        "executionCount": 74
       },
       "overflow": false,
       "plotOptions": {
        "customPlotOptions": {},
        "displayType": "table",
        "pivotAggregation": null,
        "pivotColumns": null,
        "xColumns": null,
        "yColumns": null
       },
       "removedWidgets": [],
       "schema": [
        {
         "metadata": "{}",
         "name": "num_affected_rows",
         "type": "\"long\""
        },
        {
         "metadata": "{}",
         "name": "num_inserted_rows",
         "type": "\"long\""
        }
       ],
       "type": "table"
      }
     },
     "output_type": "display_data"
    }
   ],
   "source": [
    "%sql\n",
    "CREATE OR REPLACE TABLE datamodeling.gold.DimSales \n",
    "AS\n",
    "WITH remove_duplicates AS(\n",
    "SELECT \n",
    " order_id,\n",
    " order_date,\n",
    " customer_id,\n",
    " customer_name,\n",
    " custumee_email,\n",
    " product_name,\n",
    " product_category,\n",
    " payment_type,\n",
    " country,\n",
    " last_updated,\n",
    " first_name,\n",
    " last_name,\n",
    " processDate\n",
    "FROM datamodeling.silver.silver_table\n",
    ")\n",
    "SELECT *, \n",
    "  row_number() OVER(ORDER BY order_id) AS DimSalesKey\n",
    "FROM remove_duplicates\n",
    "    "
   ]
  },
  {
   "cell_type": "code",
   "execution_count": 0,
   "metadata": {
    "application/vnd.databricks.v1+cell": {
     "cellMetadata": {
      "byteLimit": 2048000,
      "implicitDf": true,
      "rowLimit": 10000
     },
     "inputWidgets": {},
     "nuid": "a025d994-8c3b-40ed-8a4e-00f8c3f65f89",
     "showTitle": false,
     "tableResultSettingsMap": {},
     "title": ""
    }
   },
   "outputs": [
    {
     "output_type": "display_data",
     "data": {
      "text/html": [
       "<style scoped>\n",
       "  .table-result-container {\n",
       "    max-height: 300px;\n",
       "    overflow: auto;\n",
       "  }\n",
       "  table, th, td {\n",
       "    border: 1px solid black;\n",
       "    border-collapse: collapse;\n",
       "  }\n",
       "  th, td {\n",
       "    padding: 5px;\n",
       "  }\n",
       "  th {\n",
       "    text-align: left;\n",
       "  }\n",
       "</style><div class='table-result-container'><table class='table-result'><thead style='background-color: white'><tr><th>order_id</th><th>order_date</th><th>customer_id</th><th>customer_name</th><th>custumee_email</th><th>product_name</th><th>product_category</th><th>payment_type</th><th>country</th><th>last_updated</th><th>first_name</th><th>last_name</th><th>processDate</th><th>DimSalesKey</th></tr></thead><tbody><tr><td>1001</td><td>2025-07-01</td><td>1</td><td>Alice Johnson</td><td>alice@example.com</td><td>Samsung A45</td><td>Electronics</td><td>Credit Card</td><td>RSA</td><td>2025-07-01</td><td>Alice</td><td>Johnson</td><td>2025-07-14</td><td>1</td></tr><tr><td>1002</td><td>2025-07-02</td><td>2</td><td>Dimakatso Malpe</td><td>dimakatso@example.com</td><td>iPhone 14</td><td>Electronics</td><td>PayPal</td><td>RSA</td><td>2025-07-02</td><td>Dimakatso</td><td>Malpe</td><td>2025-07-14</td><td>2</td></tr><tr><td>1003</td><td>2025-07-03</td><td>3</td><td>Lego Mojapelo</td><td>lego@example.com</td><td>PlayStation 5</td><td>Electronics</td><td>Apple Pay</td><td>RSA</td><td>2025-07-03</td><td>Lego</td><td>Mojapelo</td><td>2025-07-14</td><td>3</td></tr><tr><td>1004</td><td>2025-07-04</td><td>4</td><td>Thando Ndlovu</td><td>thando@example.com</td><td>Dell XPS 13</td><td>Electronics</td><td>Credit Card</td><td>RSA</td><td>2025-07-04</td><td>Thando</td><td>Ndlovu</td><td>2025-07-14</td><td>4</td></tr><tr><td>1005</td><td>2025-07-05</td><td>5</td><td>Sipho Mokoena</td><td>sipho@example.com</td><td>Nike Air Max</td><td>Apparel</td><td>PayPal</td><td>RSA</td><td>2025-07-05</td><td>Sipho</td><td>Mokoena</td><td>2025-07-14</td><td>5</td></tr><tr><td>1006</td><td>2025-07-06</td><td>6</td><td>Karabo Sithole</td><td>karabo@example.com</td><td>Samsung TV 55\"</td><td>Electronics</td><td>Credit Card</td><td>RSA</td><td>2025-07-06</td><td>Karabo</td><td>Sithole</td><td>2025-07-14</td><td>6</td></tr><tr><td>1007</td><td>2025-07-07</td><td>7</td><td>Boitumelo Dlamini</td><td>boitumelo@example.com</td><td>Adidas Hoodie</td><td>Apparel</td><td>Google Pay</td><td>RSA</td><td>2025-07-07</td><td>Boitumelo</td><td>Dlamini</td><td>2025-07-14</td><td>7</td></tr><tr><td>1008</td><td>2025-07-08</td><td>8</td><td>Lehlohonolo Mabuza</td><td>lehlohonolo@example.com</td><td>Canon EOS 90D</td><td>Electronics</td><td>Credit Card</td><td>RSA</td><td>2025-07-08</td><td>Lehlohonolo</td><td>Mabuza</td><td>2025-07-14</td><td>8</td></tr><tr><td>1009</td><td>2025-07-09</td><td>9</td><td>Naledi Khumalo</td><td>naledi@example.com</td><td>Zara Jacket</td><td>Apparel</td><td>PayPal</td><td>RSA</td><td>2025-07-09</td><td>Naledi</td><td>Khumalo</td><td>2025-07-14</td><td>9</td></tr><tr><td>1010</td><td>2025-07-10</td><td>10</td><td>Tshepo Mthembu</td><td>tshepo@example.com</td><td>MacBook Pro 14\"</td><td>Electronics</td><td>Apple Pay</td><td>RSA</td><td>2025-07-10</td><td>Tshepo</td><td>Mthembu</td><td>2025-07-14</td><td>10</td></tr><tr><td>1011</td><td>2025-07-11</td><td>11</td><td>Refilwe Nkosi</td><td>refilwe@example.com</td><td>iPad Air</td><td>Electronics</td><td>Google Pay</td><td>RSA</td><td>2025-07-11</td><td>Refilwe</td><td>Nkosi</td><td>2025-07-14</td><td>11</td></tr><tr><td>1012</td><td>2025-07-12</td><td>12</td><td>Mpho Sekhukhune</td><td>mpho@example.com</td><td>Reebok Classic</td><td>Apparel</td><td>Credit Card</td><td>RSA</td><td>2025-07-12</td><td>Mpho</td><td>Sekhukhune</td><td>2025-07-14</td><td>12</td></tr><tr><td>1013</td><td>2025-07-13</td><td>13</td><td>Kagiso Motsepe</td><td>kagiso@example.com</td><td>GoPro Hero 12</td><td>Electronics</td><td>PayPal</td><td>RSA</td><td>2025-07-13</td><td>Kagiso</td><td>Motsepe</td><td>2025-07-14</td><td>13</td></tr><tr><td>1014</td><td>2025-07-14</td><td>14</td><td>Zanele Mhlongo</td><td>zanele@example.com</td><td>Sony WH-1000XM5</td><td>Electronics</td><td>Credit Card</td><td>RSA</td><td>2025-07-14</td><td>Zanele</td><td>Mhlongo</td><td>2025-07-14</td><td>14</td></tr><tr><td>1015</td><td>2025-07-15</td><td>15</td><td>Lerato Mashaba</td><td>lerato@example.com</td><td>Asics Gel-Kayano</td><td>Apparel</td><td>Google Pay</td><td>RSA</td><td>2025-07-15</td><td>Lerato</td><td>Mashaba</td><td>2025-07-14</td><td>15</td></tr><tr><td>1016</td><td>2025-07-16</td><td>16</td><td>Andile Nxumalo</td><td>andile@example.com</td><td>Fitbit Versa 4</td><td>Electronics</td><td>Apple Pay</td><td>RSA</td><td>2025-07-16</td><td>Andile</td><td>Nxumalo</td><td>2025-07-14</td><td>16</td></tr><tr><td>1017</td><td>2025-07-17</td><td>17</td><td>Nokuthula Shongwe</td><td>nokuthula@example.com</td><td>HP Spectre x360</td><td>Electronics</td><td>Credit Card</td><td>RSA</td><td>2025-07-17</td><td>Nokuthula</td><td>Shongwe</td><td>2025-07-14</td><td>17</td></tr><tr><td>1018</td><td>2025-07-18</td><td>18</td><td>Thabang Zulu</td><td>thabang@example.com</td><td>Xbox Series X</td><td>Electronics</td><td>PayPal</td><td>RSA</td><td>2025-07-18</td><td>Thabang</td><td>Zulu</td><td>2025-07-14</td><td>18</td></tr><tr><td>1019</td><td>2025-07-19</td><td>19</td><td>Kelebogile Dube</td><td>kelebogile@example.com</td><td>H&M Sweatshirt</td><td>Apparel</td><td>Google Pay</td><td>RSA</td><td>2025-07-19</td><td>Kelebogile</td><td>Dube</td><td>2025-07-14</td><td>19</td></tr><tr><td>1020</td><td>2025-07-20</td><td>20</td><td>Sibongile Mazibuko</td><td>sibongile@example.com</td><td>Huawei MateBook D15</td><td>Electronics</td><td>Credit Card</td><td>RSA</td><td>2025-07-20</td><td>Sibongile</td><td>Mazibuko</td><td>2025-07-14</td><td>20</td></tr></tbody></table></div>"
      ]
     },
     "metadata": {
      "application/vnd.databricks.v1+output": {
       "addedWidgets": {},
       "aggData": [],
       "aggError": "",
       "aggOverflow": false,
       "aggSchema": [],
       "aggSeriesLimitReached": false,
       "aggType": "",
       "arguments": {},
       "columnCustomDisplayInfos": {},
       "data": [
        [
         1001,
         "2025-07-01",
         1,
         "Alice Johnson",
         "alice@example.com",
         "Samsung A45",
         "Electronics",
         "Credit Card",
         "RSA",
         "2025-07-01",
         "Alice",
         "Johnson",
         "2025-07-14",
         1
        ],
        [
         1002,
         "2025-07-02",
         2,
         "Dimakatso Malpe",
         "dimakatso@example.com",
         "iPhone 14",
         "Electronics",
         "PayPal",
         "RSA",
         "2025-07-02",
         "Dimakatso",
         "Malpe",
         "2025-07-14",
         2
        ],
        [
         1003,
         "2025-07-03",
         3,
         "Lego Mojapelo",
         "lego@example.com",
         "PlayStation 5",
         "Electronics",
         "Apple Pay",
         "RSA",
         "2025-07-03",
         "Lego",
         "Mojapelo",
         "2025-07-14",
         3
        ],
        [
         1004,
         "2025-07-04",
         4,
         "Thando Ndlovu",
         "thando@example.com",
         "Dell XPS 13",
         "Electronics",
         "Credit Card",
         "RSA",
         "2025-07-04",
         "Thando",
         "Ndlovu",
         "2025-07-14",
         4
        ],
        [
         1005,
         "2025-07-05",
         5,
         "Sipho Mokoena",
         "sipho@example.com",
         "Nike Air Max",
         "Apparel",
         "PayPal",
         "RSA",
         "2025-07-05",
         "Sipho",
         "Mokoena",
         "2025-07-14",
         5
        ],
        [
         1006,
         "2025-07-06",
         6,
         "Karabo Sithole",
         "karabo@example.com",
         "Samsung TV 55\"",
         "Electronics",
         "Credit Card",
         "RSA",
         "2025-07-06",
         "Karabo",
         "Sithole",
         "2025-07-14",
         6
        ],
        [
         1007,
         "2025-07-07",
         7,
         "Boitumelo Dlamini",
         "boitumelo@example.com",
         "Adidas Hoodie",
         "Apparel",
         "Google Pay",
         "RSA",
         "2025-07-07",
         "Boitumelo",
         "Dlamini",
         "2025-07-14",
         7
        ],
        [
         1008,
         "2025-07-08",
         8,
         "Lehlohonolo Mabuza",
         "lehlohonolo@example.com",
         "Canon EOS 90D",
         "Electronics",
         "Credit Card",
         "RSA",
         "2025-07-08",
         "Lehlohonolo",
         "Mabuza",
         "2025-07-14",
         8
        ],
        [
         1009,
         "2025-07-09",
         9,
         "Naledi Khumalo",
         "naledi@example.com",
         "Zara Jacket",
         "Apparel",
         "PayPal",
         "RSA",
         "2025-07-09",
         "Naledi",
         "Khumalo",
         "2025-07-14",
         9
        ],
        [
         1010,
         "2025-07-10",
         10,
         "Tshepo Mthembu",
         "tshepo@example.com",
         "MacBook Pro 14\"",
         "Electronics",
         "Apple Pay",
         "RSA",
         "2025-07-10",
         "Tshepo",
         "Mthembu",
         "2025-07-14",
         10
        ],
        [
         1011,
         "2025-07-11",
         11,
         "Refilwe Nkosi",
         "refilwe@example.com",
         "iPad Air",
         "Electronics",
         "Google Pay",
         "RSA",
         "2025-07-11",
         "Refilwe",
         "Nkosi",
         "2025-07-14",
         11
        ],
        [
         1012,
         "2025-07-12",
         12,
         "Mpho Sekhukhune",
         "mpho@example.com",
         "Reebok Classic",
         "Apparel",
         "Credit Card",
         "RSA",
         "2025-07-12",
         "Mpho",
         "Sekhukhune",
         "2025-07-14",
         12
        ],
        [
         1013,
         "2025-07-13",
         13,
         "Kagiso Motsepe",
         "kagiso@example.com",
         "GoPro Hero 12",
         "Electronics",
         "PayPal",
         "RSA",
         "2025-07-13",
         "Kagiso",
         "Motsepe",
         "2025-07-14",
         13
        ],
        [
         1014,
         "2025-07-14",
         14,
         "Zanele Mhlongo",
         "zanele@example.com",
         "Sony WH-1000XM5",
         "Electronics",
         "Credit Card",
         "RSA",
         "2025-07-14",
         "Zanele",
         "Mhlongo",
         "2025-07-14",
         14
        ],
        [
         1015,
         "2025-07-15",
         15,
         "Lerato Mashaba",
         "lerato@example.com",
         "Asics Gel-Kayano",
         "Apparel",
         "Google Pay",
         "RSA",
         "2025-07-15",
         "Lerato",
         "Mashaba",
         "2025-07-14",
         15
        ],
        [
         1016,
         "2025-07-16",
         16,
         "Andile Nxumalo",
         "andile@example.com",
         "Fitbit Versa 4",
         "Electronics",
         "Apple Pay",
         "RSA",
         "2025-07-16",
         "Andile",
         "Nxumalo",
         "2025-07-14",
         16
        ],
        [
         1017,
         "2025-07-17",
         17,
         "Nokuthula Shongwe",
         "nokuthula@example.com",
         "HP Spectre x360",
         "Electronics",
         "Credit Card",
         "RSA",
         "2025-07-17",
         "Nokuthula",
         "Shongwe",
         "2025-07-14",
         17
        ],
        [
         1018,
         "2025-07-18",
         18,
         "Thabang Zulu",
         "thabang@example.com",
         "Xbox Series X",
         "Electronics",
         "PayPal",
         "RSA",
         "2025-07-18",
         "Thabang",
         "Zulu",
         "2025-07-14",
         18
        ],
        [
         1019,
         "2025-07-19",
         19,
         "Kelebogile Dube",
         "kelebogile@example.com",
         "H&M Sweatshirt",
         "Apparel",
         "Google Pay",
         "RSA",
         "2025-07-19",
         "Kelebogile",
         "Dube",
         "2025-07-14",
         19
        ],
        [
         1020,
         "2025-07-20",
         20,
         "Sibongile Mazibuko",
         "sibongile@example.com",
         "Huawei MateBook D15",
         "Electronics",
         "Credit Card",
         "RSA",
         "2025-07-20",
         "Sibongile",
         "Mazibuko",
         "2025-07-14",
         20
        ]
       ],
       "datasetInfos": [
        {
         "name": "_sqldf",
         "schema": {
          "fields": [
           {
            "metadata": {},
            "name": "order_id",
            "nullable": true,
            "type": "integer"
           },
           {
            "metadata": {},
            "name": "order_date",
            "nullable": true,
            "type": "date"
           },
           {
            "metadata": {},
            "name": "customer_id",
            "nullable": true,
            "type": "integer"
           },
           {
            "metadata": {
             "__CHAR_VARCHAR_TYPE_STRING": "varchar(100)"
            },
            "name": "customer_name",
            "nullable": true,
            "type": "string"
           },
           {
            "metadata": {
             "__CHAR_VARCHAR_TYPE_STRING": "varchar(100)"
            },
            "name": "custumee_email",
            "nullable": true,
            "type": "string"
           },
           {
            "metadata": {
             "__CHAR_VARCHAR_TYPE_STRING": "varchar(100)"
            },
            "name": "product_name",
            "nullable": true,
            "type": "string"
           },
           {
            "metadata": {
             "__CHAR_VARCHAR_TYPE_STRING": "varchar(50)"
            },
            "name": "product_category",
            "nullable": true,
            "type": "string"
           },
           {
            "metadata": {
             "__CHAR_VARCHAR_TYPE_STRING": "varchar(50)"
            },
            "name": "payment_type",
            "nullable": true,
            "type": "string"
           },
           {
            "metadata": {
             "__CHAR_VARCHAR_TYPE_STRING": "varchar(50)"
            },
            "name": "country",
            "nullable": true,
            "type": "string"
           },
           {
            "metadata": {},
            "name": "last_updated",
            "nullable": true,
            "type": "date"
           },
           {
            "metadata": {},
            "name": "first_name",
            "nullable": true,
            "type": "string"
           },
           {
            "metadata": {},
            "name": "last_name",
            "nullable": true,
            "type": "string"
           },
           {
            "metadata": {},
            "name": "processDate",
            "nullable": true,
            "type": "date"
           },
           {
            "metadata": {},
            "name": "DimSalesKey",
            "nullable": true,
            "type": "integer"
           }
          ],
          "type": "struct"
         },
         "tableIdentifier": null,
         "typeStr": "pyspark.sql.connect.dataframe.DataFrame"
        }
       ],
       "dbfsResultPath": null,
       "isJsonSchema": true,
       "metadata": {
        "createTempViewForImplicitDf": true,
        "dataframeName": "_sqldf",
        "executionCount": 75
       },
       "overflow": false,
       "plotOptions": {
        "customPlotOptions": {},
        "displayType": "table",
        "pivotAggregation": null,
        "pivotColumns": null,
        "xColumns": null,
        "yColumns": null
       },
       "removedWidgets": [],
       "schema": [
        {
         "metadata": "{}",
         "name": "order_id",
         "type": "\"integer\""
        },
        {
         "metadata": "{}",
         "name": "order_date",
         "type": "\"date\""
        },
        {
         "metadata": "{}",
         "name": "customer_id",
         "type": "\"integer\""
        },
        {
         "metadata": "{\"__CHAR_VARCHAR_TYPE_STRING\": \"varchar(100)\"}",
         "name": "customer_name",
         "type": "\"string\""
        },
        {
         "metadata": "{\"__CHAR_VARCHAR_TYPE_STRING\": \"varchar(100)\"}",
         "name": "custumee_email",
         "type": "\"string\""
        },
        {
         "metadata": "{\"__CHAR_VARCHAR_TYPE_STRING\": \"varchar(100)\"}",
         "name": "product_name",
         "type": "\"string\""
        },
        {
         "metadata": "{\"__CHAR_VARCHAR_TYPE_STRING\": \"varchar(50)\"}",
         "name": "product_category",
         "type": "\"string\""
        },
        {
         "metadata": "{\"__CHAR_VARCHAR_TYPE_STRING\": \"varchar(50)\"}",
         "name": "payment_type",
         "type": "\"string\""
        },
        {
         "metadata": "{\"__CHAR_VARCHAR_TYPE_STRING\": \"varchar(50)\"}",
         "name": "country",
         "type": "\"string\""
        },
        {
         "metadata": "{}",
         "name": "last_updated",
         "type": "\"date\""
        },
        {
         "metadata": "{}",
         "name": "first_name",
         "type": "\"string\""
        },
        {
         "metadata": "{}",
         "name": "last_name",
         "type": "\"string\""
        },
        {
         "metadata": "{}",
         "name": "processDate",
         "type": "\"date\""
        },
        {
         "metadata": "{}",
         "name": "DimSalesKey",
         "type": "\"integer\""
        }
       ],
       "type": "table"
      }
     },
     "output_type": "display_data"
    }
   ],
   "source": [
    "%sql\n",
    "SELECT * FROM datamodeling.gold.dimsales"
   ]
  },
  {
   "cell_type": "markdown",
   "metadata": {
    "application/vnd.databricks.v1+cell": {
     "cellMetadata": {},
     "inputWidgets": {},
     "nuid": "8ee2c923-d933-41a3-93ce-2289605aa838",
     "showTitle": false,
     "tableResultSettingsMap": {},
     "title": ""
    }
   },
   "source": [
    "## FACT TABLE"
   ]
  },
  {
   "cell_type": "code",
   "execution_count": 0,
   "metadata": {
    "application/vnd.databricks.v1+cell": {
     "cellMetadata": {
      "byteLimit": 2048000,
      "implicitDf": true,
      "rowLimit": 10000
     },
     "inputWidgets": {},
     "nuid": "0da0c6c1-c23e-4f43-9c92-5a0d7d131eb5",
     "showTitle": false,
     "tableResultSettingsMap": {},
     "title": ""
    }
   },
   "outputs": [
    {
     "output_type": "display_data",
     "data": {
      "text/html": [
       "<style scoped>\n",
       "  .table-result-container {\n",
       "    max-height: 300px;\n",
       "    overflow: auto;\n",
       "  }\n",
       "  table, th, td {\n",
       "    border: 1px solid black;\n",
       "    border-collapse: collapse;\n",
       "  }\n",
       "  th, td {\n",
       "    padding: 5px;\n",
       "  }\n",
       "  th {\n",
       "    text-align: left;\n",
       "  }\n",
       "</style><div class='table-result-container'><table class='table-result'><thead style='background-color: white'><tr><th>num_affected_rows</th><th>num_inserted_rows</th></tr></thead><tbody></tbody></table></div>"
      ]
     },
     "metadata": {
      "application/vnd.databricks.v1+output": {
       "addedWidgets": {},
       "aggData": [],
       "aggError": "",
       "aggOverflow": false,
       "aggSchema": [],
       "aggSeriesLimitReached": false,
       "aggType": "",
       "arguments": {},
       "columnCustomDisplayInfos": {},
       "data": [],
       "datasetInfos": [
        {
         "name": "_sqldf",
         "schema": {
          "fields": [
           {
            "metadata": {},
            "name": "num_affected_rows",
            "nullable": true,
            "type": "long"
           },
           {
            "metadata": {},
            "name": "num_inserted_rows",
            "nullable": true,
            "type": "long"
           }
          ],
          "type": "struct"
         },
         "tableIdentifier": null,
         "typeStr": "pyspark.sql.connect.dataframe.DataFrame"
        }
       ],
       "dbfsResultPath": null,
       "isJsonSchema": true,
       "metadata": {
        "createTempViewForImplicitDf": true,
        "dataframeName": "_sqldf",
        "executionCount": 87
       },
       "overflow": false,
       "plotOptions": {
        "customPlotOptions": {},
        "displayType": "table",
        "pivotAggregation": null,
        "pivotColumns": null,
        "xColumns": null,
        "yColumns": null
       },
       "removedWidgets": [],
       "schema": [
        {
         "metadata": "{}",
         "name": "num_affected_rows",
         "type": "\"long\""
        },
        {
         "metadata": "{}",
         "name": "num_inserted_rows",
         "type": "\"long\""
        }
       ],
       "type": "table"
      }
     },
     "output_type": "display_data"
    }
   ],
   "source": [
    "%sql\n",
    "CREATE OR REPLACE TABLE datamodeling.gold.FactSales\n",
    "AS\n",
    "SELECT\n",
    "    s.DimSalesKey,\n",
    "    c.DimCustomerKey,\n",
    "    p.DimProductKey,\n",
    "    d.DimPaymentKey,\n",
    "    r.DimRegionKey,\n",
    "    f.unit_price,\n",
    "    f.quantity\n",
    "FROM \n",
    "  datamodeling.silver.silver_table f\n",
    "LEFT JOIN\n",
    "  datamodeling.gold.DimCustomers c\n",
    "ON\n",
    "  f.customer_id = c.customer_id\n",
    "LEFT JOIN\n",
    "  datamodeling.gold.DimProducts p\n",
    "ON\n",
    "  f.product_id = p.product_id\n",
    "LEFT JOIN\n",
    "  datamodeling.gold.DimPayments d\n",
    "ON\n",
    "  f.payment_type = d.payment_type\n",
    "LEFT JOIN\n",
    "  datamodeling.gold.DimRegion r\n",
    "ON\n",
    "  f.country = r.country\n",
    "LEFT JOIN\n",
    "  datamodeling.gold.DimSales s\n",
    "ON\n",
    "  f.order_id = s.order_id"
   ]
  },
  {
   "cell_type": "code",
   "execution_count": 0,
   "metadata": {
    "application/vnd.databricks.v1+cell": {
     "cellMetadata": {
      "byteLimit": 2048000,
      "implicitDf": true,
      "rowLimit": 10000
     },
     "inputWidgets": {},
     "nuid": "d6c8e984-e2bd-45e2-b34f-c83300a1940d",
     "showTitle": false,
     "tableResultSettingsMap": {},
     "title": ""
    }
   },
   "outputs": [
    {
     "output_type": "display_data",
     "data": {
      "text/html": [
       "<style scoped>\n",
       "  .table-result-container {\n",
       "    max-height: 300px;\n",
       "    overflow: auto;\n",
       "  }\n",
       "  table, th, td {\n",
       "    border: 1px solid black;\n",
       "    border-collapse: collapse;\n",
       "  }\n",
       "  th, td {\n",
       "    padding: 5px;\n",
       "  }\n",
       "  th {\n",
       "    text-align: left;\n",
       "  }\n",
       "</style><div class='table-result-container'><table class='table-result'><thead style='background-color: white'><tr><th>DimSalesKey</th><th>DimCustomerKey</th><th>DimProductKey</th><th>DimPaymentKey</th><th>DimRegionKey</th><th>unit_price</th><th>quantity</th></tr></thead><tbody><tr><td>1</td><td>1</td><td>1</td><td>2</td><td>1</td><td>1599.99</td><td>1</td></tr><tr><td>2</td><td>2</td><td>2</td><td>4</td><td>1</td><td>2689.99</td><td>2</td></tr><tr><td>3</td><td>3</td><td>3</td><td>1</td><td>1</td><td>499.99</td><td>1</td></tr><tr><td>4</td><td>4</td><td>4</td><td>2</td><td>1</td><td>1299.99</td><td>1</td></tr><tr><td>5</td><td>5</td><td>5</td><td>4</td><td>1</td><td>299.99</td><td>2</td></tr><tr><td>6</td><td>6</td><td>6</td><td>2</td><td>1</td><td>899.99</td><td>1</td></tr><tr><td>7</td><td>7</td><td>7</td><td>3</td><td>1</td><td>149.99</td><td>3</td></tr><tr><td>8</td><td>8</td><td>8</td><td>2</td><td>1</td><td>1099.99</td><td>1</td></tr><tr><td>9</td><td>9</td><td>9</td><td>4</td><td>1</td><td>199.99</td><td>1</td></tr><tr><td>10</td><td>10</td><td>10</td><td>1</td><td>1</td><td>2499.99</td><td>1</td></tr><tr><td>11</td><td>11</td><td>11</td><td>3</td><td>1</td><td>799.99</td><td>2</td></tr><tr><td>12</td><td>12</td><td>12</td><td>2</td><td>1</td><td>119.99</td><td>1</td></tr><tr><td>13</td><td>13</td><td>13</td><td>4</td><td>1</td><td>499.99</td><td>1</td></tr><tr><td>14</td><td>14</td><td>14</td><td>2</td><td>1</td><td>399.99</td><td>1</td></tr><tr><td>15</td><td>15</td><td>15</td><td>3</td><td>1</td><td>249.99</td><td>2</td></tr><tr><td>16</td><td>16</td><td>16</td><td>1</td><td>1</td><td>229.99</td><td>1</td></tr><tr><td>17</td><td>17</td><td>17</td><td>2</td><td>1</td><td>1599.99</td><td>1</td></tr><tr><td>18</td><td>18</td><td>18</td><td>4</td><td>1</td><td>499.99</td><td>1</td></tr><tr><td>19</td><td>19</td><td>19</td><td>3</td><td>1</td><td>89.99</td><td>3</td></tr><tr><td>20</td><td>20</td><td>20</td><td>2</td><td>1</td><td>1099.99</td><td>1</td></tr></tbody></table></div>"
      ]
     },
     "metadata": {
      "application/vnd.databricks.v1+output": {
       "addedWidgets": {},
       "aggData": [],
       "aggError": "",
       "aggOverflow": false,
       "aggSchema": [],
       "aggSeriesLimitReached": false,
       "aggType": "",
       "arguments": {},
       "columnCustomDisplayInfos": {},
       "data": [
        [
         1,
         1,
         1,
         2,
         1,
         "1599.99",
         1
        ],
        [
         2,
         2,
         2,
         4,
         1,
         "2689.99",
         2
        ],
        [
         3,
         3,
         3,
         1,
         1,
         "499.99",
         1
        ],
        [
         4,
         4,
         4,
         2,
         1,
         "1299.99",
         1
        ],
        [
         5,
         5,
         5,
         4,
         1,
         "299.99",
         2
        ],
        [
         6,
         6,
         6,
         2,
         1,
         "899.99",
         1
        ],
        [
         7,
         7,
         7,
         3,
         1,
         "149.99",
         3
        ],
        [
         8,
         8,
         8,
         2,
         1,
         "1099.99",
         1
        ],
        [
         9,
         9,
         9,
         4,
         1,
         "199.99",
         1
        ],
        [
         10,
         10,
         10,
         1,
         1,
         "2499.99",
         1
        ],
        [
         11,
         11,
         11,
         3,
         1,
         "799.99",
         2
        ],
        [
         12,
         12,
         12,
         2,
         1,
         "119.99",
         1
        ],
        [
         13,
         13,
         13,
         4,
         1,
         "499.99",
         1
        ],
        [
         14,
         14,
         14,
         2,
         1,
         "399.99",
         1
        ],
        [
         15,
         15,
         15,
         3,
         1,
         "249.99",
         2
        ],
        [
         16,
         16,
         16,
         1,
         1,
         "229.99",
         1
        ],
        [
         17,
         17,
         17,
         2,
         1,
         "1599.99",
         1
        ],
        [
         18,
         18,
         18,
         4,
         1,
         "499.99",
         1
        ],
        [
         19,
         19,
         19,
         3,
         1,
         "89.99",
         3
        ],
        [
         20,
         20,
         20,
         2,
         1,
         "1099.99",
         1
        ]
       ],
       "datasetInfos": [
        {
         "name": "_sqldf",
         "schema": {
          "fields": [
           {
            "metadata": {},
            "name": "DimSalesKey",
            "nullable": true,
            "type": "integer"
           },
           {
            "metadata": {},
            "name": "DimCustomerKey",
            "nullable": true,
            "type": "integer"
           },
           {
            "metadata": {},
            "name": "DimProductKey",
            "nullable": true,
            "type": "integer"
           },
           {
            "metadata": {},
            "name": "DimPaymentKey",
            "nullable": true,
            "type": "integer"
           },
           {
            "metadata": {},
            "name": "DimRegionKey",
            "nullable": true,
            "type": "integer"
           },
           {
            "metadata": {},
            "name": "unit_price",
            "nullable": true,
            "type": "decimal(10,2)"
           },
           {
            "metadata": {},
            "name": "quantity",
            "nullable": true,
            "type": "integer"
           }
          ],
          "type": "struct"
         },
         "tableIdentifier": null,
         "typeStr": "pyspark.sql.connect.dataframe.DataFrame"
        }
       ],
       "dbfsResultPath": null,
       "isJsonSchema": true,
       "metadata": {
        "createTempViewForImplicitDf": true,
        "dataframeName": "_sqldf",
        "executionCount": 88
       },
       "overflow": false,
       "plotOptions": {
        "customPlotOptions": {},
        "displayType": "table",
        "pivotAggregation": null,
        "pivotColumns": null,
        "xColumns": null,
        "yColumns": null
       },
       "removedWidgets": [],
       "schema": [
        {
         "metadata": "{}",
         "name": "DimSalesKey",
         "type": "\"integer\""
        },
        {
         "metadata": "{}",
         "name": "DimCustomerKey",
         "type": "\"integer\""
        },
        {
         "metadata": "{}",
         "name": "DimProductKey",
         "type": "\"integer\""
        },
        {
         "metadata": "{}",
         "name": "DimPaymentKey",
         "type": "\"integer\""
        },
        {
         "metadata": "{}",
         "name": "DimRegionKey",
         "type": "\"integer\""
        },
        {
         "metadata": "{}",
         "name": "unit_price",
         "type": "\"decimal(10,2)\""
        },
        {
         "metadata": "{}",
         "name": "quantity",
         "type": "\"integer\""
        }
       ],
       "type": "table"
      }
     },
     "output_type": "display_data"
    }
   ],
   "source": [
    "%sql\n",
    "SELECT * FROM datamodeling.gold.factsales"
   ]
  }
 ],
 "metadata": {
  "application/vnd.databricks.v1+notebook": {
   "computePreferences": null,
   "dashboards": [],
   "environmentMetadata": {
    "base_environment": "",
    "environment_version": "2"
   },
   "inputWidgetPreferences": null,
   "language": "python",
   "notebookMetadata": {
    "mostRecentlyExecutedCommandWithImplicitDF": {
     "commandId": 6974590667348869,
     "dataframes": [
      "_sqldf"
     ]
    },
    "pythonIndentUnit": 4
   },
   "notebookName": "Gold",
   "widgets": {}
  },
  "language_info": {
   "name": "python"
  }
 },
 "nbformat": 4,
 "nbformat_minor": 0
}